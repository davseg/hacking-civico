{
  "nbformat": 4,
  "nbformat_minor": 0,
  "metadata": {
    "colab": {
      "name": "02-python-101.ipynb",
      "provenance": [],
      "collapsed_sections": [],
      "authorship_tag": "ABX9TyP8EScKbaJoZdQdrhWRib/9",
      "include_colab_link": true
    },
    "kernelspec": {
      "name": "python3",
      "display_name": "Python 3"
    }
  },
  "cells": [
    {
      "cell_type": "markdown",
      "metadata": {
        "id": "view-in-github",
        "colab_type": "text"
      },
      "source": [
        "<a href=\"https://colab.research.google.com/github/davseg/hacking-civico/blob/master/tareas/02_python_101.ipynb\" target=\"_parent\"><img src=\"https://colab.research.google.com/assets/colab-badge.svg\" alt=\"Open In Colab\"/></a>"
      ]
    },
    {
      "cell_type": "markdown",
      "metadata": {
        "id": "KgjMRTtcvYLv",
        "colab_type": "text"
      },
      "source": [
        "Actividad 1: densidad poblacional\n",
        "\n",
        "1a. Datos (fuente: Wikipedia)"
      ]
    },
    {
      "cell_type": "code",
      "metadata": {
        "id": "27Jd8fpNlz7k",
        "colab_type": "code",
        "colab": {}
      },
      "source": [
        "zonas = [{'lugar': 'Actopan', 'habitantes': 29223, 'kilometros': 11},\n",
        "         {'lugar': 'Hidalgo', 'habitantes': 2858359, 'kilometros': 20813},\n",
        "         {'lugar': 'México', 'habitantes': 112336538, 'kilometros': 1964375},]"
      ],
      "execution_count": 33,
      "outputs": []
    },
    {
      "cell_type": "markdown",
      "metadata": {
        "id": "l3Nt1OaeyMdc",
        "colab_type": "text"
      },
      "source": [
        "1b. Fórmula (fuente: Wikipedia)"
      ]
    },
    {
      "cell_type": "code",
      "metadata": {
        "id": "h5QlhFYMyVYG",
        "colab_type": "code",
        "colab": {}
      },
      "source": [
        "def densidad (habitantes, kilometros):\n",
        "  return (habitantes/kilometros)"
      ],
      "execution_count": 36,
      "outputs": []
    },
    {
      "cell_type": "markdown",
      "metadata": {
        "id": "R_rjAqZWysMt",
        "colab_type": "text"
      },
      "source": [
        "1c. Resultado"
      ]
    },
    {
      "cell_type": "code",
      "metadata": {
        "id": "EgUgKNB3y0JB",
        "colab_type": "code",
        "colab": {
          "base_uri": "https://localhost:8080/",
          "height": 68
        },
        "outputId": "26fbb585-aefa-414e-f0b0-7b80e7ec37ed"
      },
      "source": [
        "for t in zonas:\n",
        "  densidad_poblacion = densidad (t['habitantes'], t['kilometros'])\n",
        "  print('La densidad poblacional es ' + str(densidad_poblacion) + ' en ' + t['lugar'])"
      ],
      "execution_count": 40,
      "outputs": [
        {
          "output_type": "stream",
          "text": [
            "La densidad poblacional es 2656.6363636363635 en Actopan\n",
            "La densidad poblacional es 137.3352712247153 en Hidalgo\n",
            "La densidad poblacional es 57.18691084950684 en México\n"
          ],
          "name": "stdout"
        }
      ]
    },
    {
      "cell_type": "markdown",
      "metadata": {
        "id": "cuLYpyKIHn-V",
        "colab_type": "text"
      },
      "source": [
        "Los resultados arrujan que la densidad poblacional es menor a medida que analizamos un área geográfica mayor."
      ]
    },
    {
      "cell_type": "markdown",
      "metadata": {
        "id": "0mrX_9U3DZZM",
        "colab_type": "text"
      },
      "source": [
        "Actividad 2: gasto per cápita\n",
        "\n",
        "2a. Datos (fuente: INEGI)"
      ]
    },
    {
      "cell_type": "code",
      "metadata": {
        "id": "xjPmckNZDkjO",
        "colab_type": "code",
        "colab": {}
      },
      "source": [
        "inversion_hidalgo = {'2019': 85732297, '2018': 2864811289}"
      ],
      "execution_count": 50,
      "outputs": []
    },
    {
      "cell_type": "markdown",
      "metadata": {
        "id": "adj4ZOXOD8nr",
        "colab_type": "text"
      },
      "source": [
        "2b. Fórmula"
      ]
    },
    {
      "cell_type": "code",
      "metadata": {
        "id": "k6nwr7BSEB7A",
        "colab_type": "code",
        "colab": {}
      },
      "source": [
        "def inversion_por_habitante(monto, habitantes):\n",
        "  inversion = monto/habitantes\n",
        "  return inversion"
      ],
      "execution_count": 51,
      "outputs": []
    },
    {
      "cell_type": "markdown",
      "metadata": {
        "id": "1bgiLyUVEWm3",
        "colab_type": "text"
      },
      "source": [
        "2c. Resultado"
      ]
    },
    {
      "cell_type": "code",
      "metadata": {
        "id": "lJj6MNQxEZCV",
        "colab_type": "code",
        "colab": {
          "base_uri": "https://localhost:8080/",
          "height": 51
        },
        "outputId": "8a5757c9-1eb5-4a1e-8ad1-30c01307b939"
      },
      "source": [
        "for año, valor in inversion_hidalgo.items():\n",
        "  i = inversion_por_habitante (valor, zonas[1] ['habitantes'])\n",
        "  print('La inversión por habitante fue de ' + str(i) + ' en Hidalgo durante ' + año)"
      ],
      "execution_count": 52,
      "outputs": [
        {
          "output_type": "stream",
          "text": [
            "La inversión por habitante fue de 29.99353720089044 en Hidalgo durante 2019\n",
            "La inversión por habitante fue de 1002.2573403130957 en Hidalgo durante 2018\n"
          ],
          "name": "stdout"
        }
      ]
    },
    {
      "cell_type": "markdown",
      "metadata": {
        "id": "7ft6Hhq5IA1E",
        "colab_type": "text"
      },
      "source": [
        "La diferencia absoluta de la inversión per cápita entre 2019 y 2018 fue de aprox. menos $972, lo cual representa una tasa de crecimiento de -97%"
      ]
    },
    {
      "cell_type": "markdown",
      "metadata": {
        "id": "mVdoaNrrJokJ",
        "colab_type": "text"
      },
      "source": [
        "Actividad 3: análisis\n",
        "\n",
        "La densidad poblacional hace referencia a la cuota territorial promedio por habitante, mientras que el gasto per cápita mide el gasto gubernamental medio por persona. Ambos indicadores son importantes en tanto permiten desagregar información bastante general y así comparar la situación de diversos entes de estudio.\n",
        "\n",
        "El gobierno podría utilizar tal información, por un lado, para analizar la tendencia demográfica y diseñar políticas públicas adecuadas y, por otra parte, buscar alternativas para eficientar los recursos económicos."
      ]
    }
  ]
}