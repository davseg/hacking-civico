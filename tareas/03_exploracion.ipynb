{
  "nbformat": 4,
  "nbformat_minor": 0,
  "metadata": {
    "colab": {
      "name": "03-exploracion.ipynb",
      "provenance": [],
      "collapsed_sections": [],
      "include_colab_link": true
    },
    "kernelspec": {
      "name": "python3",
      "display_name": "Python 3"
    }
  },
  "cells": [
    {
      "cell_type": "markdown",
      "metadata": {
        "id": "view-in-github",
        "colab_type": "text"
      },
      "source": [
        "<a href=\"https://colab.research.google.com/github/davseg/hacking-civico/blob/master/tareas/03_exploracion.ipynb\" target=\"_parent\"><img src=\"https://colab.research.google.com/assets/colab-badge.svg\" alt=\"Open In Colab\"/></a>"
      ]
    },
    {
      "cell_type": "markdown",
      "metadata": {
        "id": "T7NS_uk_pUK6",
        "colab_type": "text"
      },
      "source": [
        "<p align=\"center\">\n",
        "<img src=\"http://codeandomexico.org/resources/img/codeandomexico.png\" width=\"500\" alt=\"Codeando México\"><br>\n",
        "<a href=\"http://www.codeandomexico.org/\" target=\"_blank\"><img src=\"https://img.shields.io/badge/website-CodeandoMexico-00D88E.svg\"></a>\n",
        "<a href=\"http://slack.codeandomexico.org/\" target=\"_blank\"><img src=\"https://img.shields.io/badge/slack-CodeandoMexico-EC0E4F.svg\"></a>\n",
        "</p>\n",
        "<!-- __ -->\n",
        "\n",
        "# Curso de Datos Abiertos y Hacking Cívico\n",
        "\n",
        "Este curso tiene como objetivo habilitar las capacidades de la ciudadanía y los servidores públicos en el uso y generación de datos abiertos para el bien común. Puedes encontrar más información [aquí](https://github.com/CodeandoMexico/hacking-civico)."
      ]
    },
    {
      "cell_type": "markdown",
      "metadata": {
        "id": "azfLcEkBR9jv",
        "colab_type": "text"
      },
      "source": [
        "# Exploración de datos: COVID-19 en México\n",
        "\n",
        "En este cuaderno aprenderemos algunas bases de exploración de datos. Los datos a utilizar son los datos abiertos sobre COVID-19 en México, los cuales pueden ser accedidos directamente desde el portal: https://www.gob.mx/salud/documentos/datos-abiertos-152127\n",
        "\n",
        "Del portal de datos abiertos podemos encontrar dos enlaces, uno para descargar el conjunto de datos y otro para descargar el diccionario; así que podemos automatizar el proceso de descarga y descompresión de la información.\n",
        "\n",
        "Para obtener los datos, sólo basta que ejecutes la siguiente línea de código, que contiene el comando de descarga de la información."
      ]
    },
    {
      "cell_type": "code",
      "metadata": {
        "id": "yPNA6QJjqFZg",
        "colab_type": "code",
        "colab": {
          "base_uri": "https://localhost:8080/",
          "height": 561
        },
        "outputId": "e4fe2f36-28b2-4425-9246-1981716cad00"
      },
      "source": [
        "# Para descargar el conjunto de datos\n",
        "!wget http://datosabiertos.salud.gob.mx/gobmx/salud/datos_abiertos/datos_abiertos_covid19.zip\n",
        "\n",
        "# Para descargar el diccionario de los datos\n",
        "!wget http://epidemiologia.salud.gob.mx/gobmx/salud/datos_abiertos/diccionario_datos_covid19.zip\n",
        "\n",
        "# Descomprimimos ambas carpetas y movemos archivos\n",
        "!unzip datos_abiertos_covid19.zip\n",
        "!unzip diccionario_datos_covid19.zip\n",
        "!mv ./diccionario_datos_covid19/*.xlsx .\n",
        "!mv *COVID19MEXICO.csv COVID19MEXICO.csv\n",
        "\n",
        "# Eliminamos las carpetas comprimidas\n",
        "!rm -rf diccionario_datos_covid19\n",
        "!rm datos_abiertos_covid19.zip\n",
        "!rm diccionario_datos_covid19.zip"
      ],
      "execution_count": 30,
      "outputs": [
        {
          "output_type": "stream",
          "text": [
            "--2020-09-13 03:38:53--  http://datosabiertos.salud.gob.mx/gobmx/salud/datos_abiertos/datos_abiertos_covid19.zip\n",
            "Resolving datosabiertos.salud.gob.mx (datosabiertos.salud.gob.mx)... 187.210.186.146\n",
            "Connecting to datosabiertos.salud.gob.mx (datosabiertos.salud.gob.mx)|187.210.186.146|:80... connected.\n",
            "HTTP request sent, awaiting response... 200 OK\n",
            "Length: 31945189 (30M) [application/x-zip-compressed]\n",
            "Saving to: ‘datos_abiertos_covid19.zip’\n",
            "\n",
            "datos_abiertos_covi 100%[===================>]  30.46M  17.0MB/s    in 1.8s    \n",
            "\n",
            "2020-09-13 03:38:55 (17.0 MB/s) - ‘datos_abiertos_covid19.zip’ saved [31945189/31945189]\n",
            "\n",
            "--2020-09-13 03:38:55--  http://epidemiologia.salud.gob.mx/gobmx/salud/datos_abiertos/diccionario_datos_covid19.zip\n",
            "Resolving epidemiologia.salud.gob.mx (epidemiologia.salud.gob.mx)... 187.191.75.207\n",
            "Connecting to epidemiologia.salud.gob.mx (epidemiologia.salud.gob.mx)|187.191.75.207|:80... connected.\n",
            "HTTP request sent, awaiting response... 301 Moved Permanently\n",
            "Location: https://epidemiologia.salud.gob.mx/gobmx/salud/datos_abiertos/diccionario_datos_covid19.zip [following]\n",
            "--2020-09-13 03:38:55--  https://epidemiologia.salud.gob.mx/gobmx/salud/datos_abiertos/diccionario_datos_covid19.zip\n",
            "Connecting to epidemiologia.salud.gob.mx (epidemiologia.salud.gob.mx)|187.191.75.207|:443... connected.\n",
            "HTTP request sent, awaiting response... 200 OK\n",
            "Length: 81416 (80K) [application/x-zip-compressed]\n",
            "Saving to: ‘diccionario_datos_covid19.zip’\n",
            "\n",
            "diccionario_datos_c 100%[===================>]  79.51K  --.-KB/s    in 0.06s   \n",
            "\n",
            "2020-09-13 03:38:55 (1.24 MB/s) - ‘diccionario_datos_covid19.zip’ saved [81416/81416]\n",
            "\n",
            "Archive:  datos_abiertos_covid19.zip\n",
            "  inflating: 200912COVID19MEXICO.csv  \n",
            "Archive:  diccionario_datos_covid19.zip\n",
            "  inflating: diccionario_datos_covid19/Catalogos_0412.xlsx  \n",
            "  inflating: diccionario_datos_covid19/Descriptores_0419.xlsx  \n",
            "mv: target 'COVID19MEXICO.csv' is not a directory\n"
          ],
          "name": "stdout"
        }
      ]
    },
    {
      "cell_type": "markdown",
      "metadata": {
        "id": "tt5KIbXgsc4q",
        "colab_type": "text"
      },
      "source": [
        "Hasta este punto, si abres la barra lateral izaquiera, deberías ser capaz de encontrar los datos:\n",
        "\n",
        "- `COVID19MEXICO.csv`\n",
        "- `Catalogos_0412.xlsx`\n",
        "- `Descriptores_0419.xlsx`\n",
        "\n",
        "👈🏼"
      ]
    },
    {
      "cell_type": "markdown",
      "metadata": {
        "id": "0CfIFLH7YHXE",
        "colab_type": "text"
      },
      "source": [
        "## Carga\n",
        "\n",
        "Ahora que tenemos los datos, procederemos a cargarlos. Para cargar los datos, primero importaremos algunos paquetes de Python, pues su funcionalidad nos será muy util."
      ]
    },
    {
      "cell_type": "code",
      "metadata": {
        "id": "M09sjPpIYLOZ",
        "colab_type": "code",
        "colab": {}
      },
      "source": [
        "import statistics\n",
        "\n",
        "import pandas as pd\n",
        "import numpy as np"
      ],
      "execution_count": 31,
      "outputs": []
    },
    {
      "cell_type": "code",
      "metadata": {
        "id": "LzZRHpnclPvj",
        "colab_type": "code",
        "colab": {}
      },
      "source": [
        "# Especificamos el nombre del archivo por abrir\n",
        "nombre_archivo = 'COVID19MEXICO.csv'\n",
        "\n",
        "# Utilizamos la función de Pandas para cargar un archivo CSV\n",
        "data = pd.read_csv(nombre_archivo, encoding='latin-1')"
      ],
      "execution_count": 32,
      "outputs": []
    },
    {
      "cell_type": "markdown",
      "metadata": {
        "id": "lyEfLDYKtibj",
        "colab_type": "text"
      },
      "source": [
        "Mostramos la cabeza (primeros elementos del archivo)."
      ]
    },
    {
      "cell_type": "code",
      "metadata": {
        "id": "PNeCAgfQqMf6",
        "colab_type": "code",
        "colab": {
          "base_uri": "https://localhost:8080/",
          "height": 224
        },
        "outputId": "8baa6a4f-b9a1-4270-cba8-5bbb0706d34d"
      },
      "source": [
        "data.head()"
      ],
      "execution_count": 33,
      "outputs": [
        {
          "output_type": "execute_result",
          "data": {
            "text/html": [
              "<div>\n",
              "<style scoped>\n",
              "    .dataframe tbody tr th:only-of-type {\n",
              "        vertical-align: middle;\n",
              "    }\n",
              "\n",
              "    .dataframe tbody tr th {\n",
              "        vertical-align: top;\n",
              "    }\n",
              "\n",
              "    .dataframe thead th {\n",
              "        text-align: right;\n",
              "    }\n",
              "</style>\n",
              "<table border=\"1\" class=\"dataframe\">\n",
              "  <thead>\n",
              "    <tr style=\"text-align: right;\">\n",
              "      <th></th>\n",
              "      <th>FECHA_ACTUALIZACION</th>\n",
              "      <th>ID_REGISTRO</th>\n",
              "      <th>ORIGEN</th>\n",
              "      <th>SECTOR</th>\n",
              "      <th>ENTIDAD_UM</th>\n",
              "      <th>SEXO</th>\n",
              "      <th>ENTIDAD_NAC</th>\n",
              "      <th>ENTIDAD_RES</th>\n",
              "      <th>MUNICIPIO_RES</th>\n",
              "      <th>TIPO_PACIENTE</th>\n",
              "      <th>FECHA_INGRESO</th>\n",
              "      <th>FECHA_SINTOMAS</th>\n",
              "      <th>FECHA_DEF</th>\n",
              "      <th>INTUBADO</th>\n",
              "      <th>NEUMONIA</th>\n",
              "      <th>EDAD</th>\n",
              "      <th>NACIONALIDAD</th>\n",
              "      <th>EMBARAZO</th>\n",
              "      <th>HABLA_LENGUA_INDIG</th>\n",
              "      <th>DIABETES</th>\n",
              "      <th>EPOC</th>\n",
              "      <th>ASMA</th>\n",
              "      <th>INMUSUPR</th>\n",
              "      <th>HIPERTENSION</th>\n",
              "      <th>OTRA_COM</th>\n",
              "      <th>CARDIOVASCULAR</th>\n",
              "      <th>OBESIDAD</th>\n",
              "      <th>RENAL_CRONICA</th>\n",
              "      <th>TABAQUISMO</th>\n",
              "      <th>OTRO_CASO</th>\n",
              "      <th>RESULTADO</th>\n",
              "      <th>MIGRANTE</th>\n",
              "      <th>PAIS_NACIONALIDAD</th>\n",
              "      <th>PAIS_ORIGEN</th>\n",
              "      <th>UCI</th>\n",
              "    </tr>\n",
              "  </thead>\n",
              "  <tbody>\n",
              "    <tr>\n",
              "      <th>0</th>\n",
              "      <td>2020-09-12</td>\n",
              "      <td>114cd3</td>\n",
              "      <td>2</td>\n",
              "      <td>3</td>\n",
              "      <td>27</td>\n",
              "      <td>1</td>\n",
              "      <td>27</td>\n",
              "      <td>27</td>\n",
              "      <td>4</td>\n",
              "      <td>1</td>\n",
              "      <td>2020-07-06</td>\n",
              "      <td>2020-06-29</td>\n",
              "      <td>9999-99-99</td>\n",
              "      <td>97</td>\n",
              "      <td>2</td>\n",
              "      <td>52</td>\n",
              "      <td>1</td>\n",
              "      <td>2</td>\n",
              "      <td>2</td>\n",
              "      <td>2</td>\n",
              "      <td>2</td>\n",
              "      <td>2</td>\n",
              "      <td>2</td>\n",
              "      <td>2</td>\n",
              "      <td>2</td>\n",
              "      <td>2</td>\n",
              "      <td>2</td>\n",
              "      <td>2</td>\n",
              "      <td>2</td>\n",
              "      <td>1</td>\n",
              "      <td>1</td>\n",
              "      <td>99</td>\n",
              "      <td>MÃ©xico</td>\n",
              "      <td>99</td>\n",
              "      <td>97</td>\n",
              "    </tr>\n",
              "    <tr>\n",
              "      <th>1</th>\n",
              "      <td>2020-09-12</td>\n",
              "      <td>0bafd8</td>\n",
              "      <td>2</td>\n",
              "      <td>4</td>\n",
              "      <td>15</td>\n",
              "      <td>2</td>\n",
              "      <td>15</td>\n",
              "      <td>15</td>\n",
              "      <td>106</td>\n",
              "      <td>2</td>\n",
              "      <td>2020-04-29</td>\n",
              "      <td>2020-04-28</td>\n",
              "      <td>2020-05-09</td>\n",
              "      <td>1</td>\n",
              "      <td>2</td>\n",
              "      <td>57</td>\n",
              "      <td>1</td>\n",
              "      <td>97</td>\n",
              "      <td>2</td>\n",
              "      <td>2</td>\n",
              "      <td>2</td>\n",
              "      <td>2</td>\n",
              "      <td>2</td>\n",
              "      <td>2</td>\n",
              "      <td>2</td>\n",
              "      <td>2</td>\n",
              "      <td>2</td>\n",
              "      <td>2</td>\n",
              "      <td>2</td>\n",
              "      <td>99</td>\n",
              "      <td>1</td>\n",
              "      <td>99</td>\n",
              "      <td>MÃ©xico</td>\n",
              "      <td>99</td>\n",
              "      <td>2</td>\n",
              "    </tr>\n",
              "    <tr>\n",
              "      <th>2</th>\n",
              "      <td>2020-09-12</td>\n",
              "      <td>18747a</td>\n",
              "      <td>2</td>\n",
              "      <td>4</td>\n",
              "      <td>25</td>\n",
              "      <td>1</td>\n",
              "      <td>25</td>\n",
              "      <td>25</td>\n",
              "      <td>12</td>\n",
              "      <td>1</td>\n",
              "      <td>2020-04-14</td>\n",
              "      <td>2020-04-10</td>\n",
              "      <td>9999-99-99</td>\n",
              "      <td>97</td>\n",
              "      <td>2</td>\n",
              "      <td>44</td>\n",
              "      <td>1</td>\n",
              "      <td>2</td>\n",
              "      <td>2</td>\n",
              "      <td>1</td>\n",
              "      <td>2</td>\n",
              "      <td>2</td>\n",
              "      <td>2</td>\n",
              "      <td>1</td>\n",
              "      <td>2</td>\n",
              "      <td>2</td>\n",
              "      <td>1</td>\n",
              "      <td>2</td>\n",
              "      <td>2</td>\n",
              "      <td>99</td>\n",
              "      <td>1</td>\n",
              "      <td>99</td>\n",
              "      <td>MÃ©xico</td>\n",
              "      <td>99</td>\n",
              "      <td>97</td>\n",
              "    </tr>\n",
              "    <tr>\n",
              "      <th>3</th>\n",
              "      <td>2020-09-12</td>\n",
              "      <td>174174</td>\n",
              "      <td>2</td>\n",
              "      <td>4</td>\n",
              "      <td>9</td>\n",
              "      <td>2</td>\n",
              "      <td>12</td>\n",
              "      <td>9</td>\n",
              "      <td>7</td>\n",
              "      <td>1</td>\n",
              "      <td>2020-04-18</td>\n",
              "      <td>2020-04-11</td>\n",
              "      <td>9999-99-99</td>\n",
              "      <td>97</td>\n",
              "      <td>1</td>\n",
              "      <td>28</td>\n",
              "      <td>1</td>\n",
              "      <td>97</td>\n",
              "      <td>2</td>\n",
              "      <td>2</td>\n",
              "      <td>2</td>\n",
              "      <td>2</td>\n",
              "      <td>2</td>\n",
              "      <td>2</td>\n",
              "      <td>2</td>\n",
              "      <td>2</td>\n",
              "      <td>2</td>\n",
              "      <td>2</td>\n",
              "      <td>2</td>\n",
              "      <td>99</td>\n",
              "      <td>1</td>\n",
              "      <td>99</td>\n",
              "      <td>MÃ©xico</td>\n",
              "      <td>99</td>\n",
              "      <td>97</td>\n",
              "    </tr>\n",
              "    <tr>\n",
              "      <th>4</th>\n",
              "      <td>2020-09-12</td>\n",
              "      <td>0eae86</td>\n",
              "      <td>2</td>\n",
              "      <td>4</td>\n",
              "      <td>30</td>\n",
              "      <td>2</td>\n",
              "      <td>15</td>\n",
              "      <td>30</td>\n",
              "      <td>4</td>\n",
              "      <td>2</td>\n",
              "      <td>2020-04-21</td>\n",
              "      <td>2020-04-21</td>\n",
              "      <td>9999-99-99</td>\n",
              "      <td>1</td>\n",
              "      <td>2</td>\n",
              "      <td>53</td>\n",
              "      <td>1</td>\n",
              "      <td>97</td>\n",
              "      <td>2</td>\n",
              "      <td>2</td>\n",
              "      <td>2</td>\n",
              "      <td>2</td>\n",
              "      <td>2</td>\n",
              "      <td>2</td>\n",
              "      <td>2</td>\n",
              "      <td>2</td>\n",
              "      <td>2</td>\n",
              "      <td>2</td>\n",
              "      <td>2</td>\n",
              "      <td>2</td>\n",
              "      <td>1</td>\n",
              "      <td>99</td>\n",
              "      <td>MÃ©xico</td>\n",
              "      <td>99</td>\n",
              "      <td>1</td>\n",
              "    </tr>\n",
              "  </tbody>\n",
              "</table>\n",
              "</div>"
            ],
            "text/plain": [
              "  FECHA_ACTUALIZACION ID_REGISTRO  ORIGEN  ...  PAIS_NACIONALIDAD  PAIS_ORIGEN  UCI\n",
              "0          2020-09-12      114cd3       2  ...            MÃ©xico           99   97\n",
              "1          2020-09-12      0bafd8       2  ...            MÃ©xico           99    2\n",
              "2          2020-09-12      18747a       2  ...            MÃ©xico           99   97\n",
              "3          2020-09-12      174174       2  ...            MÃ©xico           99   97\n",
              "4          2020-09-12      0eae86       2  ...            MÃ©xico           99    1\n",
              "\n",
              "[5 rows x 35 columns]"
            ]
          },
          "metadata": {
            "tags": []
          },
          "execution_count": 33
        }
      ]
    },
    {
      "cell_type": "markdown",
      "metadata": {
        "id": "oPbuQM-3t5fA",
        "colab_type": "text"
      },
      "source": [
        "Ahora procedemos a cargar el archivo con los descriptores."
      ]
    },
    {
      "cell_type": "code",
      "metadata": {
        "id": "gO6XRvTcltp0",
        "colab_type": "code",
        "colab": {}
      },
      "source": [
        "nombre_diccionario = 'Descriptores_0419.xlsx'\n",
        "diccionario = pd.read_excel(nombre_diccionario)"
      ],
      "execution_count": 34,
      "outputs": []
    },
    {
      "cell_type": "code",
      "metadata": {
        "id": "xLsgKwYWl8vX",
        "colab_type": "code",
        "colab": {
          "base_uri": "https://localhost:8080/",
          "height": 1000
        },
        "outputId": "d19aef0c-db2a-4e3e-9ea8-926922977ff8"
      },
      "source": [
        "diccionario"
      ],
      "execution_count": 35,
      "outputs": [
        {
          "output_type": "execute_result",
          "data": {
            "text/html": [
              "<div>\n",
              "<style scoped>\n",
              "    .dataframe tbody tr th:only-of-type {\n",
              "        vertical-align: middle;\n",
              "    }\n",
              "\n",
              "    .dataframe tbody tr th {\n",
              "        vertical-align: top;\n",
              "    }\n",
              "\n",
              "    .dataframe thead th {\n",
              "        text-align: right;\n",
              "    }\n",
              "</style>\n",
              "<table border=\"1\" class=\"dataframe\">\n",
              "  <thead>\n",
              "    <tr style=\"text-align: right;\">\n",
              "      <th></th>\n",
              "      <th>Nº</th>\n",
              "      <th>NOMBRE DE VARIABLE</th>\n",
              "      <th>DESCRIPCIÓN DE VARIABLE</th>\n",
              "      <th>FORMATO O FUENTE</th>\n",
              "    </tr>\n",
              "  </thead>\n",
              "  <tbody>\n",
              "    <tr>\n",
              "      <th>0</th>\n",
              "      <td>1</td>\n",
              "      <td>FECHA_ACTUALIZACION</td>\n",
              "      <td>La base de datos se alimenta diariamente, esta...</td>\n",
              "      <td>AAAA-MM-DD</td>\n",
              "    </tr>\n",
              "    <tr>\n",
              "      <th>1</th>\n",
              "      <td>2</td>\n",
              "      <td>ID_REGISTRO</td>\n",
              "      <td>Número identificador del caso</td>\n",
              "      <td>TEXTO</td>\n",
              "    </tr>\n",
              "    <tr>\n",
              "      <th>2</th>\n",
              "      <td>3</td>\n",
              "      <td>ORIGEN</td>\n",
              "      <td>La vigilancia centinela se realiza a través de...</td>\n",
              "      <td>CATÁLOGO: ORIGEN                              ...</td>\n",
              "    </tr>\n",
              "    <tr>\n",
              "      <th>3</th>\n",
              "      <td>4</td>\n",
              "      <td>SECTOR</td>\n",
              "      <td>Identifica el tipo de institución del Sistema ...</td>\n",
              "      <td>CATÁLOGO: SECTOR                              ...</td>\n",
              "    </tr>\n",
              "    <tr>\n",
              "      <th>4</th>\n",
              "      <td>5</td>\n",
              "      <td>ENTIDAD_UM</td>\n",
              "      <td>Identifica la entidad donde se ubica la unidad...</td>\n",
              "      <td>CATALÓGO: ENTIDADES</td>\n",
              "    </tr>\n",
              "    <tr>\n",
              "      <th>5</th>\n",
              "      <td>6</td>\n",
              "      <td>SEXO</td>\n",
              "      <td>Identifica al sexo del paciente.</td>\n",
              "      <td>CATÁLOGO: SEXO</td>\n",
              "    </tr>\n",
              "    <tr>\n",
              "      <th>6</th>\n",
              "      <td>7</td>\n",
              "      <td>ENTIDAD_NAC</td>\n",
              "      <td>Identifica la entidad de nacimiento del paciente.</td>\n",
              "      <td>CATALÓGO: ENTIDADES</td>\n",
              "    </tr>\n",
              "    <tr>\n",
              "      <th>7</th>\n",
              "      <td>8</td>\n",
              "      <td>ENTIDAD_RES</td>\n",
              "      <td>Identifica la entidad de residencia del paciente.</td>\n",
              "      <td>CATALÓGO: ENTIDADES</td>\n",
              "    </tr>\n",
              "    <tr>\n",
              "      <th>8</th>\n",
              "      <td>9</td>\n",
              "      <td>MUNICIPIO_RES</td>\n",
              "      <td>Identifica el municipio de residencia del paci...</td>\n",
              "      <td>CATALÓGO: MUNICIPIOS</td>\n",
              "    </tr>\n",
              "    <tr>\n",
              "      <th>9</th>\n",
              "      <td>10</td>\n",
              "      <td>TIPO_PACIENTE</td>\n",
              "      <td>Identifica el tipo de atención que recibió el ...</td>\n",
              "      <td>CATÁLOGO: TIPO_PACIENTE</td>\n",
              "    </tr>\n",
              "    <tr>\n",
              "      <th>10</th>\n",
              "      <td>11</td>\n",
              "      <td>FECHA_INGRESO</td>\n",
              "      <td>Identifica la fecha de ingreso del paciente a ...</td>\n",
              "      <td>AAAA-MM-DD</td>\n",
              "    </tr>\n",
              "    <tr>\n",
              "      <th>11</th>\n",
              "      <td>12</td>\n",
              "      <td>FECHA_SINTOMAS</td>\n",
              "      <td>Idenitifica la fecha en que inició la sintomat...</td>\n",
              "      <td>AAAA-MM-DD</td>\n",
              "    </tr>\n",
              "    <tr>\n",
              "      <th>12</th>\n",
              "      <td>13</td>\n",
              "      <td>FECHA_DEF</td>\n",
              "      <td>Identifica la fecha en que el paciente falleció.</td>\n",
              "      <td>AAAA-MM-DD</td>\n",
              "    </tr>\n",
              "    <tr>\n",
              "      <th>13</th>\n",
              "      <td>14</td>\n",
              "      <td>INTUBADO</td>\n",
              "      <td>Identifica si el paciente requirió de intubación.</td>\n",
              "      <td>CATÁLOGO: SI_ NO                              ...</td>\n",
              "    </tr>\n",
              "    <tr>\n",
              "      <th>14</th>\n",
              "      <td>15</td>\n",
              "      <td>NEUMONIA</td>\n",
              "      <td>Identifica si al paciente se le diagnosticó co...</td>\n",
              "      <td>CATÁLOGO: SI_ NO                              ...</td>\n",
              "    </tr>\n",
              "    <tr>\n",
              "      <th>15</th>\n",
              "      <td>16</td>\n",
              "      <td>EDAD</td>\n",
              "      <td>Identifica la edad del paciente.</td>\n",
              "      <td>NÚMERICA EN AÑOS</td>\n",
              "    </tr>\n",
              "    <tr>\n",
              "      <th>16</th>\n",
              "      <td>17</td>\n",
              "      <td>NACIONALIDAD</td>\n",
              "      <td>Identifica si el paciente es mexicano o extran...</td>\n",
              "      <td>CATÁLOGO: NACIONALIDAD</td>\n",
              "    </tr>\n",
              "    <tr>\n",
              "      <th>17</th>\n",
              "      <td>18</td>\n",
              "      <td>EMBARAZO</td>\n",
              "      <td>Identifica si la paciente está embarazada.</td>\n",
              "      <td>CATÁLOGO: SI_ NO                              ...</td>\n",
              "    </tr>\n",
              "    <tr>\n",
              "      <th>18</th>\n",
              "      <td>19</td>\n",
              "      <td>HABLA_LENGUA_INDIG</td>\n",
              "      <td>Identifica si el paciente habla lengua índigena.</td>\n",
              "      <td>CATÁLOGO: SI_ NO                              ...</td>\n",
              "    </tr>\n",
              "    <tr>\n",
              "      <th>19</th>\n",
              "      <td>20</td>\n",
              "      <td>DIABETES</td>\n",
              "      <td>Identifica si el paciente tiene un diagnóstico...</td>\n",
              "      <td>CATÁLOGO: SI_ NO                              ...</td>\n",
              "    </tr>\n",
              "    <tr>\n",
              "      <th>20</th>\n",
              "      <td>21</td>\n",
              "      <td>EPOC</td>\n",
              "      <td>Identifica si el paciente tiene un diagnóstico...</td>\n",
              "      <td>CATÁLOGO: SI_ NO                              ...</td>\n",
              "    </tr>\n",
              "    <tr>\n",
              "      <th>21</th>\n",
              "      <td>22</td>\n",
              "      <td>ASMA</td>\n",
              "      <td>Identifica si el paciente tiene un diagnóstico...</td>\n",
              "      <td>CATÁLOGO: SI_ NO                              ...</td>\n",
              "    </tr>\n",
              "    <tr>\n",
              "      <th>22</th>\n",
              "      <td>23</td>\n",
              "      <td>INMUSUPR</td>\n",
              "      <td>Identifica si el paciente presenta inmunosupre...</td>\n",
              "      <td>CATÁLOGO: SI_ NO                              ...</td>\n",
              "    </tr>\n",
              "    <tr>\n",
              "      <th>23</th>\n",
              "      <td>24</td>\n",
              "      <td>HIPERTENSION</td>\n",
              "      <td>Identifica si el paciente tiene un diagnóstico...</td>\n",
              "      <td>CATÁLOGO: SI_ NO                              ...</td>\n",
              "    </tr>\n",
              "    <tr>\n",
              "      <th>24</th>\n",
              "      <td>25</td>\n",
              "      <td>OTRAS_COM</td>\n",
              "      <td>Identifica si el paciente tiene diagnóstico de...</td>\n",
              "      <td>CATÁLOGO: SI_ NO                              ...</td>\n",
              "    </tr>\n",
              "    <tr>\n",
              "      <th>25</th>\n",
              "      <td>26</td>\n",
              "      <td>CARDIOVASCULAR</td>\n",
              "      <td>Identifica si el paciente tiene un diagnóstico...</td>\n",
              "      <td>CATÁLOGO: SI_ NO                              ...</td>\n",
              "    </tr>\n",
              "    <tr>\n",
              "      <th>26</th>\n",
              "      <td>27</td>\n",
              "      <td>OBESIDAD</td>\n",
              "      <td>Identifica si el paciente tiene diagnóstico de...</td>\n",
              "      <td>CATÁLOGO: SI_ NO                              ...</td>\n",
              "    </tr>\n",
              "    <tr>\n",
              "      <th>27</th>\n",
              "      <td>28</td>\n",
              "      <td>RENAL_CRONICA</td>\n",
              "      <td>Identifica si el paciente tiene diagnóstico de...</td>\n",
              "      <td>CATÁLOGO: SI_ NO                              ...</td>\n",
              "    </tr>\n",
              "    <tr>\n",
              "      <th>28</th>\n",
              "      <td>29</td>\n",
              "      <td>TABAQUISMO</td>\n",
              "      <td>Identifica si el paciente tiene hábito de taba...</td>\n",
              "      <td>CATÁLOGO: SI_ NO                              ...</td>\n",
              "    </tr>\n",
              "    <tr>\n",
              "      <th>29</th>\n",
              "      <td>30</td>\n",
              "      <td>OTRO_CASO</td>\n",
              "      <td>Identifica si el paciente tuvo contacto con al...</td>\n",
              "      <td>CATÁLOGO: SI_ NO                              ...</td>\n",
              "    </tr>\n",
              "    <tr>\n",
              "      <th>30</th>\n",
              "      <td>31</td>\n",
              "      <td>RESULTADO</td>\n",
              "      <td>Identifica el resultado del análisis de la mue...</td>\n",
              "      <td>CATÁLOGO: RESULTADO</td>\n",
              "    </tr>\n",
              "    <tr>\n",
              "      <th>31</th>\n",
              "      <td>32</td>\n",
              "      <td>MIGRANTE</td>\n",
              "      <td>Identifica si el paciente es una persona migra...</td>\n",
              "      <td>CATÁLOGO: SI_ NO                              ...</td>\n",
              "    </tr>\n",
              "    <tr>\n",
              "      <th>32</th>\n",
              "      <td>33</td>\n",
              "      <td>PAIS_NACIONALIDAD</td>\n",
              "      <td>Identifica la nacionalidad del paciente.</td>\n",
              "      <td>TEXTO, 99= SE IGNORA</td>\n",
              "    </tr>\n",
              "    <tr>\n",
              "      <th>33</th>\n",
              "      <td>34</td>\n",
              "      <td>PAIS_ORIGEN</td>\n",
              "      <td>Identifica el país del que partió el paciente ...</td>\n",
              "      <td>TEXTO, 97= NO APLICA</td>\n",
              "    </tr>\n",
              "    <tr>\n",
              "      <th>34</th>\n",
              "      <td>35</td>\n",
              "      <td>UCI</td>\n",
              "      <td>Identifica si el paciente requirió ingresar a ...</td>\n",
              "      <td>CATÁLOGO: SI_ NO                              ...</td>\n",
              "    </tr>\n",
              "  </tbody>\n",
              "</table>\n",
              "</div>"
            ],
            "text/plain": [
              "    Nº  ...                                   FORMATO O FUENTE\n",
              "0    1  ...                                         AAAA-MM-DD\n",
              "1    2  ...                                             TEXTO \n",
              "2    3  ...  CATÁLOGO: ORIGEN                              ...\n",
              "3    4  ...  CATÁLOGO: SECTOR                              ...\n",
              "4    5  ...                                CATALÓGO: ENTIDADES\n",
              "5    6  ...       CATÁLOGO: SEXO                              \n",
              "6    7  ...                                CATALÓGO: ENTIDADES\n",
              "7    8  ...                                CATALÓGO: ENTIDADES\n",
              "8    9  ...                               CATALÓGO: MUNICIPIOS\n",
              "9   10  ...                           CATÁLOGO: TIPO_PACIENTE \n",
              "10  11  ...                                         AAAA-MM-DD\n",
              "11  12  ...                                         AAAA-MM-DD\n",
              "12  13  ...                                         AAAA-MM-DD\n",
              "13  14  ...  CATÁLOGO: SI_ NO                              ...\n",
              "14  15  ...  CATÁLOGO: SI_ NO                              ...\n",
              "15  16  ...                                   NÚMERICA EN AÑOS\n",
              "16  17  ...                            CATÁLOGO: NACIONALIDAD \n",
              "17  18  ...  CATÁLOGO: SI_ NO                              ...\n",
              "18  19  ...  CATÁLOGO: SI_ NO                              ...\n",
              "19  20  ...  CATÁLOGO: SI_ NO                              ...\n",
              "20  21  ...  CATÁLOGO: SI_ NO                              ...\n",
              "21  22  ...  CATÁLOGO: SI_ NO                              ...\n",
              "22  23  ...  CATÁLOGO: SI_ NO                              ...\n",
              "23  24  ...  CATÁLOGO: SI_ NO                              ...\n",
              "24  25  ...  CATÁLOGO: SI_ NO                              ...\n",
              "25  26  ...  CATÁLOGO: SI_ NO                              ...\n",
              "26  27  ...  CATÁLOGO: SI_ NO                              ...\n",
              "27  28  ...  CATÁLOGO: SI_ NO                              ...\n",
              "28  29  ...  CATÁLOGO: SI_ NO                              ...\n",
              "29  30  ...  CATÁLOGO: SI_ NO                              ...\n",
              "30  31  ...                                CATÁLOGO: RESULTADO\n",
              "31  32  ...  CATÁLOGO: SI_ NO                              ...\n",
              "32  33  ...                               TEXTO, 99= SE IGNORA\n",
              "33  34  ...                               TEXTO, 97= NO APLICA\n",
              "34  35  ...  CATÁLOGO: SI_ NO                              ...\n",
              "\n",
              "[35 rows x 4 columns]"
            ]
          },
          "metadata": {
            "tags": []
          },
          "execution_count": 35
        }
      ]
    },
    {
      "cell_type": "markdown",
      "metadata": {
        "id": "vpXR83GDuE8H",
        "colab_type": "text"
      },
      "source": [
        "Finalmente, cargamos el rachivo de catálogos."
      ]
    },
    {
      "cell_type": "code",
      "metadata": {
        "id": "LeK0_2pjog0Z",
        "colab_type": "code",
        "colab": {}
      },
      "source": [
        "nombre_cat = 'Catalogos_0412.xlsx'\n",
        "sheets = ['ORIGEN', 'SECTOR', 'SEXO', 'TIPO_PACIENTE', 'SI_NO', 'NACIONALIDAD', 'RESULTADO', 'de ENTIDADES', 'MUNICIPIOS']\n",
        "catalogues = {}\n",
        "for sheet in sheets:\n",
        "  catalogue = pd.read_excel(nombre_cat, sheet_name='Catálogo ' + sheet)\n",
        "  catalogue.columns = catalogue.columns.str.replace(' ', '_')\n",
        "  catalogue.columns = catalogue.columns.str.replace('.', '')\n",
        "  catalogue.columns = catalogue.columns.str.lower()\n",
        "  new_catalogue = {sheet: catalogue}\n",
        "  catalogues.update(new_catalogue)"
      ],
      "execution_count": 36,
      "outputs": []
    },
    {
      "cell_type": "code",
      "metadata": {
        "id": "IULUsvUPbAdw",
        "colab_type": "code",
        "colab": {
          "base_uri": "https://localhost:8080/",
          "height": 1000
        },
        "outputId": "d4e726c4-97c4-4098-f9b1-117b8dfa2c73"
      },
      "source": [
        "catalogues"
      ],
      "execution_count": 37,
      "outputs": [
        {
          "output_type": "execute_result",
          "data": {
            "text/plain": [
              "{'MUNICIPIOS':       clave_municipio        municipio  clave_entidad\n",
              " 0                   1   AGUASCALIENTES              1\n",
              " 1                   2         ASIENTOS              1\n",
              " 2                   3         CALVILLO              1\n",
              " 3                   4            COSÍO              1\n",
              " 4                   5      JESÚS MARÍA              1\n",
              " ...               ...              ...            ...\n",
              " 2496              999  NO ESPECIFICADO             32\n",
              " 2497              999  NO ESPECIFICADO             36\n",
              " 2498              997        NO APLICA             97\n",
              " 2499              998        SE IGNORA             98\n",
              " 2500              999  NO ESPECIFICADO             99\n",
              " \n",
              " [2501 rows x 3 columns], 'NACIONALIDAD':    clave      descripción\n",
              " 0      1         MEXICANA\n",
              " 1      2       EXTRANJERA\n",
              " 2     99  NO ESPECIFICADO, 'ORIGEN':    clave      descripción\n",
              " 0      1            USMER\n",
              " 1      2   FUERA DE USMER\n",
              " 2     99  NO ESPECIFICADO, 'RESULTADO':   unnamed:_0              unnamed:_1\n",
              " 0      CLAVE             DESCRIPCIÓN\n",
              " 1          1     Positivo SARS-CoV-2\n",
              " 2          2  No positivo SARS-CoV-2\n",
              " 3          3     Resultado pendiente, 'SECTOR':     clave      descripción\n",
              " 0       1        CRUZ ROJA\n",
              " 1       2              DIF\n",
              " 2       3          ESTATAL\n",
              " 3       4             IMSS\n",
              " 4       5   IMSS-BIENESTAR\n",
              " 5       6           ISSSTE\n",
              " 6       7        MUNICIPAL\n",
              " 7       8            PEMEX\n",
              " 8       9          PRIVADA\n",
              " 9      10           SEDENA\n",
              " 10     11            SEMAR\n",
              " 11     12              SSA\n",
              " 12     13    UNIVERSITARIO\n",
              " 13     99  NO ESPECIFICADO, 'SEXO':    clave      descripción\n",
              " 0      1            MUJER\n",
              " 1      2           HOMBRE\n",
              " 2     99  NO ESPECIFICADO, 'SI_NO':    clave      descripción\n",
              " 0      1              SI \n",
              " 1      2              NO \n",
              " 2     97        NO APLICA\n",
              " 3     98        SE IGNORA\n",
              " 4     99  NO ESPECIFICADO, 'TIPO_PACIENTE':    clave      descripción\n",
              " 0      1      AMBULATORIO\n",
              " 1      2    HOSPITALIZADO\n",
              " 2     99  NO ESPECIFICADO, 'de ENTIDADES':     clave_entidad               entidad_federativa abreviatura\n",
              " 0               1                   AGUASCALIENTES          AS\n",
              " 1               2                  BAJA CALIFORNIA          BC\n",
              " 2               3              BAJA CALIFORNIA SUR          BS\n",
              " 3               4                         CAMPECHE          CC\n",
              " 4               5             COAHUILA DE ZARAGOZA          CL\n",
              " 5               6                           COLIMA          CM\n",
              " 6               7                          CHIAPAS          CS\n",
              " 7               8                        CHIHUAHUA          CH\n",
              " 8               9                 CIUDAD DE MÉXICO          DF\n",
              " 9              10                          DURANGO          DG\n",
              " 10             11                       GUANAJUATO          GT\n",
              " 11             12                         GUERRERO          GR\n",
              " 12             13                          HIDALGO          HG\n",
              " 13             14                          JALISCO          JC\n",
              " 14             15                           MÉXICO          MC\n",
              " 15             16              MICHOACÁN DE OCAMPO          MN\n",
              " 16             17                          MORELOS          MS\n",
              " 17             18                          NAYARIT          NT\n",
              " 18             19                       NUEVO LEÓN          NL\n",
              " 19             20                           OAXACA          OC\n",
              " 20             21                           PUEBLA          PL\n",
              " 21             22                        QUERÉTARO          QT\n",
              " 22             23                     QUINTANA ROO          QR\n",
              " 23             24                  SAN LUIS POTOSÍ          SP\n",
              " 24             25                          SINALOA          SL\n",
              " 25             26                           SONORA          SR\n",
              " 26             27                          TABASCO          TC\n",
              " 27             28                       TAMAULIPAS          TS\n",
              " 28             29                         TLAXCALA          TL\n",
              " 29             30  VERACRUZ DE IGNACIO DE LA LLAVE          VZ\n",
              " 30             31                          YUCATÁN          YN\n",
              " 31             32                        ZACATECAS          ZS\n",
              " 32             36         ESTADOS UNIDOS MEXICANOS         EUM\n",
              " 33             97                        NO APLICA         NaN\n",
              " 34             98                        SE IGNORA          SI\n",
              " 35             99                  NO ESPECIFICADO          NE}"
            ]
          },
          "metadata": {
            "tags": []
          },
          "execution_count": 37
        }
      ]
    },
    {
      "cell_type": "code",
      "metadata": {
        "id": "NgM1QoTJrH7L",
        "colab_type": "code",
        "colab": {
          "base_uri": "https://localhost:8080/",
          "height": 142
        },
        "outputId": "793ca83c-f142-4da3-b3c7-ef43f5250385"
      },
      "source": [
        "catalogues['SEXO']"
      ],
      "execution_count": 38,
      "outputs": [
        {
          "output_type": "execute_result",
          "data": {
            "text/html": [
              "<div>\n",
              "<style scoped>\n",
              "    .dataframe tbody tr th:only-of-type {\n",
              "        vertical-align: middle;\n",
              "    }\n",
              "\n",
              "    .dataframe tbody tr th {\n",
              "        vertical-align: top;\n",
              "    }\n",
              "\n",
              "    .dataframe thead th {\n",
              "        text-align: right;\n",
              "    }\n",
              "</style>\n",
              "<table border=\"1\" class=\"dataframe\">\n",
              "  <thead>\n",
              "    <tr style=\"text-align: right;\">\n",
              "      <th></th>\n",
              "      <th>clave</th>\n",
              "      <th>descripción</th>\n",
              "    </tr>\n",
              "  </thead>\n",
              "  <tbody>\n",
              "    <tr>\n",
              "      <th>0</th>\n",
              "      <td>1</td>\n",
              "      <td>MUJER</td>\n",
              "    </tr>\n",
              "    <tr>\n",
              "      <th>1</th>\n",
              "      <td>2</td>\n",
              "      <td>HOMBRE</td>\n",
              "    </tr>\n",
              "    <tr>\n",
              "      <th>2</th>\n",
              "      <td>99</td>\n",
              "      <td>NO ESPECIFICADO</td>\n",
              "    </tr>\n",
              "  </tbody>\n",
              "</table>\n",
              "</div>"
            ],
            "text/plain": [
              "   clave      descripción\n",
              "0      1            MUJER\n",
              "1      2           HOMBRE\n",
              "2     99  NO ESPECIFICADO"
            ]
          },
          "metadata": {
            "tags": []
          },
          "execution_count": 38
        }
      ]
    },
    {
      "cell_type": "markdown",
      "metadata": {
        "id": "k7GdBenHYvEP",
        "colab_type": "text"
      },
      "source": [
        "##Perfilamiento"
      ]
    },
    {
      "cell_type": "markdown",
      "metadata": {
        "id": "wNIz4rIPthlT",
        "colab_type": "text"
      },
      "source": [
        "###Descripción General"
      ]
    },
    {
      "cell_type": "code",
      "metadata": {
        "id": "8Z0yG6NpYuQf",
        "colab_type": "code",
        "colab": {
          "base_uri": "https://localhost:8080/",
          "height": 51
        },
        "outputId": "c3e2dd9a-a931-4e18-d955-0c37e7b22eff"
      },
      "source": [
        "# dimensión de los datos\n",
        "print('Número de filas: {}'.format(data.shape[0]))\n",
        "print('Número de columnas: {}'.format(data.shape[1]))"
      ],
      "execution_count": 39,
      "outputs": [
        {
          "output_type": "stream",
          "text": [
            "Número de filas: 1510311\n",
            "Número de columnas: 35\n"
          ],
          "name": "stdout"
        }
      ]
    },
    {
      "cell_type": "code",
      "metadata": {
        "id": "A6qtrLh6jtyG",
        "colab_type": "code",
        "colab": {
          "base_uri": "https://localhost:8080/",
          "height": 170
        },
        "outputId": "d291df7c-5c52-4803-fe84-1ddb0f16e2a0"
      },
      "source": [
        "# columnas (variables)\n",
        "data.columns"
      ],
      "execution_count": 40,
      "outputs": [
        {
          "output_type": "execute_result",
          "data": {
            "text/plain": [
              "Index(['FECHA_ACTUALIZACION', 'ID_REGISTRO', 'ORIGEN', 'SECTOR', 'ENTIDAD_UM',\n",
              "       'SEXO', 'ENTIDAD_NAC', 'ENTIDAD_RES', 'MUNICIPIO_RES', 'TIPO_PACIENTE',\n",
              "       'FECHA_INGRESO', 'FECHA_SINTOMAS', 'FECHA_DEF', 'INTUBADO', 'NEUMONIA',\n",
              "       'EDAD', 'NACIONALIDAD', 'EMBARAZO', 'HABLA_LENGUA_INDIG', 'DIABETES',\n",
              "       'EPOC', 'ASMA', 'INMUSUPR', 'HIPERTENSION', 'OTRA_COM',\n",
              "       'CARDIOVASCULAR', 'OBESIDAD', 'RENAL_CRONICA', 'TABAQUISMO',\n",
              "       'OTRO_CASO', 'RESULTADO', 'MIGRANTE', 'PAIS_NACIONALIDAD',\n",
              "       'PAIS_ORIGEN', 'UCI'],\n",
              "      dtype='object')"
            ]
          },
          "metadata": {
            "tags": []
          },
          "execution_count": 40
        }
      ]
    },
    {
      "cell_type": "code",
      "metadata": {
        "id": "VQ2HbSGq2R9N",
        "colab_type": "code",
        "colab": {}
      },
      "source": [
        "# limpieza del nombre de las columnas, remover espacios, carácteres especiales y pasar a minúsculas\n",
        "data.columns = data.columns.str.replace(' ', '_')\n",
        "data.columns = data.columns.str.replace('.', '')\n",
        "data.columns = data.columns.str.lower()"
      ],
      "execution_count": 41,
      "outputs": []
    },
    {
      "cell_type": "code",
      "metadata": {
        "id": "hrkEFAj-AE9r",
        "colab_type": "code",
        "colab": {
          "base_uri": "https://localhost:8080/",
          "height": 612
        },
        "outputId": "845ae344-2bb0-425c-cf68-85e355b9c7f8"
      },
      "source": [
        "# calcular número de valores nulos por columna\n",
        "for col in data.columns:\n",
        "  print('Valores nulos en \"{}\": {}'.format(col,data[col].isna().sum()))"
      ],
      "execution_count": 42,
      "outputs": [
        {
          "output_type": "stream",
          "text": [
            "Valores nulos en \"fecha_actualizacion\": 0\n",
            "Valores nulos en \"id_registro\": 0\n",
            "Valores nulos en \"origen\": 0\n",
            "Valores nulos en \"sector\": 0\n",
            "Valores nulos en \"entidad_um\": 0\n",
            "Valores nulos en \"sexo\": 0\n",
            "Valores nulos en \"entidad_nac\": 0\n",
            "Valores nulos en \"entidad_res\": 0\n",
            "Valores nulos en \"municipio_res\": 0\n",
            "Valores nulos en \"tipo_paciente\": 0\n",
            "Valores nulos en \"fecha_ingreso\": 0\n",
            "Valores nulos en \"fecha_sintomas\": 0\n",
            "Valores nulos en \"fecha_def\": 0\n",
            "Valores nulos en \"intubado\": 0\n",
            "Valores nulos en \"neumonia\": 0\n",
            "Valores nulos en \"edad\": 0\n",
            "Valores nulos en \"nacionalidad\": 0\n",
            "Valores nulos en \"embarazo\": 0\n",
            "Valores nulos en \"habla_lengua_indig\": 0\n",
            "Valores nulos en \"diabetes\": 0\n",
            "Valores nulos en \"epoc\": 0\n",
            "Valores nulos en \"asma\": 0\n",
            "Valores nulos en \"inmusupr\": 0\n",
            "Valores nulos en \"hipertension\": 0\n",
            "Valores nulos en \"otra_com\": 0\n",
            "Valores nulos en \"cardiovascular\": 0\n",
            "Valores nulos en \"obesidad\": 0\n",
            "Valores nulos en \"renal_cronica\": 0\n",
            "Valores nulos en \"tabaquismo\": 0\n",
            "Valores nulos en \"otro_caso\": 0\n",
            "Valores nulos en \"resultado\": 0\n",
            "Valores nulos en \"migrante\": 0\n",
            "Valores nulos en \"pais_nacionalidad\": 0\n",
            "Valores nulos en \"pais_origen\": 0\n",
            "Valores nulos en \"uci\": 0\n"
          ],
          "name": "stdout"
        }
      ]
    },
    {
      "cell_type": "code",
      "metadata": {
        "id": "Qy-R4MkOkz7G",
        "colab_type": "code",
        "colab": {
          "base_uri": "https://localhost:8080/",
          "height": 629
        },
        "outputId": "6a294d01-aea0-4223-ea34-e1c38ebb4dca"
      },
      "source": [
        "# tipos de datos\n",
        "data.dtypes"
      ],
      "execution_count": 43,
      "outputs": [
        {
          "output_type": "execute_result",
          "data": {
            "text/plain": [
              "fecha_actualizacion    object\n",
              "id_registro            object\n",
              "origen                  int64\n",
              "sector                  int64\n",
              "entidad_um              int64\n",
              "sexo                    int64\n",
              "entidad_nac             int64\n",
              "entidad_res             int64\n",
              "municipio_res           int64\n",
              "tipo_paciente           int64\n",
              "fecha_ingreso          object\n",
              "fecha_sintomas         object\n",
              "fecha_def              object\n",
              "intubado                int64\n",
              "neumonia                int64\n",
              "edad                    int64\n",
              "nacionalidad            int64\n",
              "embarazo                int64\n",
              "habla_lengua_indig      int64\n",
              "diabetes                int64\n",
              "epoc                    int64\n",
              "asma                    int64\n",
              "inmusupr                int64\n",
              "hipertension            int64\n",
              "otra_com                int64\n",
              "cardiovascular          int64\n",
              "obesidad                int64\n",
              "renal_cronica           int64\n",
              "tabaquismo              int64\n",
              "otro_caso               int64\n",
              "resultado               int64\n",
              "migrante                int64\n",
              "pais_nacionalidad      object\n",
              "pais_origen            object\n",
              "uci                     int64\n",
              "dtype: object"
            ]
          },
          "metadata": {
            "tags": []
          },
          "execution_count": 43
        }
      ]
    },
    {
      "cell_type": "markdown",
      "metadata": {
        "id": "7ckFUUobuRH2",
        "colab_type": "text"
      },
      "source": [
        "###Limpieza"
      ]
    },
    {
      "cell_type": "code",
      "metadata": {
        "id": "4ISn-U85uWLn",
        "colab_type": "code",
        "colab": {}
      },
      "source": [
        "# convertimos a fecha algunas columnas\n",
        "def cast_datetime_cols(df):\n",
        "    timestamp_cols = [col for col in df.columns if \"fecha\" in col]\n",
        "    df[timestamp_cols] = df[timestamp_cols].apply(lambda date_col: pd.to_datetime(date_col, errors=\"coerce\"), axis=0)\n",
        "    return df\n",
        "\n",
        "data = cast_datetime_cols(data)"
      ],
      "execution_count": 44,
      "outputs": []
    },
    {
      "cell_type": "code",
      "metadata": {
        "id": "xU9ymprGxJ7r",
        "colab_type": "code",
        "colab": {
          "base_uri": "https://localhost:8080/",
          "height": 224
        },
        "outputId": "ef08cd5c-42cc-42f3-e542-36e0cd23f181"
      },
      "source": [
        "data.head()"
      ],
      "execution_count": 45,
      "outputs": [
        {
          "output_type": "execute_result",
          "data": {
            "text/html": [
              "<div>\n",
              "<style scoped>\n",
              "    .dataframe tbody tr th:only-of-type {\n",
              "        vertical-align: middle;\n",
              "    }\n",
              "\n",
              "    .dataframe tbody tr th {\n",
              "        vertical-align: top;\n",
              "    }\n",
              "\n",
              "    .dataframe thead th {\n",
              "        text-align: right;\n",
              "    }\n",
              "</style>\n",
              "<table border=\"1\" class=\"dataframe\">\n",
              "  <thead>\n",
              "    <tr style=\"text-align: right;\">\n",
              "      <th></th>\n",
              "      <th>fecha_actualizacion</th>\n",
              "      <th>id_registro</th>\n",
              "      <th>origen</th>\n",
              "      <th>sector</th>\n",
              "      <th>entidad_um</th>\n",
              "      <th>sexo</th>\n",
              "      <th>entidad_nac</th>\n",
              "      <th>entidad_res</th>\n",
              "      <th>municipio_res</th>\n",
              "      <th>tipo_paciente</th>\n",
              "      <th>fecha_ingreso</th>\n",
              "      <th>fecha_sintomas</th>\n",
              "      <th>fecha_def</th>\n",
              "      <th>intubado</th>\n",
              "      <th>neumonia</th>\n",
              "      <th>edad</th>\n",
              "      <th>nacionalidad</th>\n",
              "      <th>embarazo</th>\n",
              "      <th>habla_lengua_indig</th>\n",
              "      <th>diabetes</th>\n",
              "      <th>epoc</th>\n",
              "      <th>asma</th>\n",
              "      <th>inmusupr</th>\n",
              "      <th>hipertension</th>\n",
              "      <th>otra_com</th>\n",
              "      <th>cardiovascular</th>\n",
              "      <th>obesidad</th>\n",
              "      <th>renal_cronica</th>\n",
              "      <th>tabaquismo</th>\n",
              "      <th>otro_caso</th>\n",
              "      <th>resultado</th>\n",
              "      <th>migrante</th>\n",
              "      <th>pais_nacionalidad</th>\n",
              "      <th>pais_origen</th>\n",
              "      <th>uci</th>\n",
              "    </tr>\n",
              "  </thead>\n",
              "  <tbody>\n",
              "    <tr>\n",
              "      <th>0</th>\n",
              "      <td>2020-09-12</td>\n",
              "      <td>114cd3</td>\n",
              "      <td>2</td>\n",
              "      <td>3</td>\n",
              "      <td>27</td>\n",
              "      <td>1</td>\n",
              "      <td>27</td>\n",
              "      <td>27</td>\n",
              "      <td>4</td>\n",
              "      <td>1</td>\n",
              "      <td>2020-07-06</td>\n",
              "      <td>2020-06-29</td>\n",
              "      <td>NaT</td>\n",
              "      <td>97</td>\n",
              "      <td>2</td>\n",
              "      <td>52</td>\n",
              "      <td>1</td>\n",
              "      <td>2</td>\n",
              "      <td>2</td>\n",
              "      <td>2</td>\n",
              "      <td>2</td>\n",
              "      <td>2</td>\n",
              "      <td>2</td>\n",
              "      <td>2</td>\n",
              "      <td>2</td>\n",
              "      <td>2</td>\n",
              "      <td>2</td>\n",
              "      <td>2</td>\n",
              "      <td>2</td>\n",
              "      <td>1</td>\n",
              "      <td>1</td>\n",
              "      <td>99</td>\n",
              "      <td>MÃ©xico</td>\n",
              "      <td>99</td>\n",
              "      <td>97</td>\n",
              "    </tr>\n",
              "    <tr>\n",
              "      <th>1</th>\n",
              "      <td>2020-09-12</td>\n",
              "      <td>0bafd8</td>\n",
              "      <td>2</td>\n",
              "      <td>4</td>\n",
              "      <td>15</td>\n",
              "      <td>2</td>\n",
              "      <td>15</td>\n",
              "      <td>15</td>\n",
              "      <td>106</td>\n",
              "      <td>2</td>\n",
              "      <td>2020-04-29</td>\n",
              "      <td>2020-04-28</td>\n",
              "      <td>2020-05-09</td>\n",
              "      <td>1</td>\n",
              "      <td>2</td>\n",
              "      <td>57</td>\n",
              "      <td>1</td>\n",
              "      <td>97</td>\n",
              "      <td>2</td>\n",
              "      <td>2</td>\n",
              "      <td>2</td>\n",
              "      <td>2</td>\n",
              "      <td>2</td>\n",
              "      <td>2</td>\n",
              "      <td>2</td>\n",
              "      <td>2</td>\n",
              "      <td>2</td>\n",
              "      <td>2</td>\n",
              "      <td>2</td>\n",
              "      <td>99</td>\n",
              "      <td>1</td>\n",
              "      <td>99</td>\n",
              "      <td>MÃ©xico</td>\n",
              "      <td>99</td>\n",
              "      <td>2</td>\n",
              "    </tr>\n",
              "    <tr>\n",
              "      <th>2</th>\n",
              "      <td>2020-09-12</td>\n",
              "      <td>18747a</td>\n",
              "      <td>2</td>\n",
              "      <td>4</td>\n",
              "      <td>25</td>\n",
              "      <td>1</td>\n",
              "      <td>25</td>\n",
              "      <td>25</td>\n",
              "      <td>12</td>\n",
              "      <td>1</td>\n",
              "      <td>2020-04-14</td>\n",
              "      <td>2020-04-10</td>\n",
              "      <td>NaT</td>\n",
              "      <td>97</td>\n",
              "      <td>2</td>\n",
              "      <td>44</td>\n",
              "      <td>1</td>\n",
              "      <td>2</td>\n",
              "      <td>2</td>\n",
              "      <td>1</td>\n",
              "      <td>2</td>\n",
              "      <td>2</td>\n",
              "      <td>2</td>\n",
              "      <td>1</td>\n",
              "      <td>2</td>\n",
              "      <td>2</td>\n",
              "      <td>1</td>\n",
              "      <td>2</td>\n",
              "      <td>2</td>\n",
              "      <td>99</td>\n",
              "      <td>1</td>\n",
              "      <td>99</td>\n",
              "      <td>MÃ©xico</td>\n",
              "      <td>99</td>\n",
              "      <td>97</td>\n",
              "    </tr>\n",
              "    <tr>\n",
              "      <th>3</th>\n",
              "      <td>2020-09-12</td>\n",
              "      <td>174174</td>\n",
              "      <td>2</td>\n",
              "      <td>4</td>\n",
              "      <td>9</td>\n",
              "      <td>2</td>\n",
              "      <td>12</td>\n",
              "      <td>9</td>\n",
              "      <td>7</td>\n",
              "      <td>1</td>\n",
              "      <td>2020-04-18</td>\n",
              "      <td>2020-04-11</td>\n",
              "      <td>NaT</td>\n",
              "      <td>97</td>\n",
              "      <td>1</td>\n",
              "      <td>28</td>\n",
              "      <td>1</td>\n",
              "      <td>97</td>\n",
              "      <td>2</td>\n",
              "      <td>2</td>\n",
              "      <td>2</td>\n",
              "      <td>2</td>\n",
              "      <td>2</td>\n",
              "      <td>2</td>\n",
              "      <td>2</td>\n",
              "      <td>2</td>\n",
              "      <td>2</td>\n",
              "      <td>2</td>\n",
              "      <td>2</td>\n",
              "      <td>99</td>\n",
              "      <td>1</td>\n",
              "      <td>99</td>\n",
              "      <td>MÃ©xico</td>\n",
              "      <td>99</td>\n",
              "      <td>97</td>\n",
              "    </tr>\n",
              "    <tr>\n",
              "      <th>4</th>\n",
              "      <td>2020-09-12</td>\n",
              "      <td>0eae86</td>\n",
              "      <td>2</td>\n",
              "      <td>4</td>\n",
              "      <td>30</td>\n",
              "      <td>2</td>\n",
              "      <td>15</td>\n",
              "      <td>30</td>\n",
              "      <td>4</td>\n",
              "      <td>2</td>\n",
              "      <td>2020-04-21</td>\n",
              "      <td>2020-04-21</td>\n",
              "      <td>NaT</td>\n",
              "      <td>1</td>\n",
              "      <td>2</td>\n",
              "      <td>53</td>\n",
              "      <td>1</td>\n",
              "      <td>97</td>\n",
              "      <td>2</td>\n",
              "      <td>2</td>\n",
              "      <td>2</td>\n",
              "      <td>2</td>\n",
              "      <td>2</td>\n",
              "      <td>2</td>\n",
              "      <td>2</td>\n",
              "      <td>2</td>\n",
              "      <td>2</td>\n",
              "      <td>2</td>\n",
              "      <td>2</td>\n",
              "      <td>2</td>\n",
              "      <td>1</td>\n",
              "      <td>99</td>\n",
              "      <td>MÃ©xico</td>\n",
              "      <td>99</td>\n",
              "      <td>1</td>\n",
              "    </tr>\n",
              "  </tbody>\n",
              "</table>\n",
              "</div>"
            ],
            "text/plain": [
              "  fecha_actualizacion id_registro  origen  ...  pais_nacionalidad  pais_origen  uci\n",
              "0          2020-09-12      114cd3       2  ...            MÃ©xico           99   97\n",
              "1          2020-09-12      0bafd8       2  ...            MÃ©xico           99    2\n",
              "2          2020-09-12      18747a       2  ...            MÃ©xico           99   97\n",
              "3          2020-09-12      174174       2  ...            MÃ©xico           99   97\n",
              "4          2020-09-12      0eae86       2  ...            MÃ©xico           99    1\n",
              "\n",
              "[5 rows x 35 columns]"
            ]
          },
          "metadata": {
            "tags": []
          },
          "execution_count": 45
        }
      ]
    },
    {
      "cell_type": "code",
      "metadata": {
        "id": "D8KhfZhKu9wf",
        "colab_type": "code",
        "colab": {}
      },
      "source": [
        "# unimos los datos con los catalogos para tener mejor entendimiento de ellos\n",
        "data = (\n",
        "    # unimos con el catálogo MUNICIPIOS y ENTIDADES\n",
        "    data.merge(catalogues['de ENTIDADES'], how='left', left_on='entidad_res', right_on='clave_entidad').\n",
        "    drop(columns=['entidad_res', 'abreviatura']).\n",
        "    rename(columns={'entidad_federativa':'entidad_res'}).\n",
        "    merge(catalogues['MUNICIPIOS'], how='left', left_on=['clave_entidad','municipio_res'], right_on=['clave_entidad','clave_municipio']).\n",
        "    drop(columns=['municipio_res', 'clave_entidad', 'clave_municipio']).\n",
        "    rename(columns={'municipio':'municipio_res'})\n",
        ")"
      ],
      "execution_count": 46,
      "outputs": []
    },
    {
      "cell_type": "code",
      "metadata": {
        "id": "BrRuJFZZCVdt",
        "colab_type": "code",
        "colab": {}
      },
      "source": [
        "# unimos con el catálogo de ENTIDADES\n",
        "entidades_cols = [col for col in data.columns if \"entidad\" in col and col != 'entidad_res']\n",
        "for col in entidades_cols:\n",
        "    data = (\n",
        "        data.merge(catalogues['de ENTIDADES'], how='left', left_on=col, right_on='clave_entidad').\n",
        "        drop(columns=[col, 'abreviatura', 'clave_entidad']).\n",
        "        rename(columns={'entidad_federativa':col})\n",
        "    )"
      ],
      "execution_count": 47,
      "outputs": []
    },
    {
      "cell_type": "code",
      "metadata": {
        "id": "lc4J3ufC9z7c",
        "colab_type": "code",
        "colab": {}
      },
      "source": [
        "# unimos con el catálogo SI_NO\n",
        "sino_cols = ['intubado', 'neumonia', 'embarazo', 'habla_lengua_indig', 'diabetes', 'epoc', 'asma', 'inmusupr',\n",
        "             'hipertension', 'otra_com', 'cardiovascular', 'obesidad', 'renal_cronica', 'tabaquismo', \n",
        "             'otro_caso', 'migrante', 'uci']\n",
        "for col in sino_cols:\n",
        "    data = (\n",
        "        data.merge(catalogues['SI_NO'], how='left', left_on=col, right_on='clave').\n",
        "        drop(columns=[col, 'clave']).\n",
        "        rename(columns={'descripción':col})\n",
        "    )"
      ],
      "execution_count": 48,
      "outputs": []
    },
    {
      "cell_type": "markdown",
      "metadata": {
        "id": "Es0J05jBu3Zh",
        "colab_type": "text"
      },
      "source": [
        "> **Nota:**\n",
        ">\n",
        "> Si ejecutaste una versión previa del cuaderno, notarás que en la siguiente sección aparecía un error. A continuación dejamos como un pequeño paréntesis un poco más de limpieza sobre el cuaderno.\n",
        "\n",
        "1. Corregimos el nombre de las columnas:"
      ]
    },
    {
      "cell_type": "code",
      "metadata": {
        "id": "H2qOV3QGi6pp",
        "colab_type": "code",
        "colab": {
          "base_uri": "https://localhost:8080/",
          "height": 34
        },
        "outputId": "e64d6c9e-4d5f-4970-aaa6-c4a99d11b84d"
      },
      "source": [
        "catalogues['RESULTADO'].columns"
      ],
      "execution_count": 49,
      "outputs": [
        {
          "output_type": "execute_result",
          "data": {
            "text/plain": [
              "Index(['unnamed:_0', 'unnamed:_1'], dtype='object')"
            ]
          },
          "metadata": {
            "tags": []
          },
          "execution_count": 49
        }
      ]
    },
    {
      "cell_type": "code",
      "metadata": {
        "id": "5SRGGO_QhgAr",
        "colab_type": "code",
        "colab": {
          "base_uri": "https://localhost:8080/",
          "height": 34
        },
        "outputId": "f57968ff-8d3f-4fd1-def7-43668085b4b8"
      },
      "source": [
        "catalogues['RESULTADO'].columns = ['clave', 'descripción']\n",
        "catalogues['RESULTADO'].columns"
      ],
      "execution_count": 50,
      "outputs": [
        {
          "output_type": "execute_result",
          "data": {
            "text/plain": [
              "Index(['clave', 'descripción'], dtype='object')"
            ]
          },
          "metadata": {
            "tags": []
          },
          "execution_count": 50
        }
      ]
    },
    {
      "cell_type": "markdown",
      "metadata": {
        "id": "N2L94Ft4wFlT",
        "colab_type": "text"
      },
      "source": [
        "2. Removemos la (primera) fila que no nos es útil."
      ]
    },
    {
      "cell_type": "code",
      "metadata": {
        "id": "OexEfsUnjRMp",
        "colab_type": "code",
        "colab": {}
      },
      "source": [
        "catalogues['RESULTADO'] = catalogues['RESULTADO'].drop(index=0)"
      ],
      "execution_count": 51,
      "outputs": []
    },
    {
      "cell_type": "markdown",
      "metadata": {
        "id": "7m8TvocZ0Zxn",
        "colab_type": "text"
      },
      "source": [
        "3. Convertimos el tipo de dato."
      ]
    },
    {
      "cell_type": "code",
      "metadata": {
        "id": "AyLbq461kDX_",
        "colab_type": "code",
        "colab": {}
      },
      "source": [
        "catalogues['RESULTADO']['clave'] = catalogues['RESULTADO']['clave'].astype(int)"
      ],
      "execution_count": 52,
      "outputs": []
    },
    {
      "cell_type": "markdown",
      "metadata": {
        "id": "2oPUF3VI0dWV",
        "colab_type": "text"
      },
      "source": [
        "> Fin del paréntesis. Hasta esta sección, esta parte de limpieza permite continuar con el proceso de manera normal."
      ]
    },
    {
      "cell_type": "code",
      "metadata": {
        "id": "sTqV6pDE9x0Y",
        "colab_type": "code",
        "colab": {}
      },
      "source": [
        "# unimos otras columnnas que comparten lógica\n",
        "other_cols = ['origen', 'sector', 'sexo', 'tipo_paciente', 'nacionalidad', 'resultado']\n",
        "for col, cat in zip(other_cols, [x.upper() for x in other_cols]):\n",
        "    data = (\n",
        "        data.merge(catalogues[cat], how='left', left_on=col, right_on='clave').\n",
        "        drop(columns=[col, 'clave']).\n",
        "        rename(columns={'descripción':col})\n",
        "    )"
      ],
      "execution_count": 53,
      "outputs": []
    },
    {
      "cell_type": "code",
      "metadata": {
        "id": "y9SwccZAEt8i",
        "colab_type": "code",
        "colab": {}
      },
      "source": [
        "# creamos algunas variables que podrían ser útiles después\n",
        "data['defuncion'] = ~data.fecha_def.isna()\n",
        "data['mes_def'] = data.fecha_def.dt.month\n",
        "data['año_def'] = data.fecha_def.dt.year\n",
        "data['mes_ingreso'] = data.fecha_ingreso.dt.month\n",
        "data['año_ingreso'] = data.fecha_ingreso.dt.year"
      ],
      "execution_count": 54,
      "outputs": []
    },
    {
      "cell_type": "code",
      "metadata": {
        "id": "mREmwT8g0qys",
        "colab_type": "code",
        "colab": {
          "base_uri": "https://localhost:8080/",
          "height": 411
        },
        "outputId": "57e48bb3-c74e-40f0-e495-d164be340b95"
      },
      "source": [
        "data.head()"
      ],
      "execution_count": 55,
      "outputs": [
        {
          "output_type": "execute_result",
          "data": {
            "text/html": [
              "<div>\n",
              "<style scoped>\n",
              "    .dataframe tbody tr th:only-of-type {\n",
              "        vertical-align: middle;\n",
              "    }\n",
              "\n",
              "    .dataframe tbody tr th {\n",
              "        vertical-align: top;\n",
              "    }\n",
              "\n",
              "    .dataframe thead th {\n",
              "        text-align: right;\n",
              "    }\n",
              "</style>\n",
              "<table border=\"1\" class=\"dataframe\">\n",
              "  <thead>\n",
              "    <tr style=\"text-align: right;\">\n",
              "      <th></th>\n",
              "      <th>fecha_actualizacion</th>\n",
              "      <th>id_registro</th>\n",
              "      <th>fecha_ingreso</th>\n",
              "      <th>fecha_sintomas</th>\n",
              "      <th>fecha_def</th>\n",
              "      <th>edad</th>\n",
              "      <th>pais_nacionalidad</th>\n",
              "      <th>pais_origen</th>\n",
              "      <th>entidad_res</th>\n",
              "      <th>municipio_res</th>\n",
              "      <th>entidad_um</th>\n",
              "      <th>entidad_nac</th>\n",
              "      <th>intubado</th>\n",
              "      <th>neumonia</th>\n",
              "      <th>embarazo</th>\n",
              "      <th>habla_lengua_indig</th>\n",
              "      <th>diabetes</th>\n",
              "      <th>epoc</th>\n",
              "      <th>asma</th>\n",
              "      <th>inmusupr</th>\n",
              "      <th>hipertension</th>\n",
              "      <th>otra_com</th>\n",
              "      <th>cardiovascular</th>\n",
              "      <th>obesidad</th>\n",
              "      <th>renal_cronica</th>\n",
              "      <th>tabaquismo</th>\n",
              "      <th>otro_caso</th>\n",
              "      <th>migrante</th>\n",
              "      <th>uci</th>\n",
              "      <th>origen</th>\n",
              "      <th>sector</th>\n",
              "      <th>sexo</th>\n",
              "      <th>tipo_paciente</th>\n",
              "      <th>nacionalidad</th>\n",
              "      <th>resultado</th>\n",
              "      <th>defuncion</th>\n",
              "      <th>mes_def</th>\n",
              "      <th>año_def</th>\n",
              "      <th>mes_ingreso</th>\n",
              "      <th>año_ingreso</th>\n",
              "    </tr>\n",
              "  </thead>\n",
              "  <tbody>\n",
              "    <tr>\n",
              "      <th>0</th>\n",
              "      <td>2020-09-12</td>\n",
              "      <td>114cd3</td>\n",
              "      <td>2020-07-06</td>\n",
              "      <td>2020-06-29</td>\n",
              "      <td>NaT</td>\n",
              "      <td>52</td>\n",
              "      <td>MÃ©xico</td>\n",
              "      <td>99</td>\n",
              "      <td>TABASCO</td>\n",
              "      <td>CENTRO</td>\n",
              "      <td>TABASCO</td>\n",
              "      <td>TABASCO</td>\n",
              "      <td>NO APLICA</td>\n",
              "      <td>NO</td>\n",
              "      <td>NO</td>\n",
              "      <td>NO</td>\n",
              "      <td>NO</td>\n",
              "      <td>NO</td>\n",
              "      <td>NO</td>\n",
              "      <td>NO</td>\n",
              "      <td>NO</td>\n",
              "      <td>NO</td>\n",
              "      <td>NO</td>\n",
              "      <td>NO</td>\n",
              "      <td>NO</td>\n",
              "      <td>NO</td>\n",
              "      <td>SI</td>\n",
              "      <td>NO ESPECIFICADO</td>\n",
              "      <td>NO APLICA</td>\n",
              "      <td>FUERA DE USMER</td>\n",
              "      <td>ESTATAL</td>\n",
              "      <td>MUJER</td>\n",
              "      <td>AMBULATORIO</td>\n",
              "      <td>MEXICANA</td>\n",
              "      <td>Positivo SARS-CoV-2</td>\n",
              "      <td>False</td>\n",
              "      <td>NaN</td>\n",
              "      <td>NaN</td>\n",
              "      <td>7</td>\n",
              "      <td>2020</td>\n",
              "    </tr>\n",
              "    <tr>\n",
              "      <th>1</th>\n",
              "      <td>2020-09-12</td>\n",
              "      <td>0bafd8</td>\n",
              "      <td>2020-04-29</td>\n",
              "      <td>2020-04-28</td>\n",
              "      <td>2020-05-09</td>\n",
              "      <td>57</td>\n",
              "      <td>MÃ©xico</td>\n",
              "      <td>99</td>\n",
              "      <td>MÉXICO</td>\n",
              "      <td>TOLUCA</td>\n",
              "      <td>MÉXICO</td>\n",
              "      <td>MÉXICO</td>\n",
              "      <td>SI</td>\n",
              "      <td>NO</td>\n",
              "      <td>NO APLICA</td>\n",
              "      <td>NO</td>\n",
              "      <td>NO</td>\n",
              "      <td>NO</td>\n",
              "      <td>NO</td>\n",
              "      <td>NO</td>\n",
              "      <td>NO</td>\n",
              "      <td>NO</td>\n",
              "      <td>NO</td>\n",
              "      <td>NO</td>\n",
              "      <td>NO</td>\n",
              "      <td>NO</td>\n",
              "      <td>NO ESPECIFICADO</td>\n",
              "      <td>NO ESPECIFICADO</td>\n",
              "      <td>NO</td>\n",
              "      <td>FUERA DE USMER</td>\n",
              "      <td>IMSS</td>\n",
              "      <td>HOMBRE</td>\n",
              "      <td>HOSPITALIZADO</td>\n",
              "      <td>MEXICANA</td>\n",
              "      <td>Positivo SARS-CoV-2</td>\n",
              "      <td>True</td>\n",
              "      <td>5.0</td>\n",
              "      <td>2020.0</td>\n",
              "      <td>4</td>\n",
              "      <td>2020</td>\n",
              "    </tr>\n",
              "    <tr>\n",
              "      <th>2</th>\n",
              "      <td>2020-09-12</td>\n",
              "      <td>18747a</td>\n",
              "      <td>2020-04-14</td>\n",
              "      <td>2020-04-10</td>\n",
              "      <td>NaT</td>\n",
              "      <td>44</td>\n",
              "      <td>MÃ©xico</td>\n",
              "      <td>99</td>\n",
              "      <td>SINALOA</td>\n",
              "      <td>MAZATLÁN</td>\n",
              "      <td>SINALOA</td>\n",
              "      <td>SINALOA</td>\n",
              "      <td>NO APLICA</td>\n",
              "      <td>NO</td>\n",
              "      <td>NO</td>\n",
              "      <td>NO</td>\n",
              "      <td>SI</td>\n",
              "      <td>NO</td>\n",
              "      <td>NO</td>\n",
              "      <td>NO</td>\n",
              "      <td>SI</td>\n",
              "      <td>NO</td>\n",
              "      <td>NO</td>\n",
              "      <td>SI</td>\n",
              "      <td>NO</td>\n",
              "      <td>NO</td>\n",
              "      <td>NO ESPECIFICADO</td>\n",
              "      <td>NO ESPECIFICADO</td>\n",
              "      <td>NO APLICA</td>\n",
              "      <td>FUERA DE USMER</td>\n",
              "      <td>IMSS</td>\n",
              "      <td>MUJER</td>\n",
              "      <td>AMBULATORIO</td>\n",
              "      <td>MEXICANA</td>\n",
              "      <td>Positivo SARS-CoV-2</td>\n",
              "      <td>False</td>\n",
              "      <td>NaN</td>\n",
              "      <td>NaN</td>\n",
              "      <td>4</td>\n",
              "      <td>2020</td>\n",
              "    </tr>\n",
              "    <tr>\n",
              "      <th>3</th>\n",
              "      <td>2020-09-12</td>\n",
              "      <td>174174</td>\n",
              "      <td>2020-04-18</td>\n",
              "      <td>2020-04-11</td>\n",
              "      <td>NaT</td>\n",
              "      <td>28</td>\n",
              "      <td>MÃ©xico</td>\n",
              "      <td>99</td>\n",
              "      <td>CIUDAD DE MÉXICO</td>\n",
              "      <td>IZTAPALAPA</td>\n",
              "      <td>CIUDAD DE MÉXICO</td>\n",
              "      <td>GUERRERO</td>\n",
              "      <td>NO APLICA</td>\n",
              "      <td>SI</td>\n",
              "      <td>NO APLICA</td>\n",
              "      <td>NO</td>\n",
              "      <td>NO</td>\n",
              "      <td>NO</td>\n",
              "      <td>NO</td>\n",
              "      <td>NO</td>\n",
              "      <td>NO</td>\n",
              "      <td>NO</td>\n",
              "      <td>NO</td>\n",
              "      <td>NO</td>\n",
              "      <td>NO</td>\n",
              "      <td>NO</td>\n",
              "      <td>NO ESPECIFICADO</td>\n",
              "      <td>NO ESPECIFICADO</td>\n",
              "      <td>NO APLICA</td>\n",
              "      <td>FUERA DE USMER</td>\n",
              "      <td>IMSS</td>\n",
              "      <td>HOMBRE</td>\n",
              "      <td>AMBULATORIO</td>\n",
              "      <td>MEXICANA</td>\n",
              "      <td>Positivo SARS-CoV-2</td>\n",
              "      <td>False</td>\n",
              "      <td>NaN</td>\n",
              "      <td>NaN</td>\n",
              "      <td>4</td>\n",
              "      <td>2020</td>\n",
              "    </tr>\n",
              "    <tr>\n",
              "      <th>4</th>\n",
              "      <td>2020-09-12</td>\n",
              "      <td>0eae86</td>\n",
              "      <td>2020-04-21</td>\n",
              "      <td>2020-04-21</td>\n",
              "      <td>NaT</td>\n",
              "      <td>53</td>\n",
              "      <td>MÃ©xico</td>\n",
              "      <td>99</td>\n",
              "      <td>VERACRUZ DE IGNACIO DE LA LLAVE</td>\n",
              "      <td>ACTOPAN</td>\n",
              "      <td>VERACRUZ DE IGNACIO DE LA LLAVE</td>\n",
              "      <td>MÉXICO</td>\n",
              "      <td>SI</td>\n",
              "      <td>NO</td>\n",
              "      <td>NO APLICA</td>\n",
              "      <td>NO</td>\n",
              "      <td>NO</td>\n",
              "      <td>NO</td>\n",
              "      <td>NO</td>\n",
              "      <td>NO</td>\n",
              "      <td>NO</td>\n",
              "      <td>NO</td>\n",
              "      <td>NO</td>\n",
              "      <td>NO</td>\n",
              "      <td>NO</td>\n",
              "      <td>NO</td>\n",
              "      <td>NO</td>\n",
              "      <td>NO ESPECIFICADO</td>\n",
              "      <td>SI</td>\n",
              "      <td>FUERA DE USMER</td>\n",
              "      <td>IMSS</td>\n",
              "      <td>HOMBRE</td>\n",
              "      <td>HOSPITALIZADO</td>\n",
              "      <td>MEXICANA</td>\n",
              "      <td>Positivo SARS-CoV-2</td>\n",
              "      <td>False</td>\n",
              "      <td>NaN</td>\n",
              "      <td>NaN</td>\n",
              "      <td>4</td>\n",
              "      <td>2020</td>\n",
              "    </tr>\n",
              "  </tbody>\n",
              "</table>\n",
              "</div>"
            ],
            "text/plain": [
              "  fecha_actualizacion id_registro  ... mes_ingreso año_ingreso\n",
              "0          2020-09-12      114cd3  ...           7        2020\n",
              "1          2020-09-12      0bafd8  ...           4        2020\n",
              "2          2020-09-12      18747a  ...           4        2020\n",
              "3          2020-09-12      174174  ...           4        2020\n",
              "4          2020-09-12      0eae86  ...           4        2020\n",
              "\n",
              "[5 rows x 40 columns]"
            ]
          },
          "metadata": {
            "tags": []
          },
          "execution_count": 55
        }
      ]
    },
    {
      "cell_type": "markdown",
      "metadata": {
        "id": "8cuvw-Oqt-PB",
        "colab_type": "text"
      },
      "source": [
        "###Filtros"
      ]
    },
    {
      "cell_type": "markdown",
      "metadata": {
        "id": "RWB25OpKu4Qu",
        "colab_type": "text"
      },
      "source": [
        "**Distintas formas de filtrar lo mismo**"
      ]
    },
    {
      "cell_type": "code",
      "metadata": {
        "id": "v_CUS4lRt9XI",
        "colab_type": "code",
        "colab": {
          "base_uri": "https://localhost:8080/",
          "height": 199
        },
        "outputId": "17d0b1e1-00e0-4a02-a99b-6f720ce9cb1c"
      },
      "source": [
        "# usando query\n",
        "data.query('nacionalidad == \"MEXICANA\"').head(2)"
      ],
      "execution_count": 56,
      "outputs": [
        {
          "output_type": "execute_result",
          "data": {
            "text/html": [
              "<div>\n",
              "<style scoped>\n",
              "    .dataframe tbody tr th:only-of-type {\n",
              "        vertical-align: middle;\n",
              "    }\n",
              "\n",
              "    .dataframe tbody tr th {\n",
              "        vertical-align: top;\n",
              "    }\n",
              "\n",
              "    .dataframe thead th {\n",
              "        text-align: right;\n",
              "    }\n",
              "</style>\n",
              "<table border=\"1\" class=\"dataframe\">\n",
              "  <thead>\n",
              "    <tr style=\"text-align: right;\">\n",
              "      <th></th>\n",
              "      <th>fecha_actualizacion</th>\n",
              "      <th>id_registro</th>\n",
              "      <th>fecha_ingreso</th>\n",
              "      <th>fecha_sintomas</th>\n",
              "      <th>fecha_def</th>\n",
              "      <th>edad</th>\n",
              "      <th>pais_nacionalidad</th>\n",
              "      <th>pais_origen</th>\n",
              "      <th>entidad_res</th>\n",
              "      <th>municipio_res</th>\n",
              "      <th>entidad_um</th>\n",
              "      <th>entidad_nac</th>\n",
              "      <th>intubado</th>\n",
              "      <th>neumonia</th>\n",
              "      <th>embarazo</th>\n",
              "      <th>habla_lengua_indig</th>\n",
              "      <th>diabetes</th>\n",
              "      <th>epoc</th>\n",
              "      <th>asma</th>\n",
              "      <th>inmusupr</th>\n",
              "      <th>hipertension</th>\n",
              "      <th>otra_com</th>\n",
              "      <th>cardiovascular</th>\n",
              "      <th>obesidad</th>\n",
              "      <th>renal_cronica</th>\n",
              "      <th>tabaquismo</th>\n",
              "      <th>otro_caso</th>\n",
              "      <th>migrante</th>\n",
              "      <th>uci</th>\n",
              "      <th>origen</th>\n",
              "      <th>sector</th>\n",
              "      <th>sexo</th>\n",
              "      <th>tipo_paciente</th>\n",
              "      <th>nacionalidad</th>\n",
              "      <th>resultado</th>\n",
              "      <th>defuncion</th>\n",
              "      <th>mes_def</th>\n",
              "      <th>año_def</th>\n",
              "      <th>mes_ingreso</th>\n",
              "      <th>año_ingreso</th>\n",
              "    </tr>\n",
              "  </thead>\n",
              "  <tbody>\n",
              "    <tr>\n",
              "      <th>0</th>\n",
              "      <td>2020-09-12</td>\n",
              "      <td>114cd3</td>\n",
              "      <td>2020-07-06</td>\n",
              "      <td>2020-06-29</td>\n",
              "      <td>NaT</td>\n",
              "      <td>52</td>\n",
              "      <td>MÃ©xico</td>\n",
              "      <td>99</td>\n",
              "      <td>TABASCO</td>\n",
              "      <td>CENTRO</td>\n",
              "      <td>TABASCO</td>\n",
              "      <td>TABASCO</td>\n",
              "      <td>NO APLICA</td>\n",
              "      <td>NO</td>\n",
              "      <td>NO</td>\n",
              "      <td>NO</td>\n",
              "      <td>NO</td>\n",
              "      <td>NO</td>\n",
              "      <td>NO</td>\n",
              "      <td>NO</td>\n",
              "      <td>NO</td>\n",
              "      <td>NO</td>\n",
              "      <td>NO</td>\n",
              "      <td>NO</td>\n",
              "      <td>NO</td>\n",
              "      <td>NO</td>\n",
              "      <td>SI</td>\n",
              "      <td>NO ESPECIFICADO</td>\n",
              "      <td>NO APLICA</td>\n",
              "      <td>FUERA DE USMER</td>\n",
              "      <td>ESTATAL</td>\n",
              "      <td>MUJER</td>\n",
              "      <td>AMBULATORIO</td>\n",
              "      <td>MEXICANA</td>\n",
              "      <td>Positivo SARS-CoV-2</td>\n",
              "      <td>False</td>\n",
              "      <td>NaN</td>\n",
              "      <td>NaN</td>\n",
              "      <td>7</td>\n",
              "      <td>2020</td>\n",
              "    </tr>\n",
              "    <tr>\n",
              "      <th>1</th>\n",
              "      <td>2020-09-12</td>\n",
              "      <td>0bafd8</td>\n",
              "      <td>2020-04-29</td>\n",
              "      <td>2020-04-28</td>\n",
              "      <td>2020-05-09</td>\n",
              "      <td>57</td>\n",
              "      <td>MÃ©xico</td>\n",
              "      <td>99</td>\n",
              "      <td>MÉXICO</td>\n",
              "      <td>TOLUCA</td>\n",
              "      <td>MÉXICO</td>\n",
              "      <td>MÉXICO</td>\n",
              "      <td>SI</td>\n",
              "      <td>NO</td>\n",
              "      <td>NO APLICA</td>\n",
              "      <td>NO</td>\n",
              "      <td>NO</td>\n",
              "      <td>NO</td>\n",
              "      <td>NO</td>\n",
              "      <td>NO</td>\n",
              "      <td>NO</td>\n",
              "      <td>NO</td>\n",
              "      <td>NO</td>\n",
              "      <td>NO</td>\n",
              "      <td>NO</td>\n",
              "      <td>NO</td>\n",
              "      <td>NO ESPECIFICADO</td>\n",
              "      <td>NO ESPECIFICADO</td>\n",
              "      <td>NO</td>\n",
              "      <td>FUERA DE USMER</td>\n",
              "      <td>IMSS</td>\n",
              "      <td>HOMBRE</td>\n",
              "      <td>HOSPITALIZADO</td>\n",
              "      <td>MEXICANA</td>\n",
              "      <td>Positivo SARS-CoV-2</td>\n",
              "      <td>True</td>\n",
              "      <td>5.0</td>\n",
              "      <td>2020.0</td>\n",
              "      <td>4</td>\n",
              "      <td>2020</td>\n",
              "    </tr>\n",
              "  </tbody>\n",
              "</table>\n",
              "</div>"
            ],
            "text/plain": [
              "  fecha_actualizacion id_registro  ... mes_ingreso año_ingreso\n",
              "0          2020-09-12      114cd3  ...           7        2020\n",
              "1          2020-09-12      0bafd8  ...           4        2020\n",
              "\n",
              "[2 rows x 40 columns]"
            ]
          },
          "metadata": {
            "tags": []
          },
          "execution_count": 56
        }
      ]
    },
    {
      "cell_type": "code",
      "metadata": {
        "id": "uiXMDLQbvgIB",
        "colab_type": "code",
        "colab": {
          "base_uri": "https://localhost:8080/",
          "height": 199
        },
        "outputId": "d9b843e2-c968-468b-8064-e9461e825169"
      },
      "source": [
        "# haciendo referencia a la columna como índice\n",
        "data[data['nacionalidad'] == 'MEXICANA'].head(2)"
      ],
      "execution_count": 57,
      "outputs": [
        {
          "output_type": "execute_result",
          "data": {
            "text/html": [
              "<div>\n",
              "<style scoped>\n",
              "    .dataframe tbody tr th:only-of-type {\n",
              "        vertical-align: middle;\n",
              "    }\n",
              "\n",
              "    .dataframe tbody tr th {\n",
              "        vertical-align: top;\n",
              "    }\n",
              "\n",
              "    .dataframe thead th {\n",
              "        text-align: right;\n",
              "    }\n",
              "</style>\n",
              "<table border=\"1\" class=\"dataframe\">\n",
              "  <thead>\n",
              "    <tr style=\"text-align: right;\">\n",
              "      <th></th>\n",
              "      <th>fecha_actualizacion</th>\n",
              "      <th>id_registro</th>\n",
              "      <th>fecha_ingreso</th>\n",
              "      <th>fecha_sintomas</th>\n",
              "      <th>fecha_def</th>\n",
              "      <th>edad</th>\n",
              "      <th>pais_nacionalidad</th>\n",
              "      <th>pais_origen</th>\n",
              "      <th>entidad_res</th>\n",
              "      <th>municipio_res</th>\n",
              "      <th>entidad_um</th>\n",
              "      <th>entidad_nac</th>\n",
              "      <th>intubado</th>\n",
              "      <th>neumonia</th>\n",
              "      <th>embarazo</th>\n",
              "      <th>habla_lengua_indig</th>\n",
              "      <th>diabetes</th>\n",
              "      <th>epoc</th>\n",
              "      <th>asma</th>\n",
              "      <th>inmusupr</th>\n",
              "      <th>hipertension</th>\n",
              "      <th>otra_com</th>\n",
              "      <th>cardiovascular</th>\n",
              "      <th>obesidad</th>\n",
              "      <th>renal_cronica</th>\n",
              "      <th>tabaquismo</th>\n",
              "      <th>otro_caso</th>\n",
              "      <th>migrante</th>\n",
              "      <th>uci</th>\n",
              "      <th>origen</th>\n",
              "      <th>sector</th>\n",
              "      <th>sexo</th>\n",
              "      <th>tipo_paciente</th>\n",
              "      <th>nacionalidad</th>\n",
              "      <th>resultado</th>\n",
              "      <th>defuncion</th>\n",
              "      <th>mes_def</th>\n",
              "      <th>año_def</th>\n",
              "      <th>mes_ingreso</th>\n",
              "      <th>año_ingreso</th>\n",
              "    </tr>\n",
              "  </thead>\n",
              "  <tbody>\n",
              "    <tr>\n",
              "      <th>0</th>\n",
              "      <td>2020-09-12</td>\n",
              "      <td>114cd3</td>\n",
              "      <td>2020-07-06</td>\n",
              "      <td>2020-06-29</td>\n",
              "      <td>NaT</td>\n",
              "      <td>52</td>\n",
              "      <td>MÃ©xico</td>\n",
              "      <td>99</td>\n",
              "      <td>TABASCO</td>\n",
              "      <td>CENTRO</td>\n",
              "      <td>TABASCO</td>\n",
              "      <td>TABASCO</td>\n",
              "      <td>NO APLICA</td>\n",
              "      <td>NO</td>\n",
              "      <td>NO</td>\n",
              "      <td>NO</td>\n",
              "      <td>NO</td>\n",
              "      <td>NO</td>\n",
              "      <td>NO</td>\n",
              "      <td>NO</td>\n",
              "      <td>NO</td>\n",
              "      <td>NO</td>\n",
              "      <td>NO</td>\n",
              "      <td>NO</td>\n",
              "      <td>NO</td>\n",
              "      <td>NO</td>\n",
              "      <td>SI</td>\n",
              "      <td>NO ESPECIFICADO</td>\n",
              "      <td>NO APLICA</td>\n",
              "      <td>FUERA DE USMER</td>\n",
              "      <td>ESTATAL</td>\n",
              "      <td>MUJER</td>\n",
              "      <td>AMBULATORIO</td>\n",
              "      <td>MEXICANA</td>\n",
              "      <td>Positivo SARS-CoV-2</td>\n",
              "      <td>False</td>\n",
              "      <td>NaN</td>\n",
              "      <td>NaN</td>\n",
              "      <td>7</td>\n",
              "      <td>2020</td>\n",
              "    </tr>\n",
              "    <tr>\n",
              "      <th>1</th>\n",
              "      <td>2020-09-12</td>\n",
              "      <td>0bafd8</td>\n",
              "      <td>2020-04-29</td>\n",
              "      <td>2020-04-28</td>\n",
              "      <td>2020-05-09</td>\n",
              "      <td>57</td>\n",
              "      <td>MÃ©xico</td>\n",
              "      <td>99</td>\n",
              "      <td>MÉXICO</td>\n",
              "      <td>TOLUCA</td>\n",
              "      <td>MÉXICO</td>\n",
              "      <td>MÉXICO</td>\n",
              "      <td>SI</td>\n",
              "      <td>NO</td>\n",
              "      <td>NO APLICA</td>\n",
              "      <td>NO</td>\n",
              "      <td>NO</td>\n",
              "      <td>NO</td>\n",
              "      <td>NO</td>\n",
              "      <td>NO</td>\n",
              "      <td>NO</td>\n",
              "      <td>NO</td>\n",
              "      <td>NO</td>\n",
              "      <td>NO</td>\n",
              "      <td>NO</td>\n",
              "      <td>NO</td>\n",
              "      <td>NO ESPECIFICADO</td>\n",
              "      <td>NO ESPECIFICADO</td>\n",
              "      <td>NO</td>\n",
              "      <td>FUERA DE USMER</td>\n",
              "      <td>IMSS</td>\n",
              "      <td>HOMBRE</td>\n",
              "      <td>HOSPITALIZADO</td>\n",
              "      <td>MEXICANA</td>\n",
              "      <td>Positivo SARS-CoV-2</td>\n",
              "      <td>True</td>\n",
              "      <td>5.0</td>\n",
              "      <td>2020.0</td>\n",
              "      <td>4</td>\n",
              "      <td>2020</td>\n",
              "    </tr>\n",
              "  </tbody>\n",
              "</table>\n",
              "</div>"
            ],
            "text/plain": [
              "  fecha_actualizacion id_registro  ... mes_ingreso año_ingreso\n",
              "0          2020-09-12      114cd3  ...           7        2020\n",
              "1          2020-09-12      0bafd8  ...           4        2020\n",
              "\n",
              "[2 rows x 40 columns]"
            ]
          },
          "metadata": {
            "tags": []
          },
          "execution_count": 57
        }
      ]
    },
    {
      "cell_type": "code",
      "metadata": {
        "id": "FtcFiMcjvthY",
        "colab_type": "code",
        "colab": {
          "base_uri": "https://localhost:8080/",
          "height": 199
        },
        "outputId": "8e65ce72-85df-461c-f4e3-6bdea6689f29"
      },
      "source": [
        "# seleccionando directamente la columna que queremos filtrar\n",
        "data[data.nacionalidad == 'MEXICANA'].head(2)"
      ],
      "execution_count": 58,
      "outputs": [
        {
          "output_type": "execute_result",
          "data": {
            "text/html": [
              "<div>\n",
              "<style scoped>\n",
              "    .dataframe tbody tr th:only-of-type {\n",
              "        vertical-align: middle;\n",
              "    }\n",
              "\n",
              "    .dataframe tbody tr th {\n",
              "        vertical-align: top;\n",
              "    }\n",
              "\n",
              "    .dataframe thead th {\n",
              "        text-align: right;\n",
              "    }\n",
              "</style>\n",
              "<table border=\"1\" class=\"dataframe\">\n",
              "  <thead>\n",
              "    <tr style=\"text-align: right;\">\n",
              "      <th></th>\n",
              "      <th>fecha_actualizacion</th>\n",
              "      <th>id_registro</th>\n",
              "      <th>fecha_ingreso</th>\n",
              "      <th>fecha_sintomas</th>\n",
              "      <th>fecha_def</th>\n",
              "      <th>edad</th>\n",
              "      <th>pais_nacionalidad</th>\n",
              "      <th>pais_origen</th>\n",
              "      <th>entidad_res</th>\n",
              "      <th>municipio_res</th>\n",
              "      <th>entidad_um</th>\n",
              "      <th>entidad_nac</th>\n",
              "      <th>intubado</th>\n",
              "      <th>neumonia</th>\n",
              "      <th>embarazo</th>\n",
              "      <th>habla_lengua_indig</th>\n",
              "      <th>diabetes</th>\n",
              "      <th>epoc</th>\n",
              "      <th>asma</th>\n",
              "      <th>inmusupr</th>\n",
              "      <th>hipertension</th>\n",
              "      <th>otra_com</th>\n",
              "      <th>cardiovascular</th>\n",
              "      <th>obesidad</th>\n",
              "      <th>renal_cronica</th>\n",
              "      <th>tabaquismo</th>\n",
              "      <th>otro_caso</th>\n",
              "      <th>migrante</th>\n",
              "      <th>uci</th>\n",
              "      <th>origen</th>\n",
              "      <th>sector</th>\n",
              "      <th>sexo</th>\n",
              "      <th>tipo_paciente</th>\n",
              "      <th>nacionalidad</th>\n",
              "      <th>resultado</th>\n",
              "      <th>defuncion</th>\n",
              "      <th>mes_def</th>\n",
              "      <th>año_def</th>\n",
              "      <th>mes_ingreso</th>\n",
              "      <th>año_ingreso</th>\n",
              "    </tr>\n",
              "  </thead>\n",
              "  <tbody>\n",
              "    <tr>\n",
              "      <th>0</th>\n",
              "      <td>2020-09-12</td>\n",
              "      <td>114cd3</td>\n",
              "      <td>2020-07-06</td>\n",
              "      <td>2020-06-29</td>\n",
              "      <td>NaT</td>\n",
              "      <td>52</td>\n",
              "      <td>MÃ©xico</td>\n",
              "      <td>99</td>\n",
              "      <td>TABASCO</td>\n",
              "      <td>CENTRO</td>\n",
              "      <td>TABASCO</td>\n",
              "      <td>TABASCO</td>\n",
              "      <td>NO APLICA</td>\n",
              "      <td>NO</td>\n",
              "      <td>NO</td>\n",
              "      <td>NO</td>\n",
              "      <td>NO</td>\n",
              "      <td>NO</td>\n",
              "      <td>NO</td>\n",
              "      <td>NO</td>\n",
              "      <td>NO</td>\n",
              "      <td>NO</td>\n",
              "      <td>NO</td>\n",
              "      <td>NO</td>\n",
              "      <td>NO</td>\n",
              "      <td>NO</td>\n",
              "      <td>SI</td>\n",
              "      <td>NO ESPECIFICADO</td>\n",
              "      <td>NO APLICA</td>\n",
              "      <td>FUERA DE USMER</td>\n",
              "      <td>ESTATAL</td>\n",
              "      <td>MUJER</td>\n",
              "      <td>AMBULATORIO</td>\n",
              "      <td>MEXICANA</td>\n",
              "      <td>Positivo SARS-CoV-2</td>\n",
              "      <td>False</td>\n",
              "      <td>NaN</td>\n",
              "      <td>NaN</td>\n",
              "      <td>7</td>\n",
              "      <td>2020</td>\n",
              "    </tr>\n",
              "    <tr>\n",
              "      <th>1</th>\n",
              "      <td>2020-09-12</td>\n",
              "      <td>0bafd8</td>\n",
              "      <td>2020-04-29</td>\n",
              "      <td>2020-04-28</td>\n",
              "      <td>2020-05-09</td>\n",
              "      <td>57</td>\n",
              "      <td>MÃ©xico</td>\n",
              "      <td>99</td>\n",
              "      <td>MÉXICO</td>\n",
              "      <td>TOLUCA</td>\n",
              "      <td>MÉXICO</td>\n",
              "      <td>MÉXICO</td>\n",
              "      <td>SI</td>\n",
              "      <td>NO</td>\n",
              "      <td>NO APLICA</td>\n",
              "      <td>NO</td>\n",
              "      <td>NO</td>\n",
              "      <td>NO</td>\n",
              "      <td>NO</td>\n",
              "      <td>NO</td>\n",
              "      <td>NO</td>\n",
              "      <td>NO</td>\n",
              "      <td>NO</td>\n",
              "      <td>NO</td>\n",
              "      <td>NO</td>\n",
              "      <td>NO</td>\n",
              "      <td>NO ESPECIFICADO</td>\n",
              "      <td>NO ESPECIFICADO</td>\n",
              "      <td>NO</td>\n",
              "      <td>FUERA DE USMER</td>\n",
              "      <td>IMSS</td>\n",
              "      <td>HOMBRE</td>\n",
              "      <td>HOSPITALIZADO</td>\n",
              "      <td>MEXICANA</td>\n",
              "      <td>Positivo SARS-CoV-2</td>\n",
              "      <td>True</td>\n",
              "      <td>5.0</td>\n",
              "      <td>2020.0</td>\n",
              "      <td>4</td>\n",
              "      <td>2020</td>\n",
              "    </tr>\n",
              "  </tbody>\n",
              "</table>\n",
              "</div>"
            ],
            "text/plain": [
              "  fecha_actualizacion id_registro  ... mes_ingreso año_ingreso\n",
              "0          2020-09-12      114cd3  ...           7        2020\n",
              "1          2020-09-12      0bafd8  ...           4        2020\n",
              "\n",
              "[2 rows x 40 columns]"
            ]
          },
          "metadata": {
            "tags": []
          },
          "execution_count": 58
        }
      ]
    },
    {
      "cell_type": "markdown",
      "metadata": {
        "id": "4tawkDh4wMFr",
        "colab_type": "text"
      },
      "source": [
        "**Filtrado múltiple**"
      ]
    },
    {
      "cell_type": "code",
      "metadata": {
        "id": "zTLWeZwRwKUU",
        "colab_type": "code",
        "colab": {
          "base_uri": "https://localhost:8080/",
          "height": 199
        },
        "outputId": "f0ffbc08-3006-4b13-f4c9-3cd79ce627e1"
      },
      "source": [
        "# usando query podemos poner en el string del query todas las condiciones que queramos\n",
        "data.query('nacionalidad == \"MEXICANA\" & entidad_res == \"CIUDAD DE MÉXICO\"').head(2)"
      ],
      "execution_count": 59,
      "outputs": [
        {
          "output_type": "execute_result",
          "data": {
            "text/html": [
              "<div>\n",
              "<style scoped>\n",
              "    .dataframe tbody tr th:only-of-type {\n",
              "        vertical-align: middle;\n",
              "    }\n",
              "\n",
              "    .dataframe tbody tr th {\n",
              "        vertical-align: top;\n",
              "    }\n",
              "\n",
              "    .dataframe thead th {\n",
              "        text-align: right;\n",
              "    }\n",
              "</style>\n",
              "<table border=\"1\" class=\"dataframe\">\n",
              "  <thead>\n",
              "    <tr style=\"text-align: right;\">\n",
              "      <th></th>\n",
              "      <th>fecha_actualizacion</th>\n",
              "      <th>id_registro</th>\n",
              "      <th>fecha_ingreso</th>\n",
              "      <th>fecha_sintomas</th>\n",
              "      <th>fecha_def</th>\n",
              "      <th>edad</th>\n",
              "      <th>pais_nacionalidad</th>\n",
              "      <th>pais_origen</th>\n",
              "      <th>entidad_res</th>\n",
              "      <th>municipio_res</th>\n",
              "      <th>entidad_um</th>\n",
              "      <th>entidad_nac</th>\n",
              "      <th>intubado</th>\n",
              "      <th>neumonia</th>\n",
              "      <th>embarazo</th>\n",
              "      <th>habla_lengua_indig</th>\n",
              "      <th>diabetes</th>\n",
              "      <th>epoc</th>\n",
              "      <th>asma</th>\n",
              "      <th>inmusupr</th>\n",
              "      <th>hipertension</th>\n",
              "      <th>otra_com</th>\n",
              "      <th>cardiovascular</th>\n",
              "      <th>obesidad</th>\n",
              "      <th>renal_cronica</th>\n",
              "      <th>tabaquismo</th>\n",
              "      <th>otro_caso</th>\n",
              "      <th>migrante</th>\n",
              "      <th>uci</th>\n",
              "      <th>origen</th>\n",
              "      <th>sector</th>\n",
              "      <th>sexo</th>\n",
              "      <th>tipo_paciente</th>\n",
              "      <th>nacionalidad</th>\n",
              "      <th>resultado</th>\n",
              "      <th>defuncion</th>\n",
              "      <th>mes_def</th>\n",
              "      <th>año_def</th>\n",
              "      <th>mes_ingreso</th>\n",
              "      <th>año_ingreso</th>\n",
              "    </tr>\n",
              "  </thead>\n",
              "  <tbody>\n",
              "    <tr>\n",
              "      <th>3</th>\n",
              "      <td>2020-09-12</td>\n",
              "      <td>174174</td>\n",
              "      <td>2020-04-18</td>\n",
              "      <td>2020-04-11</td>\n",
              "      <td>NaT</td>\n",
              "      <td>28</td>\n",
              "      <td>MÃ©xico</td>\n",
              "      <td>99</td>\n",
              "      <td>CIUDAD DE MÉXICO</td>\n",
              "      <td>IZTAPALAPA</td>\n",
              "      <td>CIUDAD DE MÉXICO</td>\n",
              "      <td>GUERRERO</td>\n",
              "      <td>NO APLICA</td>\n",
              "      <td>SI</td>\n",
              "      <td>NO APLICA</td>\n",
              "      <td>NO</td>\n",
              "      <td>NO</td>\n",
              "      <td>NO</td>\n",
              "      <td>NO</td>\n",
              "      <td>NO</td>\n",
              "      <td>NO</td>\n",
              "      <td>NO</td>\n",
              "      <td>NO</td>\n",
              "      <td>NO</td>\n",
              "      <td>NO</td>\n",
              "      <td>NO</td>\n",
              "      <td>NO ESPECIFICADO</td>\n",
              "      <td>NO ESPECIFICADO</td>\n",
              "      <td>NO APLICA</td>\n",
              "      <td>FUERA DE USMER</td>\n",
              "      <td>IMSS</td>\n",
              "      <td>HOMBRE</td>\n",
              "      <td>AMBULATORIO</td>\n",
              "      <td>MEXICANA</td>\n",
              "      <td>Positivo SARS-CoV-2</td>\n",
              "      <td>False</td>\n",
              "      <td>NaN</td>\n",
              "      <td>NaN</td>\n",
              "      <td>4</td>\n",
              "      <td>2020</td>\n",
              "    </tr>\n",
              "    <tr>\n",
              "      <th>6</th>\n",
              "      <td>2020-09-12</td>\n",
              "      <td>1a73c1</td>\n",
              "      <td>2020-05-22</td>\n",
              "      <td>2020-05-21</td>\n",
              "      <td>2020-05-25</td>\n",
              "      <td>48</td>\n",
              "      <td>MÃ©xico</td>\n",
              "      <td>99</td>\n",
              "      <td>CIUDAD DE MÉXICO</td>\n",
              "      <td>GUSTAVO A. MADERO</td>\n",
              "      <td>MÉXICO</td>\n",
              "      <td>CIUDAD DE MÉXICO</td>\n",
              "      <td>NO APLICA</td>\n",
              "      <td>NO</td>\n",
              "      <td>NO</td>\n",
              "      <td>NO</td>\n",
              "      <td>SI</td>\n",
              "      <td>NO</td>\n",
              "      <td>NO</td>\n",
              "      <td>NO</td>\n",
              "      <td>SI</td>\n",
              "      <td>NO</td>\n",
              "      <td>NO</td>\n",
              "      <td>NO</td>\n",
              "      <td>NO</td>\n",
              "      <td>NO</td>\n",
              "      <td>SI</td>\n",
              "      <td>NO ESPECIFICADO</td>\n",
              "      <td>NO APLICA</td>\n",
              "      <td>FUERA DE USMER</td>\n",
              "      <td>ESTATAL</td>\n",
              "      <td>MUJER</td>\n",
              "      <td>AMBULATORIO</td>\n",
              "      <td>MEXICANA</td>\n",
              "      <td>Positivo SARS-CoV-2</td>\n",
              "      <td>True</td>\n",
              "      <td>5.0</td>\n",
              "      <td>2020.0</td>\n",
              "      <td>5</td>\n",
              "      <td>2020</td>\n",
              "    </tr>\n",
              "  </tbody>\n",
              "</table>\n",
              "</div>"
            ],
            "text/plain": [
              "  fecha_actualizacion id_registro  ... mes_ingreso año_ingreso\n",
              "3          2020-09-12      174174  ...           4        2020\n",
              "6          2020-09-12      1a73c1  ...           5        2020\n",
              "\n",
              "[2 rows x 40 columns]"
            ]
          },
          "metadata": {
            "tags": []
          },
          "execution_count": 59
        }
      ]
    },
    {
      "cell_type": "code",
      "metadata": {
        "id": "Rq_KnQ3nwYfB",
        "colab_type": "code",
        "colab": {
          "base_uri": "https://localhost:8080/",
          "height": 199
        },
        "outputId": "a1fd959b-93de-4429-e3a3-23e0d9fd7db3"
      },
      "source": [
        "# usando el filtrado tradicional debemos encerrar en paréntesis cada condición que queremos que cumpla nuestro filtro\n",
        "data[(data['nacionalidad'] == \"MEXICANA\") & (data.entidad_res == \"CIUDAD DE MÉXICO\")].head(2)"
      ],
      "execution_count": 60,
      "outputs": [
        {
          "output_type": "execute_result",
          "data": {
            "text/html": [
              "<div>\n",
              "<style scoped>\n",
              "    .dataframe tbody tr th:only-of-type {\n",
              "        vertical-align: middle;\n",
              "    }\n",
              "\n",
              "    .dataframe tbody tr th {\n",
              "        vertical-align: top;\n",
              "    }\n",
              "\n",
              "    .dataframe thead th {\n",
              "        text-align: right;\n",
              "    }\n",
              "</style>\n",
              "<table border=\"1\" class=\"dataframe\">\n",
              "  <thead>\n",
              "    <tr style=\"text-align: right;\">\n",
              "      <th></th>\n",
              "      <th>fecha_actualizacion</th>\n",
              "      <th>id_registro</th>\n",
              "      <th>fecha_ingreso</th>\n",
              "      <th>fecha_sintomas</th>\n",
              "      <th>fecha_def</th>\n",
              "      <th>edad</th>\n",
              "      <th>pais_nacionalidad</th>\n",
              "      <th>pais_origen</th>\n",
              "      <th>entidad_res</th>\n",
              "      <th>municipio_res</th>\n",
              "      <th>entidad_um</th>\n",
              "      <th>entidad_nac</th>\n",
              "      <th>intubado</th>\n",
              "      <th>neumonia</th>\n",
              "      <th>embarazo</th>\n",
              "      <th>habla_lengua_indig</th>\n",
              "      <th>diabetes</th>\n",
              "      <th>epoc</th>\n",
              "      <th>asma</th>\n",
              "      <th>inmusupr</th>\n",
              "      <th>hipertension</th>\n",
              "      <th>otra_com</th>\n",
              "      <th>cardiovascular</th>\n",
              "      <th>obesidad</th>\n",
              "      <th>renal_cronica</th>\n",
              "      <th>tabaquismo</th>\n",
              "      <th>otro_caso</th>\n",
              "      <th>migrante</th>\n",
              "      <th>uci</th>\n",
              "      <th>origen</th>\n",
              "      <th>sector</th>\n",
              "      <th>sexo</th>\n",
              "      <th>tipo_paciente</th>\n",
              "      <th>nacionalidad</th>\n",
              "      <th>resultado</th>\n",
              "      <th>defuncion</th>\n",
              "      <th>mes_def</th>\n",
              "      <th>año_def</th>\n",
              "      <th>mes_ingreso</th>\n",
              "      <th>año_ingreso</th>\n",
              "    </tr>\n",
              "  </thead>\n",
              "  <tbody>\n",
              "    <tr>\n",
              "      <th>3</th>\n",
              "      <td>2020-09-12</td>\n",
              "      <td>174174</td>\n",
              "      <td>2020-04-18</td>\n",
              "      <td>2020-04-11</td>\n",
              "      <td>NaT</td>\n",
              "      <td>28</td>\n",
              "      <td>MÃ©xico</td>\n",
              "      <td>99</td>\n",
              "      <td>CIUDAD DE MÉXICO</td>\n",
              "      <td>IZTAPALAPA</td>\n",
              "      <td>CIUDAD DE MÉXICO</td>\n",
              "      <td>GUERRERO</td>\n",
              "      <td>NO APLICA</td>\n",
              "      <td>SI</td>\n",
              "      <td>NO APLICA</td>\n",
              "      <td>NO</td>\n",
              "      <td>NO</td>\n",
              "      <td>NO</td>\n",
              "      <td>NO</td>\n",
              "      <td>NO</td>\n",
              "      <td>NO</td>\n",
              "      <td>NO</td>\n",
              "      <td>NO</td>\n",
              "      <td>NO</td>\n",
              "      <td>NO</td>\n",
              "      <td>NO</td>\n",
              "      <td>NO ESPECIFICADO</td>\n",
              "      <td>NO ESPECIFICADO</td>\n",
              "      <td>NO APLICA</td>\n",
              "      <td>FUERA DE USMER</td>\n",
              "      <td>IMSS</td>\n",
              "      <td>HOMBRE</td>\n",
              "      <td>AMBULATORIO</td>\n",
              "      <td>MEXICANA</td>\n",
              "      <td>Positivo SARS-CoV-2</td>\n",
              "      <td>False</td>\n",
              "      <td>NaN</td>\n",
              "      <td>NaN</td>\n",
              "      <td>4</td>\n",
              "      <td>2020</td>\n",
              "    </tr>\n",
              "    <tr>\n",
              "      <th>6</th>\n",
              "      <td>2020-09-12</td>\n",
              "      <td>1a73c1</td>\n",
              "      <td>2020-05-22</td>\n",
              "      <td>2020-05-21</td>\n",
              "      <td>2020-05-25</td>\n",
              "      <td>48</td>\n",
              "      <td>MÃ©xico</td>\n",
              "      <td>99</td>\n",
              "      <td>CIUDAD DE MÉXICO</td>\n",
              "      <td>GUSTAVO A. MADERO</td>\n",
              "      <td>MÉXICO</td>\n",
              "      <td>CIUDAD DE MÉXICO</td>\n",
              "      <td>NO APLICA</td>\n",
              "      <td>NO</td>\n",
              "      <td>NO</td>\n",
              "      <td>NO</td>\n",
              "      <td>SI</td>\n",
              "      <td>NO</td>\n",
              "      <td>NO</td>\n",
              "      <td>NO</td>\n",
              "      <td>SI</td>\n",
              "      <td>NO</td>\n",
              "      <td>NO</td>\n",
              "      <td>NO</td>\n",
              "      <td>NO</td>\n",
              "      <td>NO</td>\n",
              "      <td>SI</td>\n",
              "      <td>NO ESPECIFICADO</td>\n",
              "      <td>NO APLICA</td>\n",
              "      <td>FUERA DE USMER</td>\n",
              "      <td>ESTATAL</td>\n",
              "      <td>MUJER</td>\n",
              "      <td>AMBULATORIO</td>\n",
              "      <td>MEXICANA</td>\n",
              "      <td>Positivo SARS-CoV-2</td>\n",
              "      <td>True</td>\n",
              "      <td>5.0</td>\n",
              "      <td>2020.0</td>\n",
              "      <td>5</td>\n",
              "      <td>2020</td>\n",
              "    </tr>\n",
              "  </tbody>\n",
              "</table>\n",
              "</div>"
            ],
            "text/plain": [
              "  fecha_actualizacion id_registro  ... mes_ingreso año_ingreso\n",
              "3          2020-09-12      174174  ...           4        2020\n",
              "6          2020-09-12      1a73c1  ...           5        2020\n",
              "\n",
              "[2 rows x 40 columns]"
            ]
          },
          "metadata": {
            "tags": []
          },
          "execution_count": 60
        }
      ]
    },
    {
      "cell_type": "markdown",
      "metadata": {
        "id": "DzNeaCoduF6l",
        "colab_type": "text"
      },
      "source": [
        "###Resúmenes"
      ]
    },
    {
      "cell_type": "code",
      "metadata": {
        "id": "CJ3L22nex0b0",
        "colab_type": "code",
        "colab": {
          "base_uri": "https://localhost:8080/",
          "height": 85
        },
        "outputId": "c00a646c-c771-4147-d17f-09daa5a6886a"
      },
      "source": [
        "# una columna, una métrica\n",
        "data.groupby('sexo').edad.mean()"
      ],
      "execution_count": 61,
      "outputs": [
        {
          "output_type": "execute_result",
          "data": {
            "text/plain": [
              "sexo\n",
              "HOMBRE    42.667259\n",
              "MUJER     41.639353\n",
              "Name: edad, dtype: float64"
            ]
          },
          "metadata": {
            "tags": []
          },
          "execution_count": 61
        }
      ]
    },
    {
      "cell_type": "code",
      "metadata": {
        "id": "f1GZF_ycuIIl",
        "colab_type": "code",
        "colab": {
          "base_uri": "https://localhost:8080/",
          "height": 173
        },
        "outputId": "a3628aca-636f-436e-b796-261e936e142f"
      },
      "source": [
        "# una columna, varias métricas\n",
        "data.groupby('sexo').agg({'edad': ['min','mean','max']})"
      ],
      "execution_count": 62,
      "outputs": [
        {
          "output_type": "execute_result",
          "data": {
            "text/html": [
              "<div>\n",
              "<style scoped>\n",
              "    .dataframe tbody tr th:only-of-type {\n",
              "        vertical-align: middle;\n",
              "    }\n",
              "\n",
              "    .dataframe tbody tr th {\n",
              "        vertical-align: top;\n",
              "    }\n",
              "\n",
              "    .dataframe thead tr th {\n",
              "        text-align: left;\n",
              "    }\n",
              "\n",
              "    .dataframe thead tr:last-of-type th {\n",
              "        text-align: right;\n",
              "    }\n",
              "</style>\n",
              "<table border=\"1\" class=\"dataframe\">\n",
              "  <thead>\n",
              "    <tr>\n",
              "      <th></th>\n",
              "      <th colspan=\"3\" halign=\"left\">edad</th>\n",
              "    </tr>\n",
              "    <tr>\n",
              "      <th></th>\n",
              "      <th>min</th>\n",
              "      <th>mean</th>\n",
              "      <th>max</th>\n",
              "    </tr>\n",
              "    <tr>\n",
              "      <th>sexo</th>\n",
              "      <th></th>\n",
              "      <th></th>\n",
              "      <th></th>\n",
              "    </tr>\n",
              "  </thead>\n",
              "  <tbody>\n",
              "    <tr>\n",
              "      <th>HOMBRE</th>\n",
              "      <td>0</td>\n",
              "      <td>42.667259</td>\n",
              "      <td>120</td>\n",
              "    </tr>\n",
              "    <tr>\n",
              "      <th>MUJER</th>\n",
              "      <td>0</td>\n",
              "      <td>41.639353</td>\n",
              "      <td>120</td>\n",
              "    </tr>\n",
              "  </tbody>\n",
              "</table>\n",
              "</div>"
            ],
            "text/plain": [
              "       edad                \n",
              "        min       mean  max\n",
              "sexo                       \n",
              "HOMBRE    0  42.667259  120\n",
              "MUJER     0  41.639353  120"
            ]
          },
          "metadata": {
            "tags": []
          },
          "execution_count": 62
        }
      ]
    },
    {
      "cell_type": "code",
      "metadata": {
        "id": "GDzohGmjycNN",
        "colab_type": "code",
        "colab": {
          "base_uri": "https://localhost:8080/",
          "height": 142
        },
        "outputId": "572ee021-5b62-4c56-eb20-07e44eb41ae9"
      },
      "source": [
        "# varias columnas, una métrica\n",
        "data.groupby('sexo').agg({'edad': 'mean', 'mes_ingreso': 'mean', 'mes_def': 'mean'})"
      ],
      "execution_count": 63,
      "outputs": [
        {
          "output_type": "execute_result",
          "data": {
            "text/html": [
              "<div>\n",
              "<style scoped>\n",
              "    .dataframe tbody tr th:only-of-type {\n",
              "        vertical-align: middle;\n",
              "    }\n",
              "\n",
              "    .dataframe tbody tr th {\n",
              "        vertical-align: top;\n",
              "    }\n",
              "\n",
              "    .dataframe thead th {\n",
              "        text-align: right;\n",
              "    }\n",
              "</style>\n",
              "<table border=\"1\" class=\"dataframe\">\n",
              "  <thead>\n",
              "    <tr style=\"text-align: right;\">\n",
              "      <th></th>\n",
              "      <th>edad</th>\n",
              "      <th>mes_ingreso</th>\n",
              "      <th>mes_def</th>\n",
              "    </tr>\n",
              "    <tr>\n",
              "      <th>sexo</th>\n",
              "      <th></th>\n",
              "      <th></th>\n",
              "      <th></th>\n",
              "    </tr>\n",
              "  </thead>\n",
              "  <tbody>\n",
              "    <tr>\n",
              "      <th>HOMBRE</th>\n",
              "      <td>42.667259</td>\n",
              "      <td>6.730779</td>\n",
              "      <td>6.497591</td>\n",
              "    </tr>\n",
              "    <tr>\n",
              "      <th>MUJER</th>\n",
              "      <td>41.639353</td>\n",
              "      <td>6.807770</td>\n",
              "      <td>6.572409</td>\n",
              "    </tr>\n",
              "  </tbody>\n",
              "</table>\n",
              "</div>"
            ],
            "text/plain": [
              "             edad  mes_ingreso   mes_def\n",
              "sexo                                    \n",
              "HOMBRE  42.667259     6.730779  6.497591\n",
              "MUJER   41.639353     6.807770  6.572409"
            ]
          },
          "metadata": {
            "tags": []
          },
          "execution_count": 63
        }
      ]
    },
    {
      "cell_type": "code",
      "metadata": {
        "id": "063vXVf_yyNH",
        "colab_type": "code",
        "colab": {
          "base_uri": "https://localhost:8080/",
          "height": 173
        },
        "outputId": "3e35e7b4-a4c2-44b2-a08e-33867fc9d885"
      },
      "source": [
        "# varias columnas, varias métricas\n",
        "data.groupby('sexo').agg({'edad': ['min','mean','max'], 'mes_ingreso': ['min','mean','max'], 'mes_def': ['min','mean','max']})"
      ],
      "execution_count": 64,
      "outputs": [
        {
          "output_type": "execute_result",
          "data": {
            "text/html": [
              "<div>\n",
              "<style scoped>\n",
              "    .dataframe tbody tr th:only-of-type {\n",
              "        vertical-align: middle;\n",
              "    }\n",
              "\n",
              "    .dataframe tbody tr th {\n",
              "        vertical-align: top;\n",
              "    }\n",
              "\n",
              "    .dataframe thead tr th {\n",
              "        text-align: left;\n",
              "    }\n",
              "\n",
              "    .dataframe thead tr:last-of-type th {\n",
              "        text-align: right;\n",
              "    }\n",
              "</style>\n",
              "<table border=\"1\" class=\"dataframe\">\n",
              "  <thead>\n",
              "    <tr>\n",
              "      <th></th>\n",
              "      <th colspan=\"3\" halign=\"left\">edad</th>\n",
              "      <th colspan=\"3\" halign=\"left\">mes_ingreso</th>\n",
              "      <th colspan=\"3\" halign=\"left\">mes_def</th>\n",
              "    </tr>\n",
              "    <tr>\n",
              "      <th></th>\n",
              "      <th>min</th>\n",
              "      <th>mean</th>\n",
              "      <th>max</th>\n",
              "      <th>min</th>\n",
              "      <th>mean</th>\n",
              "      <th>max</th>\n",
              "      <th>min</th>\n",
              "      <th>mean</th>\n",
              "      <th>max</th>\n",
              "    </tr>\n",
              "    <tr>\n",
              "      <th>sexo</th>\n",
              "      <th></th>\n",
              "      <th></th>\n",
              "      <th></th>\n",
              "      <th></th>\n",
              "      <th></th>\n",
              "      <th></th>\n",
              "      <th></th>\n",
              "      <th></th>\n",
              "      <th></th>\n",
              "    </tr>\n",
              "  </thead>\n",
              "  <tbody>\n",
              "    <tr>\n",
              "      <th>HOMBRE</th>\n",
              "      <td>0</td>\n",
              "      <td>42.667259</td>\n",
              "      <td>120</td>\n",
              "      <td>1</td>\n",
              "      <td>6.730779</td>\n",
              "      <td>9</td>\n",
              "      <td>1.0</td>\n",
              "      <td>6.497591</td>\n",
              "      <td>9.0</td>\n",
              "    </tr>\n",
              "    <tr>\n",
              "      <th>MUJER</th>\n",
              "      <td>0</td>\n",
              "      <td>41.639353</td>\n",
              "      <td>120</td>\n",
              "      <td>1</td>\n",
              "      <td>6.807770</td>\n",
              "      <td>9</td>\n",
              "      <td>1.0</td>\n",
              "      <td>6.572409</td>\n",
              "      <td>9.0</td>\n",
              "    </tr>\n",
              "  </tbody>\n",
              "</table>\n",
              "</div>"
            ],
            "text/plain": [
              "       edad                 mes_ingreso               mes_def               \n",
              "        min       mean  max         min      mean max     min      mean  max\n",
              "sexo                                                                        \n",
              "HOMBRE    0  42.667259  120           1  6.730779   9     1.0  6.497591  9.0\n",
              "MUJER     0  41.639353  120           1  6.807770   9     1.0  6.572409  9.0"
            ]
          },
          "metadata": {
            "tags": []
          },
          "execution_count": 64
        }
      ]
    },
    {
      "cell_type": "markdown",
      "metadata": {
        "id": "Z3l3OUMWtuAU",
        "colab_type": "text"
      },
      "source": [
        "###Descripción por Tipo"
      ]
    },
    {
      "cell_type": "code",
      "metadata": {
        "id": "54OelJ9_Y38I",
        "colab_type": "code",
        "colab": {}
      },
      "source": [
        "# Filtrar por tipos generales (categóricas y numéricas)\n",
        "numerical = data.select_dtypes(include='number')\n",
        "categorical = data.select_dtypes(include=['object', 'bool', 'category', 'datetime64[ns]'])"
      ],
      "execution_count": 65,
      "outputs": []
    },
    {
      "cell_type": "code",
      "metadata": {
        "id": "eGV5p-q9m8OL",
        "colab_type": "code",
        "colab": {
          "base_uri": "https://localhost:8080/",
          "height": 204
        },
        "outputId": "e7631b55-2ee8-4ede-cd5d-81e59fff16b1"
      },
      "source": [
        "numerical.head()"
      ],
      "execution_count": 66,
      "outputs": [
        {
          "output_type": "execute_result",
          "data": {
            "text/html": [
              "<div>\n",
              "<style scoped>\n",
              "    .dataframe tbody tr th:only-of-type {\n",
              "        vertical-align: middle;\n",
              "    }\n",
              "\n",
              "    .dataframe tbody tr th {\n",
              "        vertical-align: top;\n",
              "    }\n",
              "\n",
              "    .dataframe thead th {\n",
              "        text-align: right;\n",
              "    }\n",
              "</style>\n",
              "<table border=\"1\" class=\"dataframe\">\n",
              "  <thead>\n",
              "    <tr style=\"text-align: right;\">\n",
              "      <th></th>\n",
              "      <th>edad</th>\n",
              "      <th>mes_def</th>\n",
              "      <th>año_def</th>\n",
              "      <th>mes_ingreso</th>\n",
              "      <th>año_ingreso</th>\n",
              "    </tr>\n",
              "  </thead>\n",
              "  <tbody>\n",
              "    <tr>\n",
              "      <th>0</th>\n",
              "      <td>52</td>\n",
              "      <td>NaN</td>\n",
              "      <td>NaN</td>\n",
              "      <td>7</td>\n",
              "      <td>2020</td>\n",
              "    </tr>\n",
              "    <tr>\n",
              "      <th>1</th>\n",
              "      <td>57</td>\n",
              "      <td>5.0</td>\n",
              "      <td>2020.0</td>\n",
              "      <td>4</td>\n",
              "      <td>2020</td>\n",
              "    </tr>\n",
              "    <tr>\n",
              "      <th>2</th>\n",
              "      <td>44</td>\n",
              "      <td>NaN</td>\n",
              "      <td>NaN</td>\n",
              "      <td>4</td>\n",
              "      <td>2020</td>\n",
              "    </tr>\n",
              "    <tr>\n",
              "      <th>3</th>\n",
              "      <td>28</td>\n",
              "      <td>NaN</td>\n",
              "      <td>NaN</td>\n",
              "      <td>4</td>\n",
              "      <td>2020</td>\n",
              "    </tr>\n",
              "    <tr>\n",
              "      <th>4</th>\n",
              "      <td>53</td>\n",
              "      <td>NaN</td>\n",
              "      <td>NaN</td>\n",
              "      <td>4</td>\n",
              "      <td>2020</td>\n",
              "    </tr>\n",
              "  </tbody>\n",
              "</table>\n",
              "</div>"
            ],
            "text/plain": [
              "   edad  mes_def  año_def  mes_ingreso  año_ingreso\n",
              "0    52      NaN      NaN            7         2020\n",
              "1    57      5.0   2020.0            4         2020\n",
              "2    44      NaN      NaN            4         2020\n",
              "3    28      NaN      NaN            4         2020\n",
              "4    53      NaN      NaN            4         2020"
            ]
          },
          "metadata": {
            "tags": []
          },
          "execution_count": 66
        }
      ]
    },
    {
      "cell_type": "code",
      "metadata": {
        "id": "xslYgCyDm_mU",
        "colab_type": "code",
        "colab": {
          "base_uri": "https://localhost:8080/",
          "height": 411
        },
        "outputId": "1335322d-a56b-41f3-f4ac-788663994cca"
      },
      "source": [
        "categorical.head()"
      ],
      "execution_count": 67,
      "outputs": [
        {
          "output_type": "execute_result",
          "data": {
            "text/html": [
              "<div>\n",
              "<style scoped>\n",
              "    .dataframe tbody tr th:only-of-type {\n",
              "        vertical-align: middle;\n",
              "    }\n",
              "\n",
              "    .dataframe tbody tr th {\n",
              "        vertical-align: top;\n",
              "    }\n",
              "\n",
              "    .dataframe thead th {\n",
              "        text-align: right;\n",
              "    }\n",
              "</style>\n",
              "<table border=\"1\" class=\"dataframe\">\n",
              "  <thead>\n",
              "    <tr style=\"text-align: right;\">\n",
              "      <th></th>\n",
              "      <th>fecha_actualizacion</th>\n",
              "      <th>id_registro</th>\n",
              "      <th>fecha_ingreso</th>\n",
              "      <th>fecha_sintomas</th>\n",
              "      <th>fecha_def</th>\n",
              "      <th>pais_nacionalidad</th>\n",
              "      <th>pais_origen</th>\n",
              "      <th>entidad_res</th>\n",
              "      <th>municipio_res</th>\n",
              "      <th>entidad_um</th>\n",
              "      <th>entidad_nac</th>\n",
              "      <th>intubado</th>\n",
              "      <th>neumonia</th>\n",
              "      <th>embarazo</th>\n",
              "      <th>habla_lengua_indig</th>\n",
              "      <th>diabetes</th>\n",
              "      <th>epoc</th>\n",
              "      <th>asma</th>\n",
              "      <th>inmusupr</th>\n",
              "      <th>hipertension</th>\n",
              "      <th>otra_com</th>\n",
              "      <th>cardiovascular</th>\n",
              "      <th>obesidad</th>\n",
              "      <th>renal_cronica</th>\n",
              "      <th>tabaquismo</th>\n",
              "      <th>otro_caso</th>\n",
              "      <th>migrante</th>\n",
              "      <th>uci</th>\n",
              "      <th>origen</th>\n",
              "      <th>sector</th>\n",
              "      <th>sexo</th>\n",
              "      <th>tipo_paciente</th>\n",
              "      <th>nacionalidad</th>\n",
              "      <th>resultado</th>\n",
              "      <th>defuncion</th>\n",
              "    </tr>\n",
              "  </thead>\n",
              "  <tbody>\n",
              "    <tr>\n",
              "      <th>0</th>\n",
              "      <td>2020-09-12</td>\n",
              "      <td>114cd3</td>\n",
              "      <td>2020-07-06</td>\n",
              "      <td>2020-06-29</td>\n",
              "      <td>NaT</td>\n",
              "      <td>MÃ©xico</td>\n",
              "      <td>99</td>\n",
              "      <td>TABASCO</td>\n",
              "      <td>CENTRO</td>\n",
              "      <td>TABASCO</td>\n",
              "      <td>TABASCO</td>\n",
              "      <td>NO APLICA</td>\n",
              "      <td>NO</td>\n",
              "      <td>NO</td>\n",
              "      <td>NO</td>\n",
              "      <td>NO</td>\n",
              "      <td>NO</td>\n",
              "      <td>NO</td>\n",
              "      <td>NO</td>\n",
              "      <td>NO</td>\n",
              "      <td>NO</td>\n",
              "      <td>NO</td>\n",
              "      <td>NO</td>\n",
              "      <td>NO</td>\n",
              "      <td>NO</td>\n",
              "      <td>SI</td>\n",
              "      <td>NO ESPECIFICADO</td>\n",
              "      <td>NO APLICA</td>\n",
              "      <td>FUERA DE USMER</td>\n",
              "      <td>ESTATAL</td>\n",
              "      <td>MUJER</td>\n",
              "      <td>AMBULATORIO</td>\n",
              "      <td>MEXICANA</td>\n",
              "      <td>Positivo SARS-CoV-2</td>\n",
              "      <td>False</td>\n",
              "    </tr>\n",
              "    <tr>\n",
              "      <th>1</th>\n",
              "      <td>2020-09-12</td>\n",
              "      <td>0bafd8</td>\n",
              "      <td>2020-04-29</td>\n",
              "      <td>2020-04-28</td>\n",
              "      <td>2020-05-09</td>\n",
              "      <td>MÃ©xico</td>\n",
              "      <td>99</td>\n",
              "      <td>MÉXICO</td>\n",
              "      <td>TOLUCA</td>\n",
              "      <td>MÉXICO</td>\n",
              "      <td>MÉXICO</td>\n",
              "      <td>SI</td>\n",
              "      <td>NO</td>\n",
              "      <td>NO APLICA</td>\n",
              "      <td>NO</td>\n",
              "      <td>NO</td>\n",
              "      <td>NO</td>\n",
              "      <td>NO</td>\n",
              "      <td>NO</td>\n",
              "      <td>NO</td>\n",
              "      <td>NO</td>\n",
              "      <td>NO</td>\n",
              "      <td>NO</td>\n",
              "      <td>NO</td>\n",
              "      <td>NO</td>\n",
              "      <td>NO ESPECIFICADO</td>\n",
              "      <td>NO ESPECIFICADO</td>\n",
              "      <td>NO</td>\n",
              "      <td>FUERA DE USMER</td>\n",
              "      <td>IMSS</td>\n",
              "      <td>HOMBRE</td>\n",
              "      <td>HOSPITALIZADO</td>\n",
              "      <td>MEXICANA</td>\n",
              "      <td>Positivo SARS-CoV-2</td>\n",
              "      <td>True</td>\n",
              "    </tr>\n",
              "    <tr>\n",
              "      <th>2</th>\n",
              "      <td>2020-09-12</td>\n",
              "      <td>18747a</td>\n",
              "      <td>2020-04-14</td>\n",
              "      <td>2020-04-10</td>\n",
              "      <td>NaT</td>\n",
              "      <td>MÃ©xico</td>\n",
              "      <td>99</td>\n",
              "      <td>SINALOA</td>\n",
              "      <td>MAZATLÁN</td>\n",
              "      <td>SINALOA</td>\n",
              "      <td>SINALOA</td>\n",
              "      <td>NO APLICA</td>\n",
              "      <td>NO</td>\n",
              "      <td>NO</td>\n",
              "      <td>NO</td>\n",
              "      <td>SI</td>\n",
              "      <td>NO</td>\n",
              "      <td>NO</td>\n",
              "      <td>NO</td>\n",
              "      <td>SI</td>\n",
              "      <td>NO</td>\n",
              "      <td>NO</td>\n",
              "      <td>SI</td>\n",
              "      <td>NO</td>\n",
              "      <td>NO</td>\n",
              "      <td>NO ESPECIFICADO</td>\n",
              "      <td>NO ESPECIFICADO</td>\n",
              "      <td>NO APLICA</td>\n",
              "      <td>FUERA DE USMER</td>\n",
              "      <td>IMSS</td>\n",
              "      <td>MUJER</td>\n",
              "      <td>AMBULATORIO</td>\n",
              "      <td>MEXICANA</td>\n",
              "      <td>Positivo SARS-CoV-2</td>\n",
              "      <td>False</td>\n",
              "    </tr>\n",
              "    <tr>\n",
              "      <th>3</th>\n",
              "      <td>2020-09-12</td>\n",
              "      <td>174174</td>\n",
              "      <td>2020-04-18</td>\n",
              "      <td>2020-04-11</td>\n",
              "      <td>NaT</td>\n",
              "      <td>MÃ©xico</td>\n",
              "      <td>99</td>\n",
              "      <td>CIUDAD DE MÉXICO</td>\n",
              "      <td>IZTAPALAPA</td>\n",
              "      <td>CIUDAD DE MÉXICO</td>\n",
              "      <td>GUERRERO</td>\n",
              "      <td>NO APLICA</td>\n",
              "      <td>SI</td>\n",
              "      <td>NO APLICA</td>\n",
              "      <td>NO</td>\n",
              "      <td>NO</td>\n",
              "      <td>NO</td>\n",
              "      <td>NO</td>\n",
              "      <td>NO</td>\n",
              "      <td>NO</td>\n",
              "      <td>NO</td>\n",
              "      <td>NO</td>\n",
              "      <td>NO</td>\n",
              "      <td>NO</td>\n",
              "      <td>NO</td>\n",
              "      <td>NO ESPECIFICADO</td>\n",
              "      <td>NO ESPECIFICADO</td>\n",
              "      <td>NO APLICA</td>\n",
              "      <td>FUERA DE USMER</td>\n",
              "      <td>IMSS</td>\n",
              "      <td>HOMBRE</td>\n",
              "      <td>AMBULATORIO</td>\n",
              "      <td>MEXICANA</td>\n",
              "      <td>Positivo SARS-CoV-2</td>\n",
              "      <td>False</td>\n",
              "    </tr>\n",
              "    <tr>\n",
              "      <th>4</th>\n",
              "      <td>2020-09-12</td>\n",
              "      <td>0eae86</td>\n",
              "      <td>2020-04-21</td>\n",
              "      <td>2020-04-21</td>\n",
              "      <td>NaT</td>\n",
              "      <td>MÃ©xico</td>\n",
              "      <td>99</td>\n",
              "      <td>VERACRUZ DE IGNACIO DE LA LLAVE</td>\n",
              "      <td>ACTOPAN</td>\n",
              "      <td>VERACRUZ DE IGNACIO DE LA LLAVE</td>\n",
              "      <td>MÉXICO</td>\n",
              "      <td>SI</td>\n",
              "      <td>NO</td>\n",
              "      <td>NO APLICA</td>\n",
              "      <td>NO</td>\n",
              "      <td>NO</td>\n",
              "      <td>NO</td>\n",
              "      <td>NO</td>\n",
              "      <td>NO</td>\n",
              "      <td>NO</td>\n",
              "      <td>NO</td>\n",
              "      <td>NO</td>\n",
              "      <td>NO</td>\n",
              "      <td>NO</td>\n",
              "      <td>NO</td>\n",
              "      <td>NO</td>\n",
              "      <td>NO ESPECIFICADO</td>\n",
              "      <td>SI</td>\n",
              "      <td>FUERA DE USMER</td>\n",
              "      <td>IMSS</td>\n",
              "      <td>HOMBRE</td>\n",
              "      <td>HOSPITALIZADO</td>\n",
              "      <td>MEXICANA</td>\n",
              "      <td>Positivo SARS-CoV-2</td>\n",
              "      <td>False</td>\n",
              "    </tr>\n",
              "  </tbody>\n",
              "</table>\n",
              "</div>"
            ],
            "text/plain": [
              "  fecha_actualizacion id_registro  ...            resultado defuncion\n",
              "0          2020-09-12      114cd3  ...  Positivo SARS-CoV-2     False\n",
              "1          2020-09-12      0bafd8  ...  Positivo SARS-CoV-2      True\n",
              "2          2020-09-12      18747a  ...  Positivo SARS-CoV-2     False\n",
              "3          2020-09-12      174174  ...  Positivo SARS-CoV-2     False\n",
              "4          2020-09-12      0eae86  ...  Positivo SARS-CoV-2     False\n",
              "\n",
              "[5 rows x 35 columns]"
            ]
          },
          "metadata": {
            "tags": []
          },
          "execution_count": 67
        }
      ]
    },
    {
      "cell_type": "code",
      "metadata": {
        "id": "5I-RmBVoHBCw",
        "colab_type": "code",
        "colab": {}
      },
      "source": [
        "# para conocer todos los tipo de datos\n",
        "?data.select_dtypes"
      ],
      "execution_count": 68,
      "outputs": []
    },
    {
      "cell_type": "markdown",
      "metadata": {
        "id": "mvzBoAj5qdOW",
        "colab_type": "text"
      },
      "source": [
        "####Categóricas"
      ]
    },
    {
      "cell_type": "code",
      "metadata": {
        "id": "gpaBVNynm-1-",
        "colab_type": "code",
        "colab": {
          "base_uri": "https://localhost:8080/",
          "height": 612
        },
        "outputId": "7519d4b8-e472-4e62-a510-765b932c3bc0"
      },
      "source": [
        "# Cardinalidad - Valores únicos por columna\n",
        "for col in categorical.columns:\n",
        "  print('Valores únicos en \"{}\": {}'.format(col,categorical[col].nunique()))"
      ],
      "execution_count": 69,
      "outputs": [
        {
          "output_type": "stream",
          "text": [
            "Valores únicos en \"fecha_actualizacion\": 1\n",
            "Valores únicos en \"id_registro\": 1510311\n",
            "Valores únicos en \"fecha_ingreso\": 256\n",
            "Valores únicos en \"fecha_sintomas\": 256\n",
            "Valores únicos en \"fecha_def\": 201\n",
            "Valores únicos en \"pais_nacionalidad\": 119\n",
            "Valores únicos en \"pais_origen\": 77\n",
            "Valores únicos en \"entidad_res\": 32\n",
            "Valores únicos en \"municipio_res\": 2164\n",
            "Valores únicos en \"entidad_um\": 32\n",
            "Valores únicos en \"entidad_nac\": 33\n",
            "Valores únicos en \"intubado\": 4\n",
            "Valores únicos en \"neumonia\": 3\n",
            "Valores únicos en \"embarazo\": 4\n",
            "Valores únicos en \"habla_lengua_indig\": 3\n",
            "Valores únicos en \"diabetes\": 3\n",
            "Valores únicos en \"epoc\": 3\n",
            "Valores únicos en \"asma\": 3\n",
            "Valores únicos en \"inmusupr\": 3\n",
            "Valores únicos en \"hipertension\": 3\n",
            "Valores únicos en \"otra_com\": 3\n",
            "Valores únicos en \"cardiovascular\": 3\n",
            "Valores únicos en \"obesidad\": 3\n",
            "Valores únicos en \"renal_cronica\": 3\n",
            "Valores únicos en \"tabaquismo\": 3\n",
            "Valores únicos en \"otro_caso\": 3\n",
            "Valores únicos en \"migrante\": 3\n",
            "Valores únicos en \"uci\": 4\n",
            "Valores únicos en \"origen\": 2\n",
            "Valores únicos en \"sector\": 14\n",
            "Valores únicos en \"sexo\": 2\n",
            "Valores únicos en \"tipo_paciente\": 2\n",
            "Valores únicos en \"nacionalidad\": 2\n",
            "Valores únicos en \"resultado\": 3\n",
            "Valores únicos en \"defuncion\": 2\n"
          ],
          "name": "stdout"
        }
      ]
    },
    {
      "cell_type": "code",
      "metadata": {
        "id": "JK8aFUfWqsPJ",
        "colab_type": "code",
        "colab": {
          "base_uri": "https://localhost:8080/",
          "height": 612
        },
        "outputId": "73b44e40-d34f-46a1-b781-f5bb1dbf3241"
      },
      "source": [
        "# Unicidad - proporción de valores únicos por columna\n",
        "total = data.shape[0]\n",
        "for col in categorical.columns:\n",
        "  print('Porcentaje de valores únicos en \"{}\": {}%'.format(col,round(categorical[col].nunique()/total*100,2)))"
      ],
      "execution_count": 70,
      "outputs": [
        {
          "output_type": "stream",
          "text": [
            "Porcentaje de valores únicos en \"fecha_actualizacion\": 0.0%\n",
            "Porcentaje de valores únicos en \"id_registro\": 100.0%\n",
            "Porcentaje de valores únicos en \"fecha_ingreso\": 0.02%\n",
            "Porcentaje de valores únicos en \"fecha_sintomas\": 0.02%\n",
            "Porcentaje de valores únicos en \"fecha_def\": 0.01%\n",
            "Porcentaje de valores únicos en \"pais_nacionalidad\": 0.01%\n",
            "Porcentaje de valores únicos en \"pais_origen\": 0.01%\n",
            "Porcentaje de valores únicos en \"entidad_res\": 0.0%\n",
            "Porcentaje de valores únicos en \"municipio_res\": 0.14%\n",
            "Porcentaje de valores únicos en \"entidad_um\": 0.0%\n",
            "Porcentaje de valores únicos en \"entidad_nac\": 0.0%\n",
            "Porcentaje de valores únicos en \"intubado\": 0.0%\n",
            "Porcentaje de valores únicos en \"neumonia\": 0.0%\n",
            "Porcentaje de valores únicos en \"embarazo\": 0.0%\n",
            "Porcentaje de valores únicos en \"habla_lengua_indig\": 0.0%\n",
            "Porcentaje de valores únicos en \"diabetes\": 0.0%\n",
            "Porcentaje de valores únicos en \"epoc\": 0.0%\n",
            "Porcentaje de valores únicos en \"asma\": 0.0%\n",
            "Porcentaje de valores únicos en \"inmusupr\": 0.0%\n",
            "Porcentaje de valores únicos en \"hipertension\": 0.0%\n",
            "Porcentaje de valores únicos en \"otra_com\": 0.0%\n",
            "Porcentaje de valores únicos en \"cardiovascular\": 0.0%\n",
            "Porcentaje de valores únicos en \"obesidad\": 0.0%\n",
            "Porcentaje de valores únicos en \"renal_cronica\": 0.0%\n",
            "Porcentaje de valores únicos en \"tabaquismo\": 0.0%\n",
            "Porcentaje de valores únicos en \"otro_caso\": 0.0%\n",
            "Porcentaje de valores únicos en \"migrante\": 0.0%\n",
            "Porcentaje de valores únicos en \"uci\": 0.0%\n",
            "Porcentaje de valores únicos en \"origen\": 0.0%\n",
            "Porcentaje de valores únicos en \"sector\": 0.0%\n",
            "Porcentaje de valores únicos en \"sexo\": 0.0%\n",
            "Porcentaje de valores únicos en \"tipo_paciente\": 0.0%\n",
            "Porcentaje de valores únicos en \"nacionalidad\": 0.0%\n",
            "Porcentaje de valores únicos en \"resultado\": 0.0%\n",
            "Porcentaje de valores únicos en \"defuncion\": 0.0%\n"
          ],
          "name": "stdout"
        }
      ]
    },
    {
      "cell_type": "code",
      "metadata": {
        "id": "A2G1_Y5nq0R5",
        "colab_type": "code",
        "colab": {
          "base_uri": "https://localhost:8080/",
          "height": 595
        },
        "outputId": "fffe9118-e526-48bf-9c12-0c3949fcf88d"
      },
      "source": [
        "# Moda - valor que más se repite en cada columna excepto los indicadores únicos\n",
        "for col in categorical.drop(columns='id_registro').columns:\n",
        "  print('Valor más popular en \"{}\": {}'.format(col, statistics.mode(categorical[col])))"
      ],
      "execution_count": 71,
      "outputs": [
        {
          "output_type": "stream",
          "text": [
            "Valor más popular en \"fecha_actualizacion\": 2020-09-12 00:00:00\n",
            "Valor más popular en \"fecha_ingreso\": 2020-07-20 00:00:00\n",
            "Valor más popular en \"fecha_sintomas\": 2020-07-20 00:00:00\n",
            "Valor más popular en \"fecha_def\": NaT\n",
            "Valor más popular en \"pais_nacionalidad\": MÃ©xico\n",
            "Valor más popular en \"pais_origen\": 99\n",
            "Valor más popular en \"entidad_res\": CIUDAD DE MÉXICO\n",
            "Valor más popular en \"municipio_res\": IZTAPALAPA\n",
            "Valor más popular en \"entidad_um\": CIUDAD DE MÉXICO\n",
            "Valor más popular en \"entidad_nac\": CIUDAD DE MÉXICO\n",
            "Valor más popular en \"intubado\": NO APLICA\n",
            "Valor más popular en \"neumonia\": NO \n",
            "Valor más popular en \"embarazo\": NO \n",
            "Valor más popular en \"habla_lengua_indig\": NO \n",
            "Valor más popular en \"diabetes\": NO \n",
            "Valor más popular en \"epoc\": NO \n",
            "Valor más popular en \"asma\": NO \n",
            "Valor más popular en \"inmusupr\": NO \n",
            "Valor más popular en \"hipertension\": NO \n",
            "Valor más popular en \"otra_com\": NO \n",
            "Valor más popular en \"cardiovascular\": NO \n",
            "Valor más popular en \"obesidad\": NO \n",
            "Valor más popular en \"renal_cronica\": NO \n",
            "Valor más popular en \"tabaquismo\": NO \n",
            "Valor más popular en \"otro_caso\": SI \n",
            "Valor más popular en \"migrante\": NO ESPECIFICADO\n",
            "Valor más popular en \"uci\": NO APLICA\n",
            "Valor más popular en \"origen\": FUERA DE USMER\n",
            "Valor más popular en \"sector\": SSA\n",
            "Valor más popular en \"sexo\": MUJER\n",
            "Valor más popular en \"tipo_paciente\": AMBULATORIO\n",
            "Valor más popular en \"nacionalidad\": MEXICANA\n",
            "Valor más popular en \"resultado\": No positivo SARS-CoV-2\n",
            "Valor más popular en \"defuncion\": False\n"
          ],
          "name": "stdout"
        }
      ]
    },
    {
      "cell_type": "markdown",
      "metadata": {
        "id": "Db1AtzEIqj9Z",
        "colab_type": "text"
      },
      "source": [
        "####Numéricas"
      ]
    },
    {
      "cell_type": "code",
      "metadata": {
        "id": "euuwiemhrBh7",
        "colab_type": "code",
        "colab": {
          "base_uri": "https://localhost:8080/",
          "height": 297
        },
        "outputId": "c137cc04-3f6b-4444-cdb9-24acb9ed122d"
      },
      "source": [
        "numerical.describe()"
      ],
      "execution_count": 72,
      "outputs": [
        {
          "output_type": "execute_result",
          "data": {
            "text/html": [
              "<div>\n",
              "<style scoped>\n",
              "    .dataframe tbody tr th:only-of-type {\n",
              "        vertical-align: middle;\n",
              "    }\n",
              "\n",
              "    .dataframe tbody tr th {\n",
              "        vertical-align: top;\n",
              "    }\n",
              "\n",
              "    .dataframe thead th {\n",
              "        text-align: right;\n",
              "    }\n",
              "</style>\n",
              "<table border=\"1\" class=\"dataframe\">\n",
              "  <thead>\n",
              "    <tr style=\"text-align: right;\">\n",
              "      <th></th>\n",
              "      <th>edad</th>\n",
              "      <th>mes_def</th>\n",
              "      <th>año_def</th>\n",
              "      <th>mes_ingreso</th>\n",
              "      <th>año_ingreso</th>\n",
              "    </tr>\n",
              "  </thead>\n",
              "  <tbody>\n",
              "    <tr>\n",
              "      <th>count</th>\n",
              "      <td>1.510311e+06</td>\n",
              "      <td>90195.000000</td>\n",
              "      <td>90195.0</td>\n",
              "      <td>1.510311e+06</td>\n",
              "      <td>1510311.0</td>\n",
              "    </tr>\n",
              "    <tr>\n",
              "      <th>mean</th>\n",
              "      <td>4.214413e+01</td>\n",
              "      <td>6.524896</td>\n",
              "      <td>2020.0</td>\n",
              "      <td>6.769961e+00</td>\n",
              "      <td>2020.0</td>\n",
              "    </tr>\n",
              "    <tr>\n",
              "      <th>std</th>\n",
              "      <td>1.680812e+01</td>\n",
              "      <td>1.306444</td>\n",
              "      <td>0.0</td>\n",
              "      <td>1.395983e+00</td>\n",
              "      <td>0.0</td>\n",
              "    </tr>\n",
              "    <tr>\n",
              "      <th>min</th>\n",
              "      <td>0.000000e+00</td>\n",
              "      <td>1.000000</td>\n",
              "      <td>2020.0</td>\n",
              "      <td>1.000000e+00</td>\n",
              "      <td>2020.0</td>\n",
              "    </tr>\n",
              "    <tr>\n",
              "      <th>25%</th>\n",
              "      <td>3.000000e+01</td>\n",
              "      <td>6.000000</td>\n",
              "      <td>2020.0</td>\n",
              "      <td>6.000000e+00</td>\n",
              "      <td>2020.0</td>\n",
              "    </tr>\n",
              "    <tr>\n",
              "      <th>50%</th>\n",
              "      <td>4.100000e+01</td>\n",
              "      <td>7.000000</td>\n",
              "      <td>2020.0</td>\n",
              "      <td>7.000000e+00</td>\n",
              "      <td>2020.0</td>\n",
              "    </tr>\n",
              "    <tr>\n",
              "      <th>75%</th>\n",
              "      <td>5.300000e+01</td>\n",
              "      <td>8.000000</td>\n",
              "      <td>2020.0</td>\n",
              "      <td>8.000000e+00</td>\n",
              "      <td>2020.0</td>\n",
              "    </tr>\n",
              "    <tr>\n",
              "      <th>max</th>\n",
              "      <td>1.200000e+02</td>\n",
              "      <td>9.000000</td>\n",
              "      <td>2020.0</td>\n",
              "      <td>9.000000e+00</td>\n",
              "      <td>2020.0</td>\n",
              "    </tr>\n",
              "  </tbody>\n",
              "</table>\n",
              "</div>"
            ],
            "text/plain": [
              "               edad       mes_def  año_def   mes_ingreso  año_ingreso\n",
              "count  1.510311e+06  90195.000000  90195.0  1.510311e+06    1510311.0\n",
              "mean   4.214413e+01      6.524896   2020.0  6.769961e+00       2020.0\n",
              "std    1.680812e+01      1.306444      0.0  1.395983e+00          0.0\n",
              "min    0.000000e+00      1.000000   2020.0  1.000000e+00       2020.0\n",
              "25%    3.000000e+01      6.000000   2020.0  6.000000e+00       2020.0\n",
              "50%    4.100000e+01      7.000000   2020.0  7.000000e+00       2020.0\n",
              "75%    5.300000e+01      8.000000   2020.0  8.000000e+00       2020.0\n",
              "max    1.200000e+02      9.000000   2020.0  9.000000e+00       2020.0"
            ]
          },
          "metadata": {
            "tags": []
          },
          "execution_count": 72
        }
      ]
    },
    {
      "cell_type": "markdown",
      "metadata": {
        "id": "F4Z87n4dEBln",
        "colab_type": "text"
      },
      "source": [
        "##Análisis Exploratorio\n",
        "\n",
        "En esta sección responderemos algunas preguntas sobre el set de datos usando las herramientas que hemos visto hasta ahora"
      ]
    },
    {
      "cell_type": "code",
      "metadata": {
        "id": "-Adpvf7aSXnR",
        "colab_type": "code",
        "colab": {
          "base_uri": "https://localhost:8080/",
          "height": 85
        },
        "outputId": "83f28ddd-55c0-4fb4-8d5a-d9dfd7d7e1dd"
      },
      "source": [
        "# ¿Cuántas pruebas por origen se realizan?\n",
        "data.groupby('origen').id_registro.count()"
      ],
      "execution_count": 73,
      "outputs": [
        {
          "output_type": "execute_result",
          "data": {
            "text/plain": [
              "origen\n",
              "FUERA DE USMER    1010999\n",
              "USMER              499312\n",
              "Name: id_registro, dtype: int64"
            ]
          },
          "metadata": {
            "tags": []
          },
          "execution_count": 73
        }
      ]
    },
    {
      "cell_type": "code",
      "metadata": {
        "id": "KNMflRmDSlar",
        "colab_type": "code",
        "colab": {
          "base_uri": "https://localhost:8080/",
          "height": 68
        },
        "outputId": "7632292c-f782-498b-96b0-48e21fd99361"
      },
      "source": [
        "data.origen.value_counts()"
      ],
      "execution_count": 74,
      "outputs": [
        {
          "output_type": "execute_result",
          "data": {
            "text/plain": [
              "FUERA DE USMER    1010999\n",
              "USMER              499312\n",
              "Name: origen, dtype: int64"
            ]
          },
          "metadata": {
            "tags": []
          },
          "execution_count": 74
        }
      ]
    },
    {
      "cell_type": "code",
      "metadata": {
        "id": "Q_i8mLloSXw8",
        "colab_type": "code",
        "colab": {
          "base_uri": "https://localhost:8080/",
          "height": 272
        },
        "outputId": "c85f7e30-cbf0-44d7-960d-685d97778456"
      },
      "source": [
        "# ¿Cuántas pruebas por sector se realizan?\n",
        "data.sector.value_counts()"
      ],
      "execution_count": 75,
      "outputs": [
        {
          "output_type": "execute_result",
          "data": {
            "text/plain": [
              "SSA                942672\n",
              "IMSS               386225\n",
              "ISSSTE              57072\n",
              "PRIVADA             55614\n",
              "ESTATAL             27163\n",
              "PEMEX               12919\n",
              "IMSS-BIENESTAR      10158\n",
              "SEMAR                7796\n",
              "SEDENA               7371\n",
              "MUNICIPAL            1201\n",
              "UNIVERSITARIO        1046\n",
              "DIF                   843\n",
              "CRUZ ROJA             223\n",
              "NO ESPECIFICADO         8\n",
              "Name: sector, dtype: int64"
            ]
          },
          "metadata": {
            "tags": []
          },
          "execution_count": 75
        }
      ]
    },
    {
      "cell_type": "code",
      "metadata": {
        "id": "7p14tyEYEEEp",
        "colab_type": "code",
        "colab": {
          "base_uri": "https://localhost:8080/",
          "height": 68
        },
        "outputId": "27b98b02-9ced-4510-9f7d-46bd196427eb"
      },
      "source": [
        "# ¿Cuántos pacientes por sexo tenemos?\n",
        "data.sexo.value_counts()"
      ],
      "execution_count": 76,
      "outputs": [
        {
          "output_type": "execute_result",
          "data": {
            "text/plain": [
              "MUJER     768635\n",
              "HOMBRE    741676\n",
              "Name: sexo, dtype: int64"
            ]
          },
          "metadata": {
            "tags": []
          },
          "execution_count": 76
        }
      ]
    },
    {
      "cell_type": "code",
      "metadata": {
        "id": "lSPRZDpCJf-k",
        "colab_type": "code",
        "colab": {
          "base_uri": "https://localhost:8080/",
          "height": 68
        },
        "outputId": "d7c28c56-f63c-4691-8d3c-d4a54844ca65"
      },
      "source": [
        "# ¿Cuál es la proporción de los pacientes por sexo?\n",
        "data.sexo.value_counts(normalize=True)"
      ],
      "execution_count": 77,
      "outputs": [
        {
          "output_type": "execute_result",
          "data": {
            "text/plain": [
              "MUJER     0.508925\n",
              "HOMBRE    0.491075\n",
              "Name: sexo, dtype: float64"
            ]
          },
          "metadata": {
            "tags": []
          },
          "execution_count": 77
        }
      ]
    },
    {
      "cell_type": "code",
      "metadata": {
        "id": "Z4OhA4Y2Jmon",
        "colab_type": "code",
        "colab": {
          "base_uri": "https://localhost:8080/",
          "height": 85
        },
        "outputId": "ee0ec0b7-71fe-4d4e-e292-23e9113f916e"
      },
      "source": [
        "# ¿Cuál es la proporción de resultados de las pruebas?\n",
        "data.resultado.value_counts(normalize=True)"
      ],
      "execution_count": 78,
      "outputs": [
        {
          "output_type": "execute_result",
          "data": {
            "text/plain": [
              "No positivo SARS-CoV-2    0.502670\n",
              "Positivo SARS-CoV-2       0.439627\n",
              "Resultado pendiente       0.057703\n",
              "Name: resultado, dtype: float64"
            ]
          },
          "metadata": {
            "tags": []
          },
          "execution_count": 78
        }
      ]
    },
    {
      "cell_type": "code",
      "metadata": {
        "id": "vRp0bVPKHSRG",
        "colab_type": "code",
        "colab": {
          "base_uri": "https://localhost:8080/",
          "height": 34
        },
        "outputId": "2881a1be-0c19-49fd-9bd1-a43fe47a2056"
      },
      "source": [
        "# ¿Cuántas pruebas positivas tenemos en el set?\n",
        "data[data.resultado == 'Positivo SARS-CoV-2'].id_registro.count()"
      ],
      "execution_count": 79,
      "outputs": [
        {
          "output_type": "execute_result",
          "data": {
            "text/plain": [
              "663973"
            ]
          },
          "metadata": {
            "tags": []
          },
          "execution_count": 79
        }
      ]
    },
    {
      "cell_type": "code",
      "metadata": {
        "id": "BPeZ1LFgOiF6",
        "colab_type": "code",
        "colab": {
          "base_uri": "https://localhost:8080/",
          "height": 187
        },
        "outputId": "9ce71ffe-e8a6-44f2-ea0d-0184318dc801"
      },
      "source": [
        "# ¿Cuántos casos positivos tenemos por mes?\n",
        "data[data.resultado == 'Positivo SARS-CoV-2'].mes_ingreso.value_counts().sort_index()"
      ],
      "execution_count": 80,
      "outputs": [
        {
          "output_type": "execute_result",
          "data": {
            "text/plain": [
              "1         2\n",
              "2         8\n",
              "3      2530\n",
              "4     26567\n",
              "5     86557\n",
              "6    152980\n",
              "7    199471\n",
              "8    155971\n",
              "9     39887\n",
              "Name: mes_ingreso, dtype: int64"
            ]
          },
          "metadata": {
            "tags": []
          },
          "execution_count": 80
        }
      ]
    },
    {
      "cell_type": "code",
      "metadata": {
        "id": "tIOsS5rlE_lO",
        "colab_type": "code",
        "colab": {
          "base_uri": "https://localhost:8080/",
          "height": 153
        },
        "outputId": "b9f8ec36-c4a0-496a-ba6a-946176ae012b"
      },
      "source": [
        "# ¿Cuál es el resultado de las pruebas por sexo?\n",
        "data.groupby(['sexo','resultado'])['id_registro'].count()"
      ],
      "execution_count": 81,
      "outputs": [
        {
          "output_type": "execute_result",
          "data": {
            "text/plain": [
              "sexo    resultado             \n",
              "HOMBRE  No positivo SARS-CoV-2    352619\n",
              "        Positivo SARS-CoV-2       346464\n",
              "        Resultado pendiente        42593\n",
              "MUJER   No positivo SARS-CoV-2    406569\n",
              "        Positivo SARS-CoV-2       317509\n",
              "        Resultado pendiente        44557\n",
              "Name: id_registro, dtype: int64"
            ]
          },
          "metadata": {
            "tags": []
          },
          "execution_count": 81
        }
      ]
    },
    {
      "cell_type": "code",
      "metadata": {
        "id": "Mw5CorwDK0PB",
        "colab_type": "code",
        "colab": {
          "base_uri": "https://localhost:8080/",
          "height": 153
        },
        "outputId": "cb8e0539-b3b6-49d6-d8c8-44a528e7f383"
      },
      "source": [
        "data.groupby('sexo').resultado.value_counts()"
      ],
      "execution_count": 82,
      "outputs": [
        {
          "output_type": "execute_result",
          "data": {
            "text/plain": [
              "sexo    resultado             \n",
              "HOMBRE  No positivo SARS-CoV-2    352619\n",
              "        Positivo SARS-CoV-2       346464\n",
              "        Resultado pendiente        42593\n",
              "MUJER   No positivo SARS-CoV-2    406569\n",
              "        Positivo SARS-CoV-2       317509\n",
              "        Resultado pendiente        44557\n",
              "Name: resultado, dtype: int64"
            ]
          },
          "metadata": {
            "tags": []
          },
          "execution_count": 82
        }
      ]
    },
    {
      "cell_type": "code",
      "metadata": {
        "id": "sJJgtaB1G6yh",
        "colab_type": "code",
        "colab": {
          "base_uri": "https://localhost:8080/",
          "height": 153
        },
        "outputId": "a2361375-5abf-49b8-a6bb-879773f8305f"
      },
      "source": [
        "# ¿Qué proporción de resultados de pruebas tenemos por sexo?\n",
        "data.groupby('sexo').resultado.value_counts(normalize=True)"
      ],
      "execution_count": 83,
      "outputs": [
        {
          "output_type": "execute_result",
          "data": {
            "text/plain": [
              "sexo    resultado             \n",
              "HOMBRE  No positivo SARS-CoV-2    0.475435\n",
              "        Positivo SARS-CoV-2       0.467137\n",
              "        Resultado pendiente       0.057428\n",
              "MUJER   No positivo SARS-CoV-2    0.528949\n",
              "        Positivo SARS-CoV-2       0.413082\n",
              "        Resultado pendiente       0.057969\n",
              "Name: resultado, dtype: float64"
            ]
          },
          "metadata": {
            "tags": []
          },
          "execution_count": 83
        }
      ]
    },
    {
      "cell_type": "code",
      "metadata": {
        "id": "-ZCLqAkWHDeQ",
        "colab_type": "code",
        "colab": {
          "base_uri": "https://localhost:8080/",
          "height": 142
        },
        "outputId": "4d1f14ad-4fbe-439f-b430-c03670f7d8e6"
      },
      "source": [
        "# ¿Cuál es la edad de los pacientes por sexo?\n",
        "data.groupby('sexo').edad.describe()"
      ],
      "execution_count": 84,
      "outputs": [
        {
          "output_type": "execute_result",
          "data": {
            "text/html": [
              "<div>\n",
              "<style scoped>\n",
              "    .dataframe tbody tr th:only-of-type {\n",
              "        vertical-align: middle;\n",
              "    }\n",
              "\n",
              "    .dataframe tbody tr th {\n",
              "        vertical-align: top;\n",
              "    }\n",
              "\n",
              "    .dataframe thead th {\n",
              "        text-align: right;\n",
              "    }\n",
              "</style>\n",
              "<table border=\"1\" class=\"dataframe\">\n",
              "  <thead>\n",
              "    <tr style=\"text-align: right;\">\n",
              "      <th></th>\n",
              "      <th>count</th>\n",
              "      <th>mean</th>\n",
              "      <th>std</th>\n",
              "      <th>min</th>\n",
              "      <th>25%</th>\n",
              "      <th>50%</th>\n",
              "      <th>75%</th>\n",
              "      <th>max</th>\n",
              "    </tr>\n",
              "    <tr>\n",
              "      <th>sexo</th>\n",
              "      <th></th>\n",
              "      <th></th>\n",
              "      <th></th>\n",
              "      <th></th>\n",
              "      <th></th>\n",
              "      <th></th>\n",
              "      <th></th>\n",
              "      <th></th>\n",
              "    </tr>\n",
              "  </thead>\n",
              "  <tbody>\n",
              "    <tr>\n",
              "      <th>HOMBRE</th>\n",
              "      <td>741676.0</td>\n",
              "      <td>42.667259</td>\n",
              "      <td>17.126286</td>\n",
              "      <td>0.0</td>\n",
              "      <td>30.0</td>\n",
              "      <td>41.0</td>\n",
              "      <td>54.0</td>\n",
              "      <td>120.0</td>\n",
              "    </tr>\n",
              "    <tr>\n",
              "      <th>MUJER</th>\n",
              "      <td>768635.0</td>\n",
              "      <td>41.639353</td>\n",
              "      <td>16.479581</td>\n",
              "      <td>0.0</td>\n",
              "      <td>30.0</td>\n",
              "      <td>40.0</td>\n",
              "      <td>52.0</td>\n",
              "      <td>120.0</td>\n",
              "    </tr>\n",
              "  </tbody>\n",
              "</table>\n",
              "</div>"
            ],
            "text/plain": [
              "           count       mean        std  min   25%   50%   75%    max\n",
              "sexo                                                                \n",
              "HOMBRE  741676.0  42.667259  17.126286  0.0  30.0  41.0  54.0  120.0\n",
              "MUJER   768635.0  41.639353  16.479581  0.0  30.0  40.0  52.0  120.0"
            ]
          },
          "metadata": {
            "tags": []
          },
          "execution_count": 84
        }
      ]
    },
    {
      "cell_type": "code",
      "metadata": {
        "id": "5SojvW49UrlU",
        "colab_type": "code",
        "colab": {
          "base_uri": "https://localhost:8080/",
          "height": 173
        },
        "outputId": "c70263b4-8502-47ca-89f6-825c56186a08"
      },
      "source": [
        "def q25(x):\n",
        "  return x.quantile(0.25)\n",
        "\n",
        "def q75(x):\n",
        "  return x.quantile(0.75)\n",
        "\n",
        "data.groupby('sexo').agg({'edad': ['min', q25, 'median', q75, 'max']})"
      ],
      "execution_count": 85,
      "outputs": [
        {
          "output_type": "execute_result",
          "data": {
            "text/html": [
              "<div>\n",
              "<style scoped>\n",
              "    .dataframe tbody tr th:only-of-type {\n",
              "        vertical-align: middle;\n",
              "    }\n",
              "\n",
              "    .dataframe tbody tr th {\n",
              "        vertical-align: top;\n",
              "    }\n",
              "\n",
              "    .dataframe thead tr th {\n",
              "        text-align: left;\n",
              "    }\n",
              "\n",
              "    .dataframe thead tr:last-of-type th {\n",
              "        text-align: right;\n",
              "    }\n",
              "</style>\n",
              "<table border=\"1\" class=\"dataframe\">\n",
              "  <thead>\n",
              "    <tr>\n",
              "      <th></th>\n",
              "      <th colspan=\"5\" halign=\"left\">edad</th>\n",
              "    </tr>\n",
              "    <tr>\n",
              "      <th></th>\n",
              "      <th>min</th>\n",
              "      <th>q25</th>\n",
              "      <th>median</th>\n",
              "      <th>q75</th>\n",
              "      <th>max</th>\n",
              "    </tr>\n",
              "    <tr>\n",
              "      <th>sexo</th>\n",
              "      <th></th>\n",
              "      <th></th>\n",
              "      <th></th>\n",
              "      <th></th>\n",
              "      <th></th>\n",
              "    </tr>\n",
              "  </thead>\n",
              "  <tbody>\n",
              "    <tr>\n",
              "      <th>HOMBRE</th>\n",
              "      <td>0</td>\n",
              "      <td>30</td>\n",
              "      <td>41</td>\n",
              "      <td>54</td>\n",
              "      <td>120</td>\n",
              "    </tr>\n",
              "    <tr>\n",
              "      <th>MUJER</th>\n",
              "      <td>0</td>\n",
              "      <td>30</td>\n",
              "      <td>40</td>\n",
              "      <td>52</td>\n",
              "      <td>120</td>\n",
              "    </tr>\n",
              "  </tbody>\n",
              "</table>\n",
              "</div>"
            ],
            "text/plain": [
              "       edad                    \n",
              "        min q25 median q75  max\n",
              "sexo                           \n",
              "HOMBRE    0  30     41  54  120\n",
              "MUJER     0  30     40  52  120"
            ]
          },
          "metadata": {
            "tags": []
          },
          "execution_count": 85
        }
      ]
    },
    {
      "cell_type": "code",
      "metadata": {
        "id": "Mt0Im5GWNl3u",
        "colab_type": "code",
        "colab": {
          "base_uri": "https://localhost:8080/",
          "height": 204
        },
        "outputId": "d1842ddc-b251-4f6d-834a-82546319a874"
      },
      "source": [
        "# ¿Cuál es la edad de los pacientes dependiendo de si son intubados o no?\n",
        "data.groupby('intubado').edad.describe()"
      ],
      "execution_count": 86,
      "outputs": [
        {
          "output_type": "execute_result",
          "data": {
            "text/html": [
              "<div>\n",
              "<style scoped>\n",
              "    .dataframe tbody tr th:only-of-type {\n",
              "        vertical-align: middle;\n",
              "    }\n",
              "\n",
              "    .dataframe tbody tr th {\n",
              "        vertical-align: top;\n",
              "    }\n",
              "\n",
              "    .dataframe thead th {\n",
              "        text-align: right;\n",
              "    }\n",
              "</style>\n",
              "<table border=\"1\" class=\"dataframe\">\n",
              "  <thead>\n",
              "    <tr style=\"text-align: right;\">\n",
              "      <th></th>\n",
              "      <th>count</th>\n",
              "      <th>mean</th>\n",
              "      <th>std</th>\n",
              "      <th>min</th>\n",
              "      <th>25%</th>\n",
              "      <th>50%</th>\n",
              "      <th>75%</th>\n",
              "      <th>max</th>\n",
              "    </tr>\n",
              "    <tr>\n",
              "      <th>intubado</th>\n",
              "      <th></th>\n",
              "      <th></th>\n",
              "      <th></th>\n",
              "      <th></th>\n",
              "      <th></th>\n",
              "      <th></th>\n",
              "      <th></th>\n",
              "      <th></th>\n",
              "    </tr>\n",
              "  </thead>\n",
              "  <tbody>\n",
              "    <tr>\n",
              "      <th>NO</th>\n",
              "      <td>221572.0</td>\n",
              "      <td>53.304786</td>\n",
              "      <td>19.684371</td>\n",
              "      <td>0.0</td>\n",
              "      <td>42.0</td>\n",
              "      <td>55.0</td>\n",
              "      <td>67.0</td>\n",
              "      <td>118.0</td>\n",
              "    </tr>\n",
              "    <tr>\n",
              "      <th>NO APLICA</th>\n",
              "      <td>1248894.0</td>\n",
              "      <td>39.686951</td>\n",
              "      <td>15.079782</td>\n",
              "      <td>0.0</td>\n",
              "      <td>29.0</td>\n",
              "      <td>38.0</td>\n",
              "      <td>49.0</td>\n",
              "      <td>120.0</td>\n",
              "    </tr>\n",
              "    <tr>\n",
              "      <th>NO ESPECIFICADO</th>\n",
              "      <td>194.0</td>\n",
              "      <td>54.443299</td>\n",
              "      <td>16.817502</td>\n",
              "      <td>0.0</td>\n",
              "      <td>45.0</td>\n",
              "      <td>57.0</td>\n",
              "      <td>65.0</td>\n",
              "      <td>92.0</td>\n",
              "    </tr>\n",
              "    <tr>\n",
              "      <th>SI</th>\n",
              "      <td>39651.0</td>\n",
              "      <td>57.111826</td>\n",
              "      <td>17.914277</td>\n",
              "      <td>0.0</td>\n",
              "      <td>48.0</td>\n",
              "      <td>59.0</td>\n",
              "      <td>69.0</td>\n",
              "      <td>108.0</td>\n",
              "    </tr>\n",
              "  </tbody>\n",
              "</table>\n",
              "</div>"
            ],
            "text/plain": [
              "                     count       mean        std  min   25%   50%   75%    max\n",
              "intubado                                                                      \n",
              "NO                221572.0  53.304786  19.684371  0.0  42.0  55.0  67.0  118.0\n",
              "NO APLICA        1248894.0  39.686951  15.079782  0.0  29.0  38.0  49.0  120.0\n",
              "NO ESPECIFICADO      194.0  54.443299  16.817502  0.0  45.0  57.0  65.0   92.0\n",
              "SI                 39651.0  57.111826  17.914277  0.0  48.0  59.0  69.0  108.0"
            ]
          },
          "metadata": {
            "tags": []
          },
          "execution_count": 86
        }
      ]
    },
    {
      "cell_type": "code",
      "metadata": {
        "id": "zhboO4Aoa-3Q",
        "colab_type": "code",
        "colab": {
          "base_uri": "https://localhost:8080/",
          "height": 235
        },
        "outputId": "1fa9cdd8-14e3-442c-f5e5-3ed64246bc77"
      },
      "source": [
        "data.groupby('intubado').agg({'edad': ['min', q25, 'median', q75, 'max']})"
      ],
      "execution_count": 87,
      "outputs": [
        {
          "output_type": "execute_result",
          "data": {
            "text/html": [
              "<div>\n",
              "<style scoped>\n",
              "    .dataframe tbody tr th:only-of-type {\n",
              "        vertical-align: middle;\n",
              "    }\n",
              "\n",
              "    .dataframe tbody tr th {\n",
              "        vertical-align: top;\n",
              "    }\n",
              "\n",
              "    .dataframe thead tr th {\n",
              "        text-align: left;\n",
              "    }\n",
              "\n",
              "    .dataframe thead tr:last-of-type th {\n",
              "        text-align: right;\n",
              "    }\n",
              "</style>\n",
              "<table border=\"1\" class=\"dataframe\">\n",
              "  <thead>\n",
              "    <tr>\n",
              "      <th></th>\n",
              "      <th colspan=\"5\" halign=\"left\">edad</th>\n",
              "    </tr>\n",
              "    <tr>\n",
              "      <th></th>\n",
              "      <th>min</th>\n",
              "      <th>q25</th>\n",
              "      <th>median</th>\n",
              "      <th>q75</th>\n",
              "      <th>max</th>\n",
              "    </tr>\n",
              "    <tr>\n",
              "      <th>intubado</th>\n",
              "      <th></th>\n",
              "      <th></th>\n",
              "      <th></th>\n",
              "      <th></th>\n",
              "      <th></th>\n",
              "    </tr>\n",
              "  </thead>\n",
              "  <tbody>\n",
              "    <tr>\n",
              "      <th>NO</th>\n",
              "      <td>0</td>\n",
              "      <td>42</td>\n",
              "      <td>55</td>\n",
              "      <td>67</td>\n",
              "      <td>118</td>\n",
              "    </tr>\n",
              "    <tr>\n",
              "      <th>NO APLICA</th>\n",
              "      <td>0</td>\n",
              "      <td>29</td>\n",
              "      <td>38</td>\n",
              "      <td>49</td>\n",
              "      <td>120</td>\n",
              "    </tr>\n",
              "    <tr>\n",
              "      <th>NO ESPECIFICADO</th>\n",
              "      <td>0</td>\n",
              "      <td>45</td>\n",
              "      <td>57</td>\n",
              "      <td>65</td>\n",
              "      <td>92</td>\n",
              "    </tr>\n",
              "    <tr>\n",
              "      <th>SI</th>\n",
              "      <td>0</td>\n",
              "      <td>48</td>\n",
              "      <td>59</td>\n",
              "      <td>69</td>\n",
              "      <td>108</td>\n",
              "    </tr>\n",
              "  </tbody>\n",
              "</table>\n",
              "</div>"
            ],
            "text/plain": [
              "                edad                    \n",
              "                 min q25 median q75  max\n",
              "intubado                                \n",
              "NO                 0  42     55  67  118\n",
              "NO APLICA          0  29     38  49  120\n",
              "NO ESPECIFICADO    0  45     57  65   92\n",
              "SI                 0  48     59  69  108"
            ]
          },
          "metadata": {
            "tags": []
          },
          "execution_count": 87
        }
      ]
    },
    {
      "cell_type": "code",
      "metadata": {
        "id": "Io-VgRntNy4z",
        "colab_type": "code",
        "colab": {
          "base_uri": "https://localhost:8080/",
          "height": 134
        },
        "outputId": "b1729b14-0e60-4653-ab42-86daab83609f"
      },
      "source": [
        "# ¿Cuál es la edad máxima y cuál es la mínima de los pacientes fallecidos?\n",
        "edad_def_max = data[data.defuncion].edad.max()\n",
        "data[data.defuncion & (data.edad == edad_def_max)]"
      ],
      "execution_count": 88,
      "outputs": [
        {
          "output_type": "execute_result",
          "data": {
            "text/html": [
              "<div>\n",
              "<style scoped>\n",
              "    .dataframe tbody tr th:only-of-type {\n",
              "        vertical-align: middle;\n",
              "    }\n",
              "\n",
              "    .dataframe tbody tr th {\n",
              "        vertical-align: top;\n",
              "    }\n",
              "\n",
              "    .dataframe thead th {\n",
              "        text-align: right;\n",
              "    }\n",
              "</style>\n",
              "<table border=\"1\" class=\"dataframe\">\n",
              "  <thead>\n",
              "    <tr style=\"text-align: right;\">\n",
              "      <th></th>\n",
              "      <th>fecha_actualizacion</th>\n",
              "      <th>id_registro</th>\n",
              "      <th>fecha_ingreso</th>\n",
              "      <th>fecha_sintomas</th>\n",
              "      <th>fecha_def</th>\n",
              "      <th>edad</th>\n",
              "      <th>pais_nacionalidad</th>\n",
              "      <th>pais_origen</th>\n",
              "      <th>entidad_res</th>\n",
              "      <th>municipio_res</th>\n",
              "      <th>entidad_um</th>\n",
              "      <th>entidad_nac</th>\n",
              "      <th>intubado</th>\n",
              "      <th>neumonia</th>\n",
              "      <th>embarazo</th>\n",
              "      <th>habla_lengua_indig</th>\n",
              "      <th>diabetes</th>\n",
              "      <th>epoc</th>\n",
              "      <th>asma</th>\n",
              "      <th>inmusupr</th>\n",
              "      <th>hipertension</th>\n",
              "      <th>otra_com</th>\n",
              "      <th>cardiovascular</th>\n",
              "      <th>obesidad</th>\n",
              "      <th>renal_cronica</th>\n",
              "      <th>tabaquismo</th>\n",
              "      <th>otro_caso</th>\n",
              "      <th>migrante</th>\n",
              "      <th>uci</th>\n",
              "      <th>origen</th>\n",
              "      <th>sector</th>\n",
              "      <th>sexo</th>\n",
              "      <th>tipo_paciente</th>\n",
              "      <th>nacionalidad</th>\n",
              "      <th>resultado</th>\n",
              "      <th>defuncion</th>\n",
              "      <th>mes_def</th>\n",
              "      <th>año_def</th>\n",
              "      <th>mes_ingreso</th>\n",
              "      <th>año_ingreso</th>\n",
              "    </tr>\n",
              "  </thead>\n",
              "  <tbody>\n",
              "    <tr>\n",
              "      <th>581442</th>\n",
              "      <td>2020-09-12</td>\n",
              "      <td>1b7b20</td>\n",
              "      <td>2020-05-21</td>\n",
              "      <td>2020-05-20</td>\n",
              "      <td>2020-05-26</td>\n",
              "      <td>109</td>\n",
              "      <td>MÃ©xico</td>\n",
              "      <td>99</td>\n",
              "      <td>MICHOACÁN DE OCAMPO</td>\n",
              "      <td>APATZINGÁN</td>\n",
              "      <td>MICHOACÁN DE OCAMPO</td>\n",
              "      <td>MICHOACÁN DE OCAMPO</td>\n",
              "      <td>NO</td>\n",
              "      <td>SI</td>\n",
              "      <td>NO APLICA</td>\n",
              "      <td>NO</td>\n",
              "      <td>NO</td>\n",
              "      <td>NO</td>\n",
              "      <td>NO</td>\n",
              "      <td>SI</td>\n",
              "      <td>NO</td>\n",
              "      <td>NO</td>\n",
              "      <td>NO</td>\n",
              "      <td>NO</td>\n",
              "      <td>SI</td>\n",
              "      <td>NO</td>\n",
              "      <td>NO</td>\n",
              "      <td>NO ESPECIFICADO</td>\n",
              "      <td>NO</td>\n",
              "      <td>FUERA DE USMER</td>\n",
              "      <td>ISSSTE</td>\n",
              "      <td>HOMBRE</td>\n",
              "      <td>HOSPITALIZADO</td>\n",
              "      <td>MEXICANA</td>\n",
              "      <td>No positivo SARS-CoV-2</td>\n",
              "      <td>True</td>\n",
              "      <td>5.0</td>\n",
              "      <td>2020.0</td>\n",
              "      <td>5</td>\n",
              "      <td>2020</td>\n",
              "    </tr>\n",
              "  </tbody>\n",
              "</table>\n",
              "</div>"
            ],
            "text/plain": [
              "       fecha_actualizacion id_registro  ... mes_ingreso año_ingreso\n",
              "581442          2020-09-12      1b7b20  ...           5        2020\n",
              "\n",
              "[1 rows x 40 columns]"
            ]
          },
          "metadata": {
            "tags": []
          },
          "execution_count": 88
        }
      ]
    },
    {
      "cell_type": "code",
      "metadata": {
        "id": "SK5dDYkeblJm",
        "colab_type": "code",
        "colab": {
          "base_uri": "https://localhost:8080/",
          "height": 728
        },
        "outputId": "0932bc13-3053-4cb5-89f3-2c3c41d20bcc"
      },
      "source": [
        "edad_def_min = data[data.defuncion].edad.min()\n",
        "data[data.defuncion & (data.edad == edad_def_min)]"
      ],
      "execution_count": 89,
      "outputs": [
        {
          "output_type": "execute_result",
          "data": {
            "text/html": [
              "<div>\n",
              "<style scoped>\n",
              "    .dataframe tbody tr th:only-of-type {\n",
              "        vertical-align: middle;\n",
              "    }\n",
              "\n",
              "    .dataframe tbody tr th {\n",
              "        vertical-align: top;\n",
              "    }\n",
              "\n",
              "    .dataframe thead th {\n",
              "        text-align: right;\n",
              "    }\n",
              "</style>\n",
              "<table border=\"1\" class=\"dataframe\">\n",
              "  <thead>\n",
              "    <tr style=\"text-align: right;\">\n",
              "      <th></th>\n",
              "      <th>fecha_actualizacion</th>\n",
              "      <th>id_registro</th>\n",
              "      <th>fecha_ingreso</th>\n",
              "      <th>fecha_sintomas</th>\n",
              "      <th>fecha_def</th>\n",
              "      <th>edad</th>\n",
              "      <th>pais_nacionalidad</th>\n",
              "      <th>pais_origen</th>\n",
              "      <th>entidad_res</th>\n",
              "      <th>municipio_res</th>\n",
              "      <th>entidad_um</th>\n",
              "      <th>entidad_nac</th>\n",
              "      <th>intubado</th>\n",
              "      <th>neumonia</th>\n",
              "      <th>embarazo</th>\n",
              "      <th>habla_lengua_indig</th>\n",
              "      <th>diabetes</th>\n",
              "      <th>epoc</th>\n",
              "      <th>asma</th>\n",
              "      <th>inmusupr</th>\n",
              "      <th>hipertension</th>\n",
              "      <th>otra_com</th>\n",
              "      <th>cardiovascular</th>\n",
              "      <th>obesidad</th>\n",
              "      <th>renal_cronica</th>\n",
              "      <th>tabaquismo</th>\n",
              "      <th>otro_caso</th>\n",
              "      <th>migrante</th>\n",
              "      <th>uci</th>\n",
              "      <th>origen</th>\n",
              "      <th>sector</th>\n",
              "      <th>sexo</th>\n",
              "      <th>tipo_paciente</th>\n",
              "      <th>nacionalidad</th>\n",
              "      <th>resultado</th>\n",
              "      <th>defuncion</th>\n",
              "      <th>mes_def</th>\n",
              "      <th>año_def</th>\n",
              "      <th>mes_ingreso</th>\n",
              "      <th>año_ingreso</th>\n",
              "    </tr>\n",
              "  </thead>\n",
              "  <tbody>\n",
              "    <tr>\n",
              "      <th>11277</th>\n",
              "      <td>2020-09-12</td>\n",
              "      <td>18feee</td>\n",
              "      <td>2020-06-23</td>\n",
              "      <td>2020-06-23</td>\n",
              "      <td>2020-07-06</td>\n",
              "      <td>0</td>\n",
              "      <td>MÃ©xico</td>\n",
              "      <td>99</td>\n",
              "      <td>BAJA CALIFORNIA</td>\n",
              "      <td>TIJUANA</td>\n",
              "      <td>BAJA CALIFORNIA</td>\n",
              "      <td>BAJA CALIFORNIA</td>\n",
              "      <td>NO</td>\n",
              "      <td>NO</td>\n",
              "      <td>NO</td>\n",
              "      <td>NO</td>\n",
              "      <td>NO</td>\n",
              "      <td>NO</td>\n",
              "      <td>NO</td>\n",
              "      <td>NO</td>\n",
              "      <td>NO</td>\n",
              "      <td>NO</td>\n",
              "      <td>NO</td>\n",
              "      <td>NO</td>\n",
              "      <td>NO</td>\n",
              "      <td>NO</td>\n",
              "      <td>NO ESPECIFICADO</td>\n",
              "      <td>NO ESPECIFICADO</td>\n",
              "      <td>NO</td>\n",
              "      <td>USMER</td>\n",
              "      <td>IMSS</td>\n",
              "      <td>MUJER</td>\n",
              "      <td>HOSPITALIZADO</td>\n",
              "      <td>MEXICANA</td>\n",
              "      <td>Positivo SARS-CoV-2</td>\n",
              "      <td>True</td>\n",
              "      <td>7.0</td>\n",
              "      <td>2020.0</td>\n",
              "      <td>6</td>\n",
              "      <td>2020</td>\n",
              "    </tr>\n",
              "    <tr>\n",
              "      <th>11565</th>\n",
              "      <td>2020-09-12</td>\n",
              "      <td>083c34</td>\n",
              "      <td>2020-05-25</td>\n",
              "      <td>2020-05-25</td>\n",
              "      <td>2020-06-01</td>\n",
              "      <td>0</td>\n",
              "      <td>MÃ©xico</td>\n",
              "      <td>99</td>\n",
              "      <td>MÉXICO</td>\n",
              "      <td>CHIMALHUACÁN</td>\n",
              "      <td>MÉXICO</td>\n",
              "      <td>MÉXICO</td>\n",
              "      <td>SI</td>\n",
              "      <td>SI</td>\n",
              "      <td>NO APLICA</td>\n",
              "      <td>NO</td>\n",
              "      <td>NO</td>\n",
              "      <td>NO</td>\n",
              "      <td>NO</td>\n",
              "      <td>NO</td>\n",
              "      <td>NO</td>\n",
              "      <td>NO</td>\n",
              "      <td>NO</td>\n",
              "      <td>NO</td>\n",
              "      <td>NO</td>\n",
              "      <td>NO</td>\n",
              "      <td>SI</td>\n",
              "      <td>NO ESPECIFICADO</td>\n",
              "      <td>SI</td>\n",
              "      <td>USMER</td>\n",
              "      <td>IMSS</td>\n",
              "      <td>HOMBRE</td>\n",
              "      <td>HOSPITALIZADO</td>\n",
              "      <td>MEXICANA</td>\n",
              "      <td>Positivo SARS-CoV-2</td>\n",
              "      <td>True</td>\n",
              "      <td>6.0</td>\n",
              "      <td>2020.0</td>\n",
              "      <td>5</td>\n",
              "      <td>2020</td>\n",
              "    </tr>\n",
              "    <tr>\n",
              "      <th>26116</th>\n",
              "      <td>2020-09-12</td>\n",
              "      <td>02f8e2</td>\n",
              "      <td>2020-05-08</td>\n",
              "      <td>2020-05-01</td>\n",
              "      <td>2020-05-10</td>\n",
              "      <td>0</td>\n",
              "      <td>MÃ©xico</td>\n",
              "      <td>99</td>\n",
              "      <td>BAJA CALIFORNIA</td>\n",
              "      <td>TIJUANA</td>\n",
              "      <td>BAJA CALIFORNIA</td>\n",
              "      <td>BAJA CALIFORNIA</td>\n",
              "      <td>SI</td>\n",
              "      <td>SI</td>\n",
              "      <td>NO APLICA</td>\n",
              "      <td>NO</td>\n",
              "      <td>NO</td>\n",
              "      <td>NO</td>\n",
              "      <td>NO</td>\n",
              "      <td>NO</td>\n",
              "      <td>NO</td>\n",
              "      <td>NO</td>\n",
              "      <td>NO</td>\n",
              "      <td>NO</td>\n",
              "      <td>NO</td>\n",
              "      <td>NO</td>\n",
              "      <td>NO</td>\n",
              "      <td>NO ESPECIFICADO</td>\n",
              "      <td>NO</td>\n",
              "      <td>USMER</td>\n",
              "      <td>SSA</td>\n",
              "      <td>HOMBRE</td>\n",
              "      <td>HOSPITALIZADO</td>\n",
              "      <td>MEXICANA</td>\n",
              "      <td>Positivo SARS-CoV-2</td>\n",
              "      <td>True</td>\n",
              "      <td>5.0</td>\n",
              "      <td>2020.0</td>\n",
              "      <td>5</td>\n",
              "      <td>2020</td>\n",
              "    </tr>\n",
              "    <tr>\n",
              "      <th>50494</th>\n",
              "      <td>2020-09-12</td>\n",
              "      <td>014b5d</td>\n",
              "      <td>2020-05-18</td>\n",
              "      <td>2020-05-17</td>\n",
              "      <td>2020-05-18</td>\n",
              "      <td>0</td>\n",
              "      <td>MÃ©xico</td>\n",
              "      <td>99</td>\n",
              "      <td>BAJA CALIFORNIA</td>\n",
              "      <td>TIJUANA</td>\n",
              "      <td>BAJA CALIFORNIA</td>\n",
              "      <td>BAJA CALIFORNIA</td>\n",
              "      <td>SI</td>\n",
              "      <td>SI</td>\n",
              "      <td>NO APLICA</td>\n",
              "      <td>NO</td>\n",
              "      <td>NO</td>\n",
              "      <td>NO</td>\n",
              "      <td>NO</td>\n",
              "      <td>NO</td>\n",
              "      <td>NO</td>\n",
              "      <td>NO</td>\n",
              "      <td>NO</td>\n",
              "      <td>NO</td>\n",
              "      <td>NO</td>\n",
              "      <td>NO</td>\n",
              "      <td>NO</td>\n",
              "      <td>NO ESPECIFICADO</td>\n",
              "      <td>NO</td>\n",
              "      <td>FUERA DE USMER</td>\n",
              "      <td>ISSSTE</td>\n",
              "      <td>HOMBRE</td>\n",
              "      <td>HOSPITALIZADO</td>\n",
              "      <td>MEXICANA</td>\n",
              "      <td>Positivo SARS-CoV-2</td>\n",
              "      <td>True</td>\n",
              "      <td>5.0</td>\n",
              "      <td>2020.0</td>\n",
              "      <td>5</td>\n",
              "      <td>2020</td>\n",
              "    </tr>\n",
              "    <tr>\n",
              "      <th>60925</th>\n",
              "      <td>2020-09-12</td>\n",
              "      <td>053398</td>\n",
              "      <td>2020-06-11</td>\n",
              "      <td>2020-06-11</td>\n",
              "      <td>2020-06-17</td>\n",
              "      <td>0</td>\n",
              "      <td>MÃ©xico</td>\n",
              "      <td>99</td>\n",
              "      <td>AGUASCALIENTES</td>\n",
              "      <td>AGUASCALIENTES</td>\n",
              "      <td>AGUASCALIENTES</td>\n",
              "      <td>AGUASCALIENTES</td>\n",
              "      <td>NO</td>\n",
              "      <td>NO</td>\n",
              "      <td>NO</td>\n",
              "      <td>NO</td>\n",
              "      <td>NO</td>\n",
              "      <td>NO</td>\n",
              "      <td>NO</td>\n",
              "      <td>NO</td>\n",
              "      <td>NO</td>\n",
              "      <td>SI</td>\n",
              "      <td>NO</td>\n",
              "      <td>NO</td>\n",
              "      <td>NO</td>\n",
              "      <td>NO</td>\n",
              "      <td>NO ESPECIFICADO</td>\n",
              "      <td>NO ESPECIFICADO</td>\n",
              "      <td>NO</td>\n",
              "      <td>USMER</td>\n",
              "      <td>IMSS</td>\n",
              "      <td>MUJER</td>\n",
              "      <td>HOSPITALIZADO</td>\n",
              "      <td>MEXICANA</td>\n",
              "      <td>Positivo SARS-CoV-2</td>\n",
              "      <td>True</td>\n",
              "      <td>6.0</td>\n",
              "      <td>2020.0</td>\n",
              "      <td>6</td>\n",
              "      <td>2020</td>\n",
              "    </tr>\n",
              "    <tr>\n",
              "      <th>...</th>\n",
              "      <td>...</td>\n",
              "      <td>...</td>\n",
              "      <td>...</td>\n",
              "      <td>...</td>\n",
              "      <td>...</td>\n",
              "      <td>...</td>\n",
              "      <td>...</td>\n",
              "      <td>...</td>\n",
              "      <td>...</td>\n",
              "      <td>...</td>\n",
              "      <td>...</td>\n",
              "      <td>...</td>\n",
              "      <td>...</td>\n",
              "      <td>...</td>\n",
              "      <td>...</td>\n",
              "      <td>...</td>\n",
              "      <td>...</td>\n",
              "      <td>...</td>\n",
              "      <td>...</td>\n",
              "      <td>...</td>\n",
              "      <td>...</td>\n",
              "      <td>...</td>\n",
              "      <td>...</td>\n",
              "      <td>...</td>\n",
              "      <td>...</td>\n",
              "      <td>...</td>\n",
              "      <td>...</td>\n",
              "      <td>...</td>\n",
              "      <td>...</td>\n",
              "      <td>...</td>\n",
              "      <td>...</td>\n",
              "      <td>...</td>\n",
              "      <td>...</td>\n",
              "      <td>...</td>\n",
              "      <td>...</td>\n",
              "      <td>...</td>\n",
              "      <td>...</td>\n",
              "      <td>...</td>\n",
              "      <td>...</td>\n",
              "      <td>...</td>\n",
              "    </tr>\n",
              "    <tr>\n",
              "      <th>1439056</th>\n",
              "      <td>2020-09-12</td>\n",
              "      <td>0860f4</td>\n",
              "      <td>2020-06-30</td>\n",
              "      <td>2020-06-30</td>\n",
              "      <td>2020-07-13</td>\n",
              "      <td>0</td>\n",
              "      <td>MÃ©xico</td>\n",
              "      <td>99</td>\n",
              "      <td>PUEBLA</td>\n",
              "      <td>TEHUACÁN</td>\n",
              "      <td>PUEBLA</td>\n",
              "      <td>PUEBLA</td>\n",
              "      <td>NO</td>\n",
              "      <td>NO</td>\n",
              "      <td>NO</td>\n",
              "      <td>NO</td>\n",
              "      <td>NO</td>\n",
              "      <td>NO</td>\n",
              "      <td>NO</td>\n",
              "      <td>NO</td>\n",
              "      <td>NO</td>\n",
              "      <td>NO</td>\n",
              "      <td>NO</td>\n",
              "      <td>NO</td>\n",
              "      <td>NO</td>\n",
              "      <td>NO</td>\n",
              "      <td>NO ESPECIFICADO</td>\n",
              "      <td>NO ESPECIFICADO</td>\n",
              "      <td>NO</td>\n",
              "      <td>FUERA DE USMER</td>\n",
              "      <td>IMSS</td>\n",
              "      <td>MUJER</td>\n",
              "      <td>HOSPITALIZADO</td>\n",
              "      <td>MEXICANA</td>\n",
              "      <td>Resultado pendiente</td>\n",
              "      <td>True</td>\n",
              "      <td>7.0</td>\n",
              "      <td>2020.0</td>\n",
              "      <td>6</td>\n",
              "      <td>2020</td>\n",
              "    </tr>\n",
              "    <tr>\n",
              "      <th>1462455</th>\n",
              "      <td>2020-09-12</td>\n",
              "      <td>1e94e4</td>\n",
              "      <td>2020-08-14</td>\n",
              "      <td>2020-08-06</td>\n",
              "      <td>2020-08-20</td>\n",
              "      <td>0</td>\n",
              "      <td>MÃ©xico</td>\n",
              "      <td>99</td>\n",
              "      <td>SAN LUIS POTOSÍ</td>\n",
              "      <td>SAN LUIS POTOSÍ</td>\n",
              "      <td>SAN LUIS POTOSÍ</td>\n",
              "      <td>SAN LUIS POTOSÍ</td>\n",
              "      <td>SI</td>\n",
              "      <td>SI</td>\n",
              "      <td>NO APLICA</td>\n",
              "      <td>NO</td>\n",
              "      <td>NO</td>\n",
              "      <td>NO</td>\n",
              "      <td>NO</td>\n",
              "      <td>NO</td>\n",
              "      <td>NO</td>\n",
              "      <td>NO</td>\n",
              "      <td>NO</td>\n",
              "      <td>NO</td>\n",
              "      <td>NO</td>\n",
              "      <td>NO</td>\n",
              "      <td>SI</td>\n",
              "      <td>NO ESPECIFICADO</td>\n",
              "      <td>SI</td>\n",
              "      <td>FUERA DE USMER</td>\n",
              "      <td>PRIVADA</td>\n",
              "      <td>HOMBRE</td>\n",
              "      <td>HOSPITALIZADO</td>\n",
              "      <td>MEXICANA</td>\n",
              "      <td>Resultado pendiente</td>\n",
              "      <td>True</td>\n",
              "      <td>8.0</td>\n",
              "      <td>2020.0</td>\n",
              "      <td>8</td>\n",
              "      <td>2020</td>\n",
              "    </tr>\n",
              "    <tr>\n",
              "      <th>1473848</th>\n",
              "      <td>2020-09-12</td>\n",
              "      <td>00f39c</td>\n",
              "      <td>2020-07-06</td>\n",
              "      <td>2020-07-03</td>\n",
              "      <td>2020-07-08</td>\n",
              "      <td>0</td>\n",
              "      <td>MÃ©xico</td>\n",
              "      <td>99</td>\n",
              "      <td>JALISCO</td>\n",
              "      <td>ZAPOTILTIC</td>\n",
              "      <td>JALISCO</td>\n",
              "      <td>JALISCO</td>\n",
              "      <td>NO</td>\n",
              "      <td>SI</td>\n",
              "      <td>NO APLICA</td>\n",
              "      <td>NO</td>\n",
              "      <td>NO</td>\n",
              "      <td>NO</td>\n",
              "      <td>NO</td>\n",
              "      <td>NO</td>\n",
              "      <td>NO</td>\n",
              "      <td>NO</td>\n",
              "      <td>NO</td>\n",
              "      <td>NO</td>\n",
              "      <td>NO</td>\n",
              "      <td>NO</td>\n",
              "      <td>NO</td>\n",
              "      <td>NO ESPECIFICADO</td>\n",
              "      <td>SI</td>\n",
              "      <td>USMER</td>\n",
              "      <td>SSA</td>\n",
              "      <td>HOMBRE</td>\n",
              "      <td>HOSPITALIZADO</td>\n",
              "      <td>MEXICANA</td>\n",
              "      <td>Resultado pendiente</td>\n",
              "      <td>True</td>\n",
              "      <td>7.0</td>\n",
              "      <td>2020.0</td>\n",
              "      <td>7</td>\n",
              "      <td>2020</td>\n",
              "    </tr>\n",
              "    <tr>\n",
              "      <th>1487374</th>\n",
              "      <td>2020-09-12</td>\n",
              "      <td>07cf0b</td>\n",
              "      <td>2020-08-26</td>\n",
              "      <td>2020-08-25</td>\n",
              "      <td>2020-08-27</td>\n",
              "      <td>0</td>\n",
              "      <td>MÃ©xico</td>\n",
              "      <td>99</td>\n",
              "      <td>CHIHUAHUA</td>\n",
              "      <td>JUÁREZ</td>\n",
              "      <td>CHIHUAHUA</td>\n",
              "      <td>COAHUILA DE ZARAGOZA</td>\n",
              "      <td>NO</td>\n",
              "      <td>SI</td>\n",
              "      <td>NO</td>\n",
              "      <td>NO</td>\n",
              "      <td>NO</td>\n",
              "      <td>NO</td>\n",
              "      <td>NO</td>\n",
              "      <td>NO</td>\n",
              "      <td>NO</td>\n",
              "      <td>SE IGNORA</td>\n",
              "      <td>NO</td>\n",
              "      <td>NO</td>\n",
              "      <td>NO</td>\n",
              "      <td>NO</td>\n",
              "      <td>NO ESPECIFICADO</td>\n",
              "      <td>NO ESPECIFICADO</td>\n",
              "      <td>NO</td>\n",
              "      <td>USMER</td>\n",
              "      <td>SSA</td>\n",
              "      <td>MUJER</td>\n",
              "      <td>HOSPITALIZADO</td>\n",
              "      <td>MEXICANA</td>\n",
              "      <td>Resultado pendiente</td>\n",
              "      <td>True</td>\n",
              "      <td>8.0</td>\n",
              "      <td>2020.0</td>\n",
              "      <td>8</td>\n",
              "      <td>2020</td>\n",
              "    </tr>\n",
              "    <tr>\n",
              "      <th>1502388</th>\n",
              "      <td>2020-09-12</td>\n",
              "      <td>3b8095</td>\n",
              "      <td>2020-09-04</td>\n",
              "      <td>2020-09-04</td>\n",
              "      <td>2020-09-06</td>\n",
              "      <td>0</td>\n",
              "      <td>MÃ©xico</td>\n",
              "      <td>99</td>\n",
              "      <td>NUEVO LEÓN</td>\n",
              "      <td>GENERAL TERÁN</td>\n",
              "      <td>NUEVO LEÓN</td>\n",
              "      <td>NUEVO LEÓN</td>\n",
              "      <td>NO</td>\n",
              "      <td>NO</td>\n",
              "      <td>NO</td>\n",
              "      <td>NO</td>\n",
              "      <td>NO</td>\n",
              "      <td>NO</td>\n",
              "      <td>NO</td>\n",
              "      <td>NO</td>\n",
              "      <td>NO</td>\n",
              "      <td>NO</td>\n",
              "      <td>NO</td>\n",
              "      <td>NO</td>\n",
              "      <td>NO</td>\n",
              "      <td>NO</td>\n",
              "      <td>NO</td>\n",
              "      <td>NO ESPECIFICADO</td>\n",
              "      <td>NO</td>\n",
              "      <td>USMER</td>\n",
              "      <td>IMSS</td>\n",
              "      <td>MUJER</td>\n",
              "      <td>HOSPITALIZADO</td>\n",
              "      <td>MEXICANA</td>\n",
              "      <td>Resultado pendiente</td>\n",
              "      <td>True</td>\n",
              "      <td>9.0</td>\n",
              "      <td>2020.0</td>\n",
              "      <td>9</td>\n",
              "      <td>2020</td>\n",
              "    </tr>\n",
              "  </tbody>\n",
              "</table>\n",
              "<p>252 rows × 40 columns</p>\n",
              "</div>"
            ],
            "text/plain": [
              "        fecha_actualizacion id_registro  ... mes_ingreso año_ingreso\n",
              "11277            2020-09-12      18feee  ...           6        2020\n",
              "11565            2020-09-12      083c34  ...           5        2020\n",
              "26116            2020-09-12      02f8e2  ...           5        2020\n",
              "50494            2020-09-12      014b5d  ...           5        2020\n",
              "60925            2020-09-12      053398  ...           6        2020\n",
              "...                     ...         ...  ...         ...         ...\n",
              "1439056          2020-09-12      0860f4  ...           6        2020\n",
              "1462455          2020-09-12      1e94e4  ...           8        2020\n",
              "1473848          2020-09-12      00f39c  ...           7        2020\n",
              "1487374          2020-09-12      07cf0b  ...           8        2020\n",
              "1502388          2020-09-12      3b8095  ...           9        2020\n",
              "\n",
              "[252 rows x 40 columns]"
            ]
          },
          "metadata": {
            "tags": []
          },
          "execution_count": 89
        }
      ]
    },
    {
      "cell_type": "code",
      "metadata": {
        "id": "dQJwSqHMPCrK",
        "colab_type": "code",
        "colab": {
          "base_uri": "https://localhost:8080/",
          "height": 142
        },
        "outputId": "22278448-6799-4fa7-c62b-83bdf6babd11"
      },
      "source": [
        "# ¿Cuál es la edad de los pacientes que fallecen?\n",
        "data.groupby('defuncion').edad.describe()"
      ],
      "execution_count": 90,
      "outputs": [
        {
          "output_type": "execute_result",
          "data": {
            "text/html": [
              "<div>\n",
              "<style scoped>\n",
              "    .dataframe tbody tr th:only-of-type {\n",
              "        vertical-align: middle;\n",
              "    }\n",
              "\n",
              "    .dataframe tbody tr th {\n",
              "        vertical-align: top;\n",
              "    }\n",
              "\n",
              "    .dataframe thead th {\n",
              "        text-align: right;\n",
              "    }\n",
              "</style>\n",
              "<table border=\"1\" class=\"dataframe\">\n",
              "  <thead>\n",
              "    <tr style=\"text-align: right;\">\n",
              "      <th></th>\n",
              "      <th>count</th>\n",
              "      <th>mean</th>\n",
              "      <th>std</th>\n",
              "      <th>min</th>\n",
              "      <th>25%</th>\n",
              "      <th>50%</th>\n",
              "      <th>75%</th>\n",
              "      <th>max</th>\n",
              "    </tr>\n",
              "    <tr>\n",
              "      <th>defuncion</th>\n",
              "      <th></th>\n",
              "      <th></th>\n",
              "      <th></th>\n",
              "      <th></th>\n",
              "      <th></th>\n",
              "      <th></th>\n",
              "      <th></th>\n",
              "      <th></th>\n",
              "    </tr>\n",
              "  </thead>\n",
              "  <tbody>\n",
              "    <tr>\n",
              "      <th>False</th>\n",
              "      <td>1420116.0</td>\n",
              "      <td>40.888838</td>\n",
              "      <td>16.104672</td>\n",
              "      <td>0.0</td>\n",
              "      <td>29.0</td>\n",
              "      <td>39.0</td>\n",
              "      <td>51.0</td>\n",
              "      <td>120.0</td>\n",
              "    </tr>\n",
              "    <tr>\n",
              "      <th>True</th>\n",
              "      <td>90195.0</td>\n",
              "      <td>61.908676</td>\n",
              "      <td>15.218544</td>\n",
              "      <td>0.0</td>\n",
              "      <td>53.0</td>\n",
              "      <td>63.0</td>\n",
              "      <td>73.0</td>\n",
              "      <td>109.0</td>\n",
              "    </tr>\n",
              "  </tbody>\n",
              "</table>\n",
              "</div>"
            ],
            "text/plain": [
              "               count       mean        std  min   25%   50%   75%    max\n",
              "defuncion                                                               \n",
              "False      1420116.0  40.888838  16.104672  0.0  29.0  39.0  51.0  120.0\n",
              "True         90195.0  61.908676  15.218544  0.0  53.0  63.0  73.0  109.0"
            ]
          },
          "metadata": {
            "tags": []
          },
          "execution_count": 90
        }
      ]
    },
    {
      "cell_type": "code",
      "metadata": {
        "id": "lSHPT5Q6ORiB",
        "colab_type": "code",
        "colab": {
          "base_uri": "https://localhost:8080/",
          "height": 187
        },
        "outputId": "2d790cb5-885b-4e92-c7f0-7d1de513553d"
      },
      "source": [
        "# ¿Cuántas defunciones tenemos por mes?\n",
        "data[data.defuncion].mes_def.value_counts().sort_index()"
      ],
      "execution_count": 91,
      "outputs": [
        {
          "output_type": "execute_result",
          "data": {
            "text/plain": [
              "1.0        6\n",
              "2.0       12\n",
              "3.0      232\n",
              "4.0     5294\n",
              "5.0    16091\n",
              "6.0    21461\n",
              "7.0    23855\n",
              "8.0    18791\n",
              "9.0     4453\n",
              "Name: mes_def, dtype: int64"
            ]
          },
          "metadata": {
            "tags": []
          },
          "execution_count": 91
        }
      ]
    },
    {
      "cell_type": "code",
      "metadata": {
        "id": "Qxd5k4CXOsSA",
        "colab_type": "code",
        "colab": {
          "base_uri": "https://localhost:8080/",
          "height": 153
        },
        "outputId": "cf2d6de8-54f8-46c1-ce5a-edfb98e473d2"
      },
      "source": [
        "# ¿Cuál es la proporción de diábeticos para las defunciones?\n",
        "data.groupby('diabetes').defuncion.value_counts(normalize=True)"
      ],
      "execution_count": 92,
      "outputs": [
        {
          "output_type": "execute_result",
          "data": {
            "text/plain": [
              "diabetes   defuncion\n",
              "NO         False        0.958145\n",
              "           True         0.041855\n",
              "SE IGNORA  False        0.873868\n",
              "           True         0.126132\n",
              "SI         False        0.813339\n",
              "           True         0.186661\n",
              "Name: defuncion, dtype: float64"
            ]
          },
          "metadata": {
            "tags": []
          },
          "execution_count": 92
        }
      ]
    },
    {
      "cell_type": "code",
      "metadata": {
        "id": "mHYDq5qXOxES",
        "colab_type": "code",
        "colab": {
          "base_uri": "https://localhost:8080/",
          "height": 153
        },
        "outputId": "d3db4ddb-529f-4729-eda4-95847c991a49"
      },
      "source": [
        "# ¿Cuál es la proporción de asmáticos para las defunciones?\n",
        "data.groupby('asma').defuncion.value_counts(normalize=True)"
      ],
      "execution_count": 93,
      "outputs": [
        {
          "output_type": "execute_result",
          "data": {
            "text/plain": [
              "asma       defuncion\n",
              "NO         False        0.939952\n",
              "           True         0.060048\n",
              "SE IGNORA  False        0.867149\n",
              "           True         0.132851\n",
              "SI         False        0.958165\n",
              "           True         0.041835\n",
              "Name: defuncion, dtype: float64"
            ]
          },
          "metadata": {
            "tags": []
          },
          "execution_count": 93
        }
      ]
    },
    {
      "cell_type": "markdown",
      "metadata": {
        "id": "5oWvqNselWWQ",
        "colab_type": "text"
      },
      "source": [
        "TAREA 3\n",
        "\n",
        "1. ¿Tienen los pacientes con hipertensión un riesgo más alto de defunción?"
      ]
    },
    {
      "cell_type": "code",
      "metadata": {
        "id": "LUVpI7hTlov_",
        "colab_type": "code",
        "colab": {
          "base_uri": "https://localhost:8080/",
          "height": 153
        },
        "outputId": "1f1b1c3a-b2eb-49e8-a70a-f4d0699e877a"
      },
      "source": [
        "data.groupby('hipertension').defuncion.value_counts(normalize=True)"
      ],
      "execution_count": 94,
      "outputs": [
        {
          "output_type": "execute_result",
          "data": {
            "text/plain": [
              "hipertension  defuncion\n",
              "NO            False        0.960768\n",
              "              True         0.039232\n",
              "SE IGNORA     False        0.873276\n",
              "              True         0.126724\n",
              "SI            False        0.834452\n",
              "              True         0.165548\n",
              "Name: defuncion, dtype: float64"
            ]
          },
          "metadata": {
            "tags": []
          },
          "execution_count": 94
        }
      ]
    },
    {
      "cell_type": "markdown",
      "metadata": {
        "id": "_S_rB4meqUG0",
        "colab_type": "text"
      },
      "source": [
        "Solución -> Sí, ya que el 16.55% con tal padecimiento resultaron enfermos (mientras que sólo el 3.92% de los que no tenian la enfermedad se vieron contagiados)"
      ]
    },
    {
      "cell_type": "markdown",
      "metadata": {
        "id": "tYcMx8OMlptK",
        "colab_type": "text"
      },
      "source": [
        "2. ¿Cuántos casos confirmados se tienen por Estado?"
      ]
    },
    {
      "cell_type": "code",
      "metadata": {
        "id": "LkZ6_LcTltcd",
        "colab_type": "code",
        "colab": {
          "base_uri": "https://localhost:8080/",
          "height": 578
        },
        "outputId": "61a95cd6-9a83-4fbd-af21-d3ae673128a2"
      },
      "source": [
        "data[data.resultado == 'Positivo SARS-CoV-2'].entidad_res.value_counts()"
      ],
      "execution_count": 95,
      "outputs": [
        {
          "output_type": "execute_result",
          "data": {
            "text/plain": [
              "CIUDAD DE MÉXICO                   110809\n",
              "MÉXICO                              73353\n",
              "GUANAJUATO                          36391\n",
              "NUEVO LEÓN                          33510\n",
              "VERACRUZ DE IGNACIO DE LA LLAVE     30788\n",
              "TABASCO                             29911\n",
              "PUEBLA                              29046\n",
              "TAMAULIPAS                          26778\n",
              "COAHUILA DE ZARAGOZA                23906\n",
              "SONORA                              23057\n",
              "JALISCO                             22997\n",
              "SAN LUIS POTOSÍ                     20585\n",
              "BAJA CALIFORNIA                     18299\n",
              "MICHOACÁN DE OCAMPO                 17474\n",
              "SINALOA                             17289\n",
              "YUCATÁN                             16453\n",
              "GUERRERO                            16354\n",
              "OAXACA                              14726\n",
              "HIDALGO                             11364\n",
              "QUINTANA ROO                        11055\n",
              "CHIHUAHUA                            8945\n",
              "BAJA CALIFORNIA SUR                  8871\n",
              "DURANGO                              7628\n",
              "QUERÉTARO                            7626\n",
              "TLAXCALA                             6845\n",
              "CHIAPAS                              6373\n",
              "AGUASCALIENTES                       6331\n",
              "ZACATECAS                            6290\n",
              "CAMPECHE                             5772\n",
              "MORELOS                              5533\n",
              "NAYARIT                              5454\n",
              "COLIMA                               4160\n",
              "Name: entidad_res, dtype: int64"
            ]
          },
          "metadata": {
            "tags": []
          },
          "execution_count": 95
        }
      ]
    },
    {
      "cell_type": "markdown",
      "metadata": {
        "id": "UnfUsUTTlt7Y",
        "colab_type": "text"
      },
      "source": [
        "3. ¿Cuántas defunciones se tienen por Estado?"
      ]
    },
    {
      "cell_type": "code",
      "metadata": {
        "id": "feiq6pdKlyzi",
        "colab_type": "code",
        "colab": {
          "base_uri": "https://localhost:8080/",
          "height": 578
        },
        "outputId": "defc0bd9-47e0-405b-fe6c-b599826d6916"
      },
      "source": [
        "data[data.defuncion == True]. entidad_res.value_counts()"
      ],
      "execution_count": 96,
      "outputs": [
        {
          "output_type": "execute_result",
          "data": {
            "text/plain": [
              "MÉXICO                             13635\n",
              "CIUDAD DE MÉXICO                   12012\n",
              "VERACRUZ DE IGNACIO DE LA LLAVE     4853\n",
              "PUEBLA                              4635\n",
              "BAJA CALIFORNIA                     4081\n",
              "JALISCO                             3899\n",
              "SINALOA                             3751\n",
              "NUEVO LEÓN                          3554\n",
              "SONORA                              3282\n",
              "GUANAJUATO                          3185\n",
              "TABASCO                             2929\n",
              "TAMAULIPAS                          2852\n",
              "GUERRERO                            2303\n",
              "COAHUILA DE ZARAGOZA                2196\n",
              "HIDALGO                             2078\n",
              "CHIHUAHUA                           2043\n",
              "MICHOACÁN DE OCAMPO                 1929\n",
              "QUINTANA ROO                        1915\n",
              "YUCATÁN                             1821\n",
              "SAN LUIS POTOSÍ                     1785\n",
              "OAXACA                              1622\n",
              "TLAXCALA                            1331\n",
              "MORELOS                             1255\n",
              "CHIAPAS                             1221\n",
              "QUERÉTARO                           1011\n",
              "CAMPECHE                             958\n",
              "NAYARIT                              823\n",
              "ZACATECAS                            776\n",
              "DURANGO                              721\n",
              "AGUASCALIENTES                       600\n",
              "COLIMA                               598\n",
              "BAJA CALIFORNIA SUR                  541\n",
              "Name: entidad_res, dtype: int64"
            ]
          },
          "metadata": {
            "tags": []
          },
          "execution_count": 96
        }
      ]
    },
    {
      "cell_type": "markdown",
      "metadata": {
        "id": "9kggjNn2lzU4",
        "colab_type": "text"
      },
      "source": [
        "4. ¿Cuántos fallecimientos han ocurrido en el Estado con mayor número de casos confirmados?"
      ]
    },
    {
      "cell_type": "code",
      "metadata": {
        "id": "cXDbiGz1l3xC",
        "colab_type": "code",
        "colab": {
          "base_uri": "https://localhost:8080/",
          "height": 51
        },
        "outputId": "5abd1ee2-c950-4e8e-8e3a-f032b7270edf"
      },
      "source": [
        "data[data.defuncion & (data.entidad_res == \"CIUDAD DE MÉXICO\")].defuncion.value_counts()"
      ],
      "execution_count": 97,
      "outputs": [
        {
          "output_type": "execute_result",
          "data": {
            "text/plain": [
              "True    12012\n",
              "Name: defuncion, dtype: int64"
            ]
          },
          "metadata": {
            "tags": []
          },
          "execution_count": 97
        }
      ]
    },
    {
      "cell_type": "markdown",
      "metadata": {
        "id": "iKo_k1Fkl4ST",
        "colab_type": "text"
      },
      "source": [
        "5. ¿Cuántos fallecimientos han ocurrido en los pacientes Ambulatorios?"
      ]
    },
    {
      "cell_type": "code",
      "metadata": {
        "id": "dVjEEiQ-l7z1",
        "colab_type": "code",
        "colab": {
          "base_uri": "https://localhost:8080/",
          "height": 51
        },
        "outputId": "ea010b02-32e1-44f3-efb6-6292c6508b0a"
      },
      "source": [
        "data[data.defuncion & (data.tipo_paciente == \"AMBULATORIO\")].defuncion.value_counts()"
      ],
      "execution_count": 98,
      "outputs": [
        {
          "output_type": "execute_result",
          "data": {
            "text/plain": [
              "True    9609\n",
              "Name: defuncion, dtype: int64"
            ]
          },
          "metadata": {
            "tags": []
          },
          "execution_count": 98
        }
      ]
    }
  ]
}